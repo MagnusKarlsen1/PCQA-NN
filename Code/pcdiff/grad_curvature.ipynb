{
 "cells": [
  {
   "cell_type": "code",
   "execution_count": 2,
   "metadata": {},
   "outputs": [],
   "source": [
    "def xyz_projected(pos, normal, x_basis, y_basis, edge_index, k=None):\n",
    "    \"\"\"Projects neighboring points to the tangent basis\n",
    "    and returns the local coordinates.\n",
    "\n",
    "    Args:\n",
    "        pos (Tensor): an [N, 3] tensor with the point positions.\n",
    "        normal (Tensor): an [N, 3] tensor with normals per point.\n",
    "        x_basis (Tensor): an [N, 3] tensor with x basis per point.\n",
    "        y_basis (Tensor): an [N, 3] tensor with y basis per point.\n",
    "        edge_index (Tensor): indices of the adjacency matrix of the k-nn graph [2, N * k].\n",
    "        k (int): the number of neighbors per point.\n",
    "    \"\"\"\n",
    "    row, col = edge_index\n",
    "    k = (row == 0).sum() if k is None else k\n",
    "\n",
    "    # Compute coords\n",
    "    normal = np.tile(normal[:, None], (1, k, 1)).reshape(-1, 3)\n",
    "    x_basis = np.tile(x_basis[:, None], (1, k, 1)).reshape(-1, 3)\n",
    "    y_basis = np.tile(y_basis[:, None], (1, k, 1)).reshape(-1, 3)\n",
    "    local_pos = pos[col] - pos[row]\n",
    "    z_pos = batch_dot(local_pos, normal)\n",
    "    local_pos = local_pos - normal * z_pos\n",
    "    x_pos = batch_dot(local_pos, x_basis).flatten()\n",
    "    y_pos = batch_dot(local_pos, y_basis).flatten()\n",
    "    coords = np.stack([x_pos, y_pos], axis=1)\n",
    "\n",
    "    return coords, z_pos"
   ]
  },
  {
   "cell_type": "code",
   "execution_count": 5,
   "metadata": {},
   "outputs": [],
   "source": [
    "import numpy as np\n",
    "from numpy import linalg as LA\n",
    "from pcdiff import knn_graph, estimate_basis, build_grad_div, laplacian, coords_projected, gaussian_weights, weighted_least_squares, batch_dot\n",
    "\n",
    "def grad_curvature(pos, k_fit, kernel_width=1, regularizer=1e-8, shape_regularizer=None):\n",
    "\n",
    "    fit_neighbours = knn_graph(pos, k_fit)\n",
    "\n",
    "    normal, x_basis, y_basis = estimate_basis(pos, fit_neighbours)\n",
    "\n",
    "    row, col = fit_neighbours\n",
    "    k = (row == 0).sum()\n",
    "\n",
    "    coords, z_pos = xyz_projected(pos, normal, x_basis, y_basis, fit_neighbours, k)\n",
    "\n",
    "    dist = LA.norm(pos[col] - pos[row], axis=1)\n",
    "    weights = gaussian_weights(dist, k, kernel_width)\n",
    "\n",
    "    if shape_regularizer is None:\n",
    "        wls = weighted_least_squares(coords, weights, k, regularizer)\n",
    "    else:\n",
    "        wls, wls_shape = weighted_least_squares(coords, weights, k, regularizer, shape_regularizer)\n",
    "\n",
    "    C = (wls * z_pos).reshape(-1, k, 6).sum(axis=1)\n",
    "\n",
    "    # df/dx^2 = 2*c3\n",
    "    grad_xx = 2 * C[:,3]\n",
    "    \n",
    "    # df/dxdy = c4\n",
    "    grad_xy = C[:,4]\n",
    "    \n",
    "    # df/dy^2 = 2*c5\n",
    "    grad_yy = 2 * C[:,5]\n",
    "\n",
    "    C = C[row]\n",
    "\n",
    "    # df/dx = c1 + 2*c3*x + c4*y\n",
    "    grad_x = C[:,1] + 2 * C[:,3] * coords[:,0] + C[:,4] * coords[:,1]\n",
    "\n",
    "    # df/dy = c2 + 2*c5*y + c4*x\n",
    "    grad_y = C[:,2] + 2 * C[:,5] * coords[:,1] + C[:,4] * coords[:,0]\n",
    "    \n",
    "    grad = np.column_stack((grad_x, grad_y))\n",
    "    curvature = grad_xx + 2 * grad_xy + grad_yy\n",
    "\n",
    "    return grad.reshape(-1,k_fit,2), curvature"
   ]
  },
  {
   "cell_type": "code",
   "execution_count": null,
   "metadata": {},
   "outputs": [],
   "source": [
    "def "
   ]
  },
  {
   "cell_type": "code",
   "execution_count": 6,
   "metadata": {},
   "outputs": [
    {
     "name": "stdout",
     "output_type": "stream",
     "text": [
      "(35947, 20, 2)\n",
      "(35947,)\n",
      "(35947, 3)\n"
     ]
    }
   ],
   "source": [
    "data = np.loadtxt('C:/Users/aagaa/Documents/GitHub/R-D/Code/Leihui Code/src/data/bunny.xyz')\n",
    "pos = data[:, 0:3]\n",
    "\n",
    "grad, curv = grad_curvature(pos, 20, kernel_width=1, regularizer=1e-8, shape_regularizer=None)\n",
    "\n",
    "print(grad.shape)\n",
    "print(curv.shape)\n",
    "print(pos.shape)"
   ]
  },
  {
   "cell_type": "code",
   "execution_count": 78,
   "metadata": {},
   "outputs": [
    {
     "data": {
      "text/plain": [
       "(50, 2, 6)"
      ]
     },
     "execution_count": 78,
     "metadata": {},
     "output_type": "execute_result"
    }
   ],
   "source": [
    "np.zeros((100,6)).reshape(-1,2,6).shape"
   ]
  }
 ],
 "metadata": {
  "kernelspec": {
   "display_name": "rd",
   "language": "python",
   "name": "python3"
  },
  "language_info": {
   "codemirror_mode": {
    "name": "ipython",
    "version": 3
   },
   "file_extension": ".py",
   "mimetype": "text/x-python",
   "name": "python",
   "nbconvert_exporter": "python",
   "pygments_lexer": "ipython3",
   "version": "3.12.9"
  }
 },
 "nbformat": 4,
 "nbformat_minor": 2
}
