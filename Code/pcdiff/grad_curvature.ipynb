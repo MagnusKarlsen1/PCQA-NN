{
 "cells": [
  {
   "cell_type": "code",
   "execution_count": 2,
   "metadata": {},
   "outputs": [],
   "source": [
    "def xyz_projected(pos, normal, x_basis, y_basis, edge_index, k=None):\n",
    "    \"\"\"Projects neighboring points to the tangent basis\n",
    "    and returns the local coordinates.\n",
    "\n",
    "    Args:\n",
    "        pos (Tensor): an [N, 3] tensor with the point positions.\n",
    "        normal (Tensor): an [N, 3] tensor with normals per point.\n",
    "        x_basis (Tensor): an [N, 3] tensor with x basis per point.\n",
    "        y_basis (Tensor): an [N, 3] tensor with y basis per point.\n",
    "        edge_index (Tensor): indices of the adjacency matrix of the k-nn graph [2, N * k].\n",
    "        k (int): the number of neighbors per point.\n",
    "    \"\"\"\n",
    "    row, col = edge_index\n",
    "    k = (row == 0).sum() if k is None else k\n",
    "\n",
    "    # Compute coords\n",
    "    normal = np.tile(normal[:, None], (1, k, 1)).reshape(-1, 3)\n",
    "    x_basis = np.tile(x_basis[:, None], (1, k, 1)).reshape(-1, 3)\n",
    "    y_basis = np.tile(y_basis[:, None], (1, k, 1)).reshape(-1, 3)\n",
    "    local_pos = pos[col] - pos[row]\n",
    "    z_pos = batch_dot(local_pos, normal)\n",
    "    local_pos = local_pos - normal * z_pos\n",
    "    x_pos = batch_dot(local_pos, x_basis).flatten()\n",
    "    y_pos = batch_dot(local_pos, y_basis).flatten()\n",
    "    coords = np.stack([x_pos, y_pos], axis=1)\n",
    "\n",
    "    return coords, z_pos"
   ]
  },
  {
   "cell_type": "code",
   "execution_count": 3,
   "metadata": {},
   "outputs": [],
   "source": [
    "import numpy as np\n",
    "from numpy import linalg as LA\n",
    "from pcdiff import knn_graph, estimate_basis, build_grad_div, laplacian, coords_projected, gaussian_weights, weighted_least_squares, batch_dot\n",
    "\n",
    "def grad_curvature(pos, k, kernel_width=1, regularizer=1e-8, shape_regularizer=None):\n",
    "\n",
    "    edge_index = knn_graph(pos, k)\n",
    "\n",
    "    normal, x_basis, y_basis = estimate_basis(pos, edge_index)\n",
    "\n",
    "    row, col = edge_index\n",
    "\n",
    "    coords, z_pos = xyz_projected(pos, normal, x_basis, y_basis, edge_index, k)\n",
    "\n",
    "    dist = LA.norm(pos[col] - pos[row], axis=1)\n",
    "    weights = gaussian_weights(dist, k, kernel_width)\n",
    "\n",
    "    if shape_regularizer is None:\n",
    "        wls = weighted_least_squares(coords, weights, k, regularizer)\n",
    "    else:\n",
    "        wls, wls_shape = weighted_least_squares(coords, weights, k, regularizer, shape_regularizer)\n",
    "\n",
    "    C = (wls * z_pos).reshape(-1, k, 6).sum(axis=1)\n",
    "\n",
    "    # df/dx^2 = 2*c3\n",
    "    grad_xx = 2 * C[:,3]\n",
    "    \n",
    "    # df/dxdy = c4\n",
    "    grad_xy = C[:,4]\n",
    "    \n",
    "    # df/dy^2 = 2*c5\n",
    "    grad_yy = 2 * C[:,5]\n",
    "\n",
    "    C = C[row]\n",
    "\n",
    "    # df/dx = c1 + 2*c3*x + c4*y\n",
    "    grad_x = C[:,1] + 2 * C[:,3] * coords[:,0] + C[:,4] * coords[:,1]\n",
    "\n",
    "    # df/dy = c2 + 2*c5*y + c4*x\n",
    "    grad_y = C[:,2] + 2 * C[:,5] * coords[:,1] + C[:,4] * coords[:,0]\n",
    "    \n",
    "    grad = np.column_stack((grad_x, grad_y))\n",
    "    curvature = grad_xx + 2 * grad_xy + grad_yy\n",
    "\n",
    "    return grad.reshape(-1, k, 2), curvature, edge_index"
   ]
  },
  {
   "cell_type": "code",
   "execution_count": 4,
   "metadata": {},
   "outputs": [],
   "source": [
    "import torch\n",
    "import jax\n",
    "import jax.numpy as jnp\n",
    "\n",
    "def L2norm_nbh(data, comparison_size, origin_index=0):\n",
    "    # Convert PyTorch tensor to JAX array if needed\n",
    "    if isinstance(data, torch.Tensor):\n",
    "        data = jax.device_put(data.detach().cpu().numpy())  # Convert to JAX arrayee\n",
    "\n",
    "    data_jax = jnp.array(data)[:, 0:comparison_size, :]  # Ensure JAX array\n",
    "\n",
    "    # Select the origin point from each batch (shape: (batch_size, num_features))\n",
    "    origin = data_jax[:, origin_index, :]\n",
    "\n",
    "    # Compute L2 norm for each row in the neighborhood (shape: (batch_size, num_neighbors))\n",
    "    dist = jnp.linalg.norm(data_jax - origin[:, None, :], axis=2)\n",
    "\n",
    "    return dist  # Shape: (batch_size, num_neighbors)"
   ]
  },
  {
   "cell_type": "code",
   "execution_count": null,
   "metadata": {},
   "outputs": [],
   "source": [
    "def get_nn_data(pos, k, comparison_size):\n",
    "\n",
    "    grad, curv, edge_index = grad_curvature(pos, k, kernel_width=1, regularizer=1e-8, shape_regularizer=None)\n",
    "    row, col = edge_index\n",
    "\n",
    "    grad_dist = L2norm_nbh(grad, comparison_size)\n",
    "    \n",
    "    pos_dist = L2norm_nbh(pos[col].reshape(-1, k, 3), comparison_size)\n",
    "\n",
    "    print(grad_dist.shape)\n",
    "    print(pos_dist.shape)\n",
    "    print(curv.shape)\n",
    "\n",
    "    return pos_dist, grad_dist, curv"
   ]
  },
  {
   "cell_type": "code",
   "execution_count": null,
   "metadata": {},
   "outputs": [
    {
     "name": "stdout",
     "output_type": "stream",
     "text": [
      "(35947, 6)\n",
      "(35947, 6)\n",
      "(35947,)\n"
     ]
    },
    {
     "data": {
      "text/plain": [
       "(Array([[0.        , 0.00106694, 0.00110564, 0.00139692, 0.00143117,\n",
       "         0.00170653],\n",
       "        [0.        , 0.00041083, 0.0010538 , 0.0014084 , 0.00144653,\n",
       "         0.00167976],\n",
       "        [0.        , 0.00101533, 0.00103636, 0.00167158, 0.00181286,\n",
       "         0.00181987],\n",
       "        ...,\n",
       "        [0.        , 0.00077309, 0.00091525, 0.00098134, 0.00117566,\n",
       "         0.0011796 ],\n",
       "        [0.        , 0.00086968, 0.00089027, 0.00109637, 0.00110807,\n",
       "         0.00132429],\n",
       "        [0.        , 0.00111946, 0.00112335, 0.00139004, 0.00150597,\n",
       "         0.00159717]], dtype=float32),\n",
       " Array([[0.0000000e+00, 6.7159667e-06, 6.8769832e-06, 7.4498157e-06,\n",
       "         7.0971555e-06, 1.4111134e-05],\n",
       "        [0.0000000e+00, 1.4830521e-05, 3.4024673e-05, 4.9797964e-05,\n",
       "         2.8253722e-05, 5.9923361e-05],\n",
       "        [0.0000000e+00, 4.9959210e-05, 4.9881623e-05, 2.2313137e-05,\n",
       "         7.1261478e-05, 2.2709648e-05],\n",
       "        ...,\n",
       "        [0.0000000e+00, 3.5556997e-05, 4.7817190e-05, 4.6445872e-05,\n",
       "         6.2464402e-05, 5.7741123e-05],\n",
       "        [0.0000000e+00, 5.0468288e-06, 1.2412989e-06, 3.1441843e-05,\n",
       "         3.3544784e-05, 3.7216898e-05],\n",
       "        [0.0000000e+00, 9.2875462e-06, 2.1806289e-05, 1.9606168e-05,\n",
       "         9.1128268e-06, 7.3967949e-06]], dtype=float32),\n",
       " array([ 0.0168413 , -0.0092931 , -0.05750654, ...,  0.06859505,\n",
       "        -0.05342498,  0.03228077]))"
      ]
     },
     "execution_count": 7,
     "metadata": {},
     "output_type": "execute_result"
    }
   ],
   "source": [
    "# data = np.loadtxt('C:/Users/aagaa/Documents/GitHub/R-D/Code/Leihui Code/src/data/bunny.xyz')\n",
    "# pos = data[:, 0:3]\n",
    "# k = 20\n",
    "\n",
    "# get_nn_data(pos, k, 6)"
   ]
  }
 ],
 "metadata": {
  "kernelspec": {
   "display_name": "rd",
   "language": "python",
   "name": "python3"
  },
  "language_info": {
   "codemirror_mode": {
    "name": "ipython",
    "version": 3
   },
   "file_extension": ".py",
   "mimetype": "text/x-python",
   "name": "python",
   "nbconvert_exporter": "python",
   "pygments_lexer": "ipython3",
   "version": "3.12.9"
  }
 },
 "nbformat": 4,
 "nbformat_minor": 2
}
