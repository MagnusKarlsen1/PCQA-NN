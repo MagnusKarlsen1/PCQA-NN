{
 "cells": [
  {
   "cell_type": "code",
   "execution_count": 3,
   "execution_count": 1,
   "metadata": {},
   "outputs": [
    {
     "name": "stdout",
     "output_type": "stream",
     "text": [
      "[0 1 0 1 0 1 2 3 2 3 2 3 4 5 4 5 4 5]\n"
     ]
    }
   ],
   "source": [
    "import numpy as np\n",
    "\n",
    "row = np.array([0, 0, 0, 1, 1, 1, 2, 2, 2])  # Example row indices\n",
    "\n",
    "grad_row = np.stack([row * 2, row * 2 + 1], axis=1).flatten()\n",
    "print(grad_row)\n"
   ]
  },
  {
   "cell_type": "code",
   "execution_count": 1,
   "execution_count": 6,
   "metadata": {},
   "outputs": [
    {
     "name": "stdout",
     "output_type": "stream",
     "text": [
      "(718940, 6)\n",
      "(71894, 35947)\n",
      "(35947, 3)\n",
      "[0 1 0 1 0 1 0 1 0 1 0 1 0 1 0 1 0 1 0 1 0 1 0 1 0 1 0 1 0 1 0 1 0 1 0 1 0\n",
      " 1 0 1]\n",
      "(1437880,)\n",
      "(1437880,)\n",
      "20\n"
     ]
    }
   ],
   "source": [
    "import numpy as np\n",
    "from pcdiff import knn_graph, estimate_basis, build_grad_div, laplacian, coords_projected, weighted_least_squares, gaussian_weights\n",
    "import numpy as np\n",
    "import numpy.linalg as LA\n",
    "from scipy.sparse import coo_matrix\n",
    "\n",
    "regularizer=1e-8\n",
    "shape_regularizer=None\n",
    "\n",
    "data = np.loadtxt('C:/Users/aagaa/Documents/GitHub/R-D/Code/Leihui Code/src/data/bunny.xyz')\n",
    "pos = data[:, 0:3]\n",
    "# Random point cloud\n",
    "#pos = np.random.rand(1000, 3)\n",
    "\n",
    "Cloud_size = np.size(pos,0)\n",
    "\n",
    "# Generate kNN graph\n",
    "edge_index = knn_graph(pos, 20)\n",
    "# Estimate normals and local frames\n",
    "basis = estimate_basis(pos, edge_index)\n",
    "\n",
    "row, col = edge_index\n",
    "k = (row == 0).sum()\n",
    "\n",
    "# Get coordinates in tangent plane by projecting along the normal of the plane\n",
    "coords = coords_projected(pos, *basis, edge_index)\n",
    "\n",
    "# Compute weights based on distance in euclidean space\n",
    "dist = LA.norm(pos[col] - pos[row], axis=1)\n",
    "weights = gaussian_weights(dist, k, 1)\n",
    "\n",
    "# Get weighted least squares result\n",
    "# wls multiplied with a function f at k neighbors will give the coefficients c0-c5\n",
    "# for the surface f(x, y) = [x, y, c0 + c1*x + c2*y + c3*x**2 + c4*xy + c5*y**2]\n",
    "# defined on a neighborhood of each point.\n",
    "if shape_regularizer is None:\n",
    "    wls = weighted_least_squares(coords, weights, k, regularizer)\n",
    "else:\n",
    "    wls, wls_shape = weighted_least_squares(coords, weights, k, regularizer, shape_regularizer)\n",
    "\n",
    "# Format as sparse matrix\n",
    "\n",
    "# The gradient of f at (0, 0) will be\n",
    "# df/dx|(0, 0) = [1, 0, c1 + 2*c3*0 + c4*0] = [1, 0, c1]\n",
    "# df/dy|(0, 0) = [0, 1, c2 + c4*0 + 2*c5*0] = [0, 1, c2]\n",
    "# Hence, we can use the row in wls that outputs c1 and c2 for the gradient\n",
    "# in x direction and y direction, respectively\n",
    "grad_row = np.stack([row * 2, row * 2 + 1], axis=1).flatten()\n",
    "grad_col = np.stack([col]*2, axis=1).flatten()\n",
    "grad_values = np.stack([wls[:, 1], wls[:, 2]], axis=1).flatten()\n",
    "\n",
    "# Create gradient matrix\n",
    "grad = coo_matrix((grad_values, (grad_row, grad_col)), shape=(pos.shape[0] * 2, pos.shape[0]))\n",
    "\n",
    "print(wls.shape)\n",
    "print(grad.shape)\n",
    "print(pos.shape)\n",
    "print(grad_row[0:40])\n",
    "print(grad_col.shape)\n",
    "print(grad_values.shape)\n",
    "print(np.sum(grad.row==0))"
   ]
  },
  {
   "cell_type": "code",
   "execution_count": 9,
   "metadata": {},
   "outputs": [],
   "source": [
    "from pcdiff import knn_graph, estimate_basis, build_grad_div\n",
    "\n",
    "\n",
    "\n",
    "\n",
    "def calculate_gradients(pointcloud, k_neighbors):\n",
    "    #TODO: Find out if this is only grad_x or just the gradient found here, maybe need more info for complete gradient\n",
    "    edge_index = knn_graph(pointcloud, k_neighbors)\n",
    "    normal, x_basis, y_basis = estimate_basis(pointcloud, edge_index)\n",
    "    row, col = edge_index\n",
    "    k = (row == 0).sum()\n",
    "\n",
    "    # Get coordinates in tangent plane by projecting along the normal of the plane\n",
    "    coords = coords_projected(pos, *basis, edge_index)\n",
    "\n",
    "    # Compute weights based on distance in euclidean space\n",
    "    dist = LA.norm(pos[col] - pos[row], axis=1)\n",
    "    weights = gaussian_weights(dist, k, 1)\n",
    "\n",
    "    # Get weighted least squares result\n",
    "    # wls multiplied with a function f at k neighbors will give the coefficients c0-c5\n",
    "    # for the surface f(x, y) = [x, y, c0 + c1*x + c2*y + c3*x**2 + c4*xy + c5*y**2]\n",
    "    # defined on a neighborhood of each point.\n",
    "    if shape_regularizer is None:\n",
    "        wls = weighted_least_squares(coords, weights, k, regularizer)\n",
    "    else:\n",
    "        wls, wls_shape = weighted_least_squares(coords, weights, k, regularizer, shape_regularizer)\n",
    "    \n",
    "    gradients = wls[::20,1:3]    \n",
    "    return gradients \n"
   ]
  },
  {
   "cell_type": "code",
   "execution_count": 10,
   "metadata": {},
   "outputs": [
    {
     "data": {
      "text/plain": [
       "array([[  3.50776946,  -1.14131284],\n",
       "       [ -2.29210178,   1.41623772],\n",
       "       [ -5.53423966,   4.80631342],\n",
       "       ...,\n",
       "       [-77.71204982, -21.36010264],\n",
       "       [ 44.63317144, -15.24749962],\n",
       "       [  9.5745682 ,   3.04100186]])"
      ]
     },
     "execution_count": 10,
     "metadata": {},
     "output_type": "execute_result"
    }
   ],
   "source": [
    "calculate_gradients(pos, 20)"
   ]
  },
  {
   "cell_type": "code",
   "execution_count": 5,
   "metadata": {},
   "outputs": [
    {
     "name": "stdout",
     "output_type": "stream",
     "text": [
      "[[  1   2   3   4   5   6]\n",
      " [  2   3   4   5   6   7]\n",
      " [  3   4   5   6   7   8]\n",
      " ...\n",
      " [298 299 300 301 302 303]\n",
      " [299 300 301 302 303 304]\n",
      " [300 301 302 303 304 305]]\n",
      "[[  2   3]\n",
      " [ 22  23]\n",
      " [ 42  43]\n",
      " [ 62  63]\n",
      " [ 82  83]\n",
      " [102 103]\n",
      " [122 123]\n",
      " [142 143]\n",
      " [162 163]\n",
      " [182 183]\n",
      " [202 203]\n",
      " [222 223]\n",
      " [242 243]\n",
      " [262 263]\n",
      " [282 283]]\n"
     ]
    }
   ],
   "source": [
    "\n",
    "# Generate a base sequence from 1 to 300 (300 rows)\n",
    "base = np.arange(1, 301).reshape(-1, 1)  # Shape: (300, 1)\n",
    "\n",
    "# Create the 300x6 matrix with shifted values in columns\n",
    "arr = base + np.arange(6)  # Broadcasting shifts each column\n",
    "\n",
    "print(arr)\n",
    "\n",
    "print(arr[::20,1:3])"
   ]
  }
 ],
 "metadata": {
  "kernelspec": {
   "display_name": "rd",
   "language": "python",
   "name": "python3"
  },
  "language_info": {
   "codemirror_mode": {
    "name": "ipython",
    "version": 3
   },
   "file_extension": ".py",
   "mimetype": "text/x-python",
   "name": "python",
   "nbconvert_exporter": "python",
   "pygments_lexer": "ipython3",
   "version": "3.12.9"
  }
 },
 "nbformat": 4,
 "nbformat_minor": 2
}
