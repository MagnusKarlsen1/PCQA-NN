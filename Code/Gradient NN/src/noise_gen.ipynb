{
 "cells": [
  {
   "cell_type": "code",
   "execution_count": 5,
   "id": "b2c03e1f",
   "metadata": {},
   "outputs": [],
   "source": [
    "import jax\n",
    "import jax.numpy as jnp\n",
    "import optax\n",
    "import flax.nnx as nnx\n",
    "from flax.training import train_state\n",
    "from sklearn.model_selection import train_test_split\n",
    "from sklearn.model_selection import train_test_split\n",
    "from sklearn.preprocessing import StandardScaler\n",
    "import jax\n",
    "import jax.numpy as jnp\n",
    "import flax.nnx as nnx\n",
    "from jax import random\n",
    "from flax import serialization\n",
    "import json\n",
    "import optax\n",
    "import numpy as np\n",
    "from sklearn.utils.estimator_checks import check_is_fitted\n",
    "from sklearn.base import BaseEstimator, _fit_context\n",
    "from sklearn.model_selection import GridSearchCV\n",
    "from sklearn.metrics import r2_score\n",
    "from sklearn.pipeline import Pipeline\n",
    "from tqdm.notebook import tqdm # progress bar\n",
    "from sklearn.preprocessing import StandardScaler\n",
    "import logging\n",
    "from tqdm import trange\n",
    "from matplotlib.pyplot import plot\n",
    "import joblib\n",
    "import msgpack\n",
    "import pathlib\n",
    "import os\n",
    "import sys\n",
    "\n",
    "try:\n",
    "    BASE_DIR = os.path.dirname(os.path.abspath(__file__))\n",
    "except NameError:\n",
    "    # __file__ is not defined in Jupyter, so use current working directory\n",
    "    BASE_DIR = os.getcwd()\n",
    "\n",
    "DRAWINGS_PATH = os.path.abspath(os.path.join(BASE_DIR, \"../../../Drawings\"))\n",
    "sys.path.append(DRAWINGS_PATH)\n",
    "\n",
    "GRADIENT_NN_SRC = os.path.abspath(os.path.join(BASE_DIR, \"../../Code/Gradient NN/src\"))\n",
    "sys.path.append(GRADIENT_NN_SRC)\n",
    "\n",
    "import meshlab_functions as mf\n",
    "import solidworks_functions as sf\n",
    "import geometric_functions as gf\n"
   ]
  },
  {
   "cell_type": "code",
   "execution_count": null,
   "id": "eb9322c9",
   "metadata": {},
   "outputs": [],
   "source": [
    "pointcloud = np.loadtxt(\"../../Leihui Code/dataset/SelfGeneratedClouds/Chain_wheel05mm.xyz\", usecols=(0, 1, 2)) # NOTE: Load the saved pointcloud\n",
    "pc_w_holes = mf.create_mesh_holes(pointcloud,2, 10) # NOTE: Create mesh holes\n",
    "\n",
    "\n",
    "np.savetxt(\"my_array.txt\", pc_w_holes, fmt='%.3f', delimiter=' ')"
   ]
  }
 ],
 "metadata": {
  "kernelspec": {
   "display_name": "rd",
   "language": "python",
   "name": "python3"
  },
  "language_info": {
   "codemirror_mode": {
    "name": "ipython",
    "version": 3
   },
   "file_extension": ".py",
   "mimetype": "text/x-python",
   "name": "python",
   "nbconvert_exporter": "python",
   "pygments_lexer": "ipython3",
   "version": "3.12.9"
  }
 },
 "nbformat": 4,
 "nbformat_minor": 5
}
