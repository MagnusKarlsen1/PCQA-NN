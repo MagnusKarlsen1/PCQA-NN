{
 "cells": [
  {
   "cell_type": "code",
   "execution_count": 2,
   "id": "b2c03e1f",
   "metadata": {},
   "outputs": [],
   "source": [
    "import jax\n",
    "import jax.numpy as jnp\n",
    "import optax\n",
    "import flax.nnx as nnx\n",
    "from flax.training import train_state\n",
    "from sklearn.model_selection import train_test_split\n",
    "from sklearn.model_selection import train_test_split\n",
    "from sklearn.preprocessing import StandardScaler\n",
    "import jax\n",
    "import jax.numpy as jnp\n",
    "import flax.nnx as nnx\n",
    "from jax import random\n",
    "from flax import serialization\n",
    "import json\n",
    "import optax\n",
    "import numpy as np\n",
    "from sklearn.utils.estimator_checks import check_is_fitted\n",
    "from sklearn.base import BaseEstimator, _fit_context\n",
    "from sklearn.model_selection import GridSearchCV\n",
    "from sklearn.metrics import r2_score\n",
    "from sklearn.pipeline import Pipeline\n",
    "from tqdm.notebook import tqdm # progress bar\n",
    "from sklearn.preprocessing import StandardScaler\n",
    "import logging\n",
    "from tqdm import trange\n",
    "from matplotlib.pyplot import plot\n",
    "import joblib\n",
    "import msgpack\n",
    "import pathlib\n",
    "import os\n",
    "import sys\n",
    "\n",
    "try:\n",
    "    BASE_DIR = os.path.dirname(os.path.abspath(__file__))\n",
    "except NameError:\n",
    "    # __file__ is not defined in Jupyter, so use current working directory\n",
    "    BASE_DIR = os.getcwd()\n",
    "\n",
    "DRAWINGS_PATH = os.path.abspath(os.path.join(BASE_DIR, \"../../../Drawings\"))\n",
    "sys.path.append(DRAWINGS_PATH)\n",
    "\n",
    "GRADIENT_NN_SRC = os.path.abspath(os.path.join(BASE_DIR, \"../../Code/Gradient NN/src\"))\n",
    "sys.path.append(GRADIENT_NN_SRC)\n",
    "\n",
    "import meshlab_functions as mf\n",
    "import solidworks_functions as sf\n",
    "import geometric_functions as gf\n"
   ]
  },
  {
   "cell_type": "code",
   "execution_count": null,
   "id": "eb9322c9",
   "metadata": {},
   "outputs": [
    {
     "name": "stdout",
     "output_type": "stream",
     "text": [
      "(35947, 3)\n",
      "(34897, 3)\n"
     ]
    }
   ],
   "source": [
    "pointcloud = np.loadtxt(\"../../Leihui Code/dataset/SelfGeneratedClouds/Chain_wheel05mm.xyz\", usecols=(0, 1, 2)) # NOTE: Load the saved pointcloud\n",
    "pc_w_holes = mf.create_mesh_holes(pointcloud,40, 10) # NOTE: Create mesh holes\n",
    "\n",
    "print(pointcloud.shape)\n",
    "print(pc_w_holes.shape)\n",
    "\n",
    "np.savetxt(\"../Data/Training_data/Gear_w_holes_40_10.txt\", pc_w_holes, fmt='%.3f', delimiter=' ')"
   ]
  },
  {
   "cell_type": "code",
   "execution_count": null,
   "id": "ef07e289",
   "metadata": {},
   "outputs": [
    {
     "name": "stderr",
     "output_type": "stream",
     "text": [
      "c:\\Users\\magnu\\anaconda3\\envs\\rd\\Lib\\site-packages\\pyntcloud\\scalar_fields\\eigenvalues.py:77: RuntimeWarning: invalid value encountered in power\n",
      "  self.to_be_added[name] = np.nan_to_num((ev[:, 0] * ev[:, 1] * ev[:, 2]) ** (1 / 3))\n",
      "c:\\Users\\magnu\\anaconda3\\envs\\rd\\Lib\\site-packages\\pyntcloud\\scalar_fields\\eigenvalues.py:77: RuntimeWarning: invalid value encountered in power\n",
      "  self.to_be_added[name] = np.nan_to_num((ev[:, 0] * ev[:, 1] * ev[:, 2]) ** (1 / 3))\n",
      "c:\\Users\\magnu\\anaconda3\\envs\\rd\\Lib\\site-packages\\pyntcloud\\geometry\\models\\plane.py:17: RuntimeWarning: invalid value encountered in divide\n",
      "  self.normal = normal / np.linalg.norm(normal)\n"
     ]
    },
    {
     "name": "stdout",
     "output_type": "stream",
     "text": [
      "(34897, 10)\n"
     ]
    }
   ],
   "source": [
    "feature, grad, radius = gf.Get_variables(\"../Data/Training_data/Gear_w_holes_40_10.txt\", k=20, save=\"no\") # NOTE: Get the features from the pointcloud\n",
    "\n",
    "\n",
    "features = np.hstack((feature, grad.reshape(-1,1))) # NOTE: Stack the features, gradients and radius together\n",
    "print(features.shape)\n",
    "\n",
    "np.savetxt(\"../Data/Training_data/Gear_w_holes_features_40_10.txt\", features, fmt='%.3f', delimiter=' ')"
   ]
  },
  {
   "cell_type": "code",
   "execution_count": 13,
   "id": "63e40152",
   "metadata": {},
   "outputs": [
    {
     "name": "stdout",
     "output_type": "stream",
     "text": [
      "Created holes: size=0, num=0\n",
      "Saved holes: ../Data/Training_data/Gear_w_holes_0_0.txt\n",
      "Saved features: ../Data/Training_data/Gear_w_holes_features_0_0.txt\n",
      "Created holes: size=5, num=60\n",
      "Saved holes: ../Data/Training_data/Gear_w_holes_5_60.txt\n",
      "Saved features: ../Data/Training_data/Gear_w_holes_features_5_60.txt\n",
      "Created holes: size=20, num=50\n",
      "Saved holes: ../Data/Training_data/Gear_w_holes_20_50.txt\n",
      "Saved features: ../Data/Training_data/Gear_w_holes_features_20_50.txt\n",
      "Created holes: size=100, num=30\n",
      "Saved holes: ../Data/Training_data/Gear_w_holes_100_30.txt\n",
      "Saved features: ../Data/Training_data/Gear_w_holes_features_100_30.txt\n",
      "Created holes: size=200, num=20\n",
      "Saved holes: ../Data/Training_data/Gear_w_holes_200_20.txt\n",
      "Saved features: ../Data/Training_data/Gear_w_holes_features_200_20.txt\n",
      "Created holes: size=500, num=10\n",
      "Saved holes: ../Data/Training_data/Gear_w_holes_500_10.txt\n",
      "Saved features: ../Data/Training_data/Gear_w_holes_features_500_10.txt\n"
     ]
    }
   ],
   "source": [
    "# Explicit pairs (hole_size, num_holes)\n",
    "hole_configs = [\n",
    "    (0,0),\n",
    "    (5, 60),\n",
    "    (20, 50),\n",
    "    (100, 30),\n",
    "    (200, 20),\n",
    "    (500, 10)\n",
    "]\n",
    "\n",
    "import numpy as np\n",
    "import os\n",
    "\n",
    "pointcloud = np.loadtxt(\"../../Leihui Code/dataset/SelfGeneratedClouds/Chain_wheel05mm.xyz\", usecols=(0, 1, 2)) # NOTE: Load the saved pointcloud\n",
    "\n",
    "\n",
    "for hole_size, num_holes in hole_configs:\n",
    "    # Create holes\n",
    "    pc_w_holes = mf.create_mesh_holes(pointcloud, num_holes, hole_size)\n",
    "    print(f\"Created holes: size={hole_size}, num={num_holes}\")\n",
    "\n",
    "    # Save holes\n",
    "    holes_save_path = f\"../Data/Training_data/Gear_w_holes_{hole_size}_{num_holes}.txt\"\n",
    "    np.savetxt(holes_save_path, pc_w_holes, fmt='%.3f', delimiter=' ')\n",
    "    print(f\"Saved holes: {holes_save_path}\")\n",
    "\n",
    "    # Features\n",
    "    feature, grad, radius = gf.Get_variables(holes_save_path, k=20, save=\"no\")\n",
    "    features = np.hstack((feature, grad.reshape(-1, 1)))\n",
    "\n",
    "    # Save features\n",
    "    features_save_path = f\"../Data/Training_data/Gear_w_holes_features_{hole_size}_{num_holes}.txt\"\n",
    "    np.savetxt(features_save_path, features, fmt='%.3f', delimiter=' ')\n",
    "    print(f\"Saved features: {features_save_path}\")"
   ]
  },
  {
   "cell_type": "code",
   "execution_count": 1,
   "id": "8b7257fe",
   "metadata": {},
   "outputs": [
    {
     "name": "stdout",
     "output_type": "stream",
     "text": [
      "Label: 1.304, Count: 504\n",
      "Label: 2.607, Count: 81404\n"
     ]
    }
   ],
   "source": [
    "import numpy as np\n",
    "\n",
    "# Load the saved labels\n",
    "labels = np.loadtxt(\"../Data/Training_data/holetest_label.txt\")  # Replace with your actual file path\n",
    "\n",
    "# Assuming your surface density is in the first column\n",
    "surface_density_column = labels[:, 0]\n",
    "\n",
    "# Count unique values and how many times each occurs\n",
    "unique_values, counts = np.unique(surface_density_column, return_counts=True)\n",
    "\n",
    "# Print them out\n",
    "for value, count in zip(unique_values, counts):\n",
    "    print(f\"Label: {value:.3f}, Count: {count}\")"
   ]
  }
 ],
 "metadata": {
  "kernelspec": {
   "display_name": "rd",
   "language": "python",
   "name": "python3"
  },
  "language_info": {
   "codemirror_mode": {
    "name": "ipython",
    "version": 3
   },
   "file_extension": ".py",
   "mimetype": "text/x-python",
   "name": "python",
   "nbconvert_exporter": "python",
   "pygments_lexer": "ipython3",
   "version": "3.12.9"
  }
 },
 "nbformat": 4,
 "nbformat_minor": 5
}
