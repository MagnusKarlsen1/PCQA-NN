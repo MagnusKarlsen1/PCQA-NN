{
 "cells": [
  {
   "cell_type": "code",
   "execution_count": 3,
   "id": "b2c03e1f",
   "metadata": {},
   "outputs": [],
   "source": [
    "import jax\n",
    "import jax.numpy as jnp\n",
    "import optax\n",
    "import flax.nnx as nnx\n",
    "from flax.training import train_state\n",
    "from sklearn.model_selection import train_test_split\n",
    "from sklearn.model_selection import train_test_split\n",
    "from sklearn.preprocessing import StandardScaler\n",
    "import jax\n",
    "import jax.numpy as jnp\n",
    "import flax.nnx as nnx\n",
    "from jax import random\n",
    "from flax import serialization\n",
    "import json\n",
    "import optax\n",
    "import numpy as np\n",
    "from sklearn.utils.estimator_checks import check_is_fitted\n",
    "from sklearn.base import BaseEstimator, _fit_context\n",
    "from sklearn.model_selection import GridSearchCV\n",
    "from sklearn.metrics import r2_score\n",
    "from sklearn.pipeline import Pipeline\n",
    "from tqdm.notebook import tqdm # progress bar\n",
    "from sklearn.preprocessing import StandardScaler\n",
    "import logging\n",
    "from tqdm import trange\n",
    "from matplotlib.pyplot import plot\n",
    "import joblib\n",
    "import msgpack\n",
    "import pathlib\n",
    "import os\n",
    "import sys\n",
    "\n",
    "try:\n",
    "    BASE_DIR = os.path.dirname(os.path.abspath(__file__))\n",
    "except NameError:\n",
    "    # __file__ is not defined in Jupyter, so use current working directory\n",
    "    BASE_DIR = os.getcwd()\n",
    "\n",
    "DRAWINGS_PATH = os.path.abspath(os.path.join(BASE_DIR, \"../../../Drawings\"))\n",
    "sys.path.append(DRAWINGS_PATH)\n",
    "\n",
    "GRADIENT_NN_SRC = os.path.abspath(os.path.join(BASE_DIR, \"../../Code/Gradient NN/src\"))\n",
    "sys.path.append(GRADIENT_NN_SRC)\n",
    "\n",
    "import meshlab_functions as mf\n",
    "import solidworks_functions as sf\n",
    "import geometric_functions as gf\n"
   ]
  },
  {
   "cell_type": "code",
   "execution_count": null,
   "id": "eb9322c9",
   "metadata": {},
   "outputs": [
    {
     "name": "stdout",
     "output_type": "stream",
     "text": [
      "(35947, 3)\n",
      "(34897, 3)\n"
     ]
    }
   ],
   "source": [
    "pointcloud = np.loadtxt(\"../../Leihui Code/dataset/SelfGeneratedClouds/Chain_wheel05mm.xyz\", usecols=(0, 1, 2)) # NOTE: Load the saved pointcloud\n",
    "pc_w_holes = mf.create_mesh_holes(pointcloud,40, 10) # NOTE: Create mesh holes\n",
    "\n",
    "print(pointcloud.shape)\n",
    "print(pc_w_holes.shape)\n",
    "\n",
    "np.savetxt(\"../Data/Training_data/Gear_w_holes_40_10.txt\", pc_w_holes, fmt='%.3f', delimiter=' ')"
   ]
  },
  {
   "cell_type": "code",
   "execution_count": null,
   "id": "ef07e289",
   "metadata": {},
   "outputs": [
    {
     "name": "stderr",
     "output_type": "stream",
     "text": [
      "c:\\Users\\magnu\\anaconda3\\envs\\rd\\Lib\\site-packages\\pyntcloud\\scalar_fields\\eigenvalues.py:77: RuntimeWarning: invalid value encountered in power\n",
      "  self.to_be_added[name] = np.nan_to_num((ev[:, 0] * ev[:, 1] * ev[:, 2]) ** (1 / 3))\n",
      "c:\\Users\\magnu\\anaconda3\\envs\\rd\\Lib\\site-packages\\pyntcloud\\scalar_fields\\eigenvalues.py:77: RuntimeWarning: invalid value encountered in power\n",
      "  self.to_be_added[name] = np.nan_to_num((ev[:, 0] * ev[:, 1] * ev[:, 2]) ** (1 / 3))\n",
      "c:\\Users\\magnu\\anaconda3\\envs\\rd\\Lib\\site-packages\\pyntcloud\\geometry\\models\\plane.py:17: RuntimeWarning: invalid value encountered in divide\n",
      "  self.normal = normal / np.linalg.norm(normal)\n"
     ]
    },
    {
     "name": "stdout",
     "output_type": "stream",
     "text": [
      "(34897, 10)\n"
     ]
    }
   ],
   "source": [
    "feature, grad, radius = gf.Get_variables(\"../Data/Training_data/Gear_w_holes_40_10.txt\", k=20, save=\"no\") # NOTE: Get the features from the pointcloud\n",
    "\n",
    "\n",
    "features = np.hstack((feature, grad.reshape(-1,1))) # NOTE: Stack the features, gradients and radius together\n",
    "print(features.shape)\n",
    "\n",
    "np.savetxt(\"../Data/Training_data/Gear_w_holes_features_40_10.txt\", features, fmt='%.3f', delimiter=' ')"
   ]
  },
  {
   "cell_type": "code",
   "execution_count": 13,
   "id": "63e40152",
   "metadata": {},
   "outputs": [
    {
     "name": "stdout",
     "output_type": "stream",
     "text": [
      "Created holes: size=0, num=0\n",
      "Saved holes: ../Data/Training_data/Gear_w_holes_0_0.txt\n",
      "Saved features: ../Data/Training_data/Gear_w_holes_features_0_0.txt\n",
      "Created holes: size=5, num=60\n",
      "Saved holes: ../Data/Training_data/Gear_w_holes_5_60.txt\n",
      "Saved features: ../Data/Training_data/Gear_w_holes_features_5_60.txt\n",
      "Created holes: size=20, num=50\n",
      "Saved holes: ../Data/Training_data/Gear_w_holes_20_50.txt\n",
      "Saved features: ../Data/Training_data/Gear_w_holes_features_20_50.txt\n",
      "Created holes: size=100, num=30\n",
      "Saved holes: ../Data/Training_data/Gear_w_holes_100_30.txt\n",
      "Saved features: ../Data/Training_data/Gear_w_holes_features_100_30.txt\n",
      "Created holes: size=200, num=20\n",
      "Saved holes: ../Data/Training_data/Gear_w_holes_200_20.txt\n",
      "Saved features: ../Data/Training_data/Gear_w_holes_features_200_20.txt\n",
      "Created holes: size=500, num=10\n",
      "Saved holes: ../Data/Training_data/Gear_w_holes_500_10.txt\n",
      "Saved features: ../Data/Training_data/Gear_w_holes_features_500_10.txt\n"
     ]
    }
   ],
   "source": [
    "# Explicit pairs (hole_size, num_holes)\n",
    "hole_configs = [\n",
    "    (0,0),\n",
    "    (5, 60),\n",
    "    (20, 50),\n",
    "    (100, 30),\n",
    "    (200, 20),\n",
    "    (500, 10)\n",
    "]\n",
    "\n",
    "import numpy as np\n",
    "import os\n",
    "\n",
    "pointcloud = np.loadtxt(\"../../Leihui Code/dataset/SelfGeneratedClouds/Chain_wheel05mm.xyz\", usecols=(0, 1, 2)) # NOTE: Load the saved pointcloud\n",
    "\n",
    "\n",
    "for hole_size, num_holes in hole_configs:\n",
    "    # Create holes\n",
    "    pc_w_holes = mf.create_mesh_holes(pointcloud, num_holes, hole_size)\n",
    "    print(f\"Created holes: size={hole_size}, num={num_holes}\")\n",
    "\n",
    "    # Save holes\n",
    "    holes_save_path = f\"../Data/Training_data/Gear_w_holes_{hole_size}_{num_holes}.txt\"\n",
    "    np.savetxt(holes_save_path, pc_w_holes, fmt='%.3f', delimiter=' ')\n",
    "    print(f\"Saved holes: {holes_save_path}\")\n",
    "\n",
    "    # Features\n",
    "    feature, grad, radius = gf.Get_variables(holes_save_path, k=20, save=\"no\")\n",
    "    features = np.hstack((feature, grad.reshape(-1, 1)))\n",
    "\n",
    "    # Save features\n",
    "    features_save_path = f\"../Data/Training_data/Gear_w_holes_features_{hole_size}_{num_holes}.txt\"\n",
    "    np.savetxt(features_save_path, features, fmt='%.3f', delimiter=' ')\n",
    "    print(f\"Saved features: {features_save_path}\")"
   ]
  },
  {
   "cell_type": "code",
   "execution_count": 1,
   "id": "8b7257fe",
   "metadata": {},
   "outputs": [
    {
     "name": "stdout",
     "output_type": "stream",
     "text": [
      "Label: 1.304, Count: 504\n",
      "Label: 2.607, Count: 81404\n"
     ]
    }
   ],
   "source": [
    "import numpy as np\n",
    "\n",
    "# Load the saved labels\n",
    "labels = np.loadtxt(\"../Data/Training_data/holetest_label.txt\")  # Replace with your actual file path\n",
    "\n",
    "# Assuming your surface density is in the first column\n",
    "surface_density_column = labels[:, 0]\n",
    "\n",
    "# Count unique values and how many times each occurs\n",
    "unique_values, counts = np.unique(surface_density_column, return_counts=True)\n",
    "\n",
    "# Print them out\n",
    "for value, count in zip(unique_values, counts):\n",
    "    print(f\"Label: {value:.3f}, Count: {count}\")"
   ]
  },
  {
   "cell_type": "code",
   "execution_count": 2,
   "id": "8430b026",
   "metadata": {},
   "outputs": [
    {
     "data": {
      "text/plain": [
       "<module 'solidworks_functions' from 'c:\\\\Users\\\\magnu\\\\OneDrive\\\\Dokumenter\\\\GitHub\\\\R-D\\\\Drawings\\\\solidworks_functions.py'>"
      ]
     },
     "execution_count": 2,
     "metadata": {},
     "output_type": "execute_result"
    }
   ],
   "source": [
    "\n",
    "import pandas as pd\n",
    "import sys\n",
    "import numpy as np\n",
    "import pythoncom\n",
    "import argparse\n",
    "import pickle\n",
    "import jax \n",
    "import jax.numpy as jnp\n",
    "import numpy as np\n",
    "from jax import jit, vmap\n",
    "import torch\n",
    "from scipy.spatial import cKDTree\n",
    "from scipy.spatial import KDTree\n",
    "import importlib\n",
    "import random\n",
    "import numpy.linalg as LA\n",
    "import os\n",
    "from tqdm import tqdm\n",
    "from IPython.display import clear_output\n",
    "\n",
    "# Import our own scripts:\n",
    "\n",
    "BASE_DIR = os.getcwd()\n",
    "DRAWINGS_PATH = os.path.abspath(os.path.join(BASE_DIR, \"../../../Drawings\"))\n",
    "sys.path.append(DRAWINGS_PATH)\n",
    "GRADIENT_NN_SRC = os.path.abspath(os.path.join(BASE_DIR, \"../../Code/Gradient NN/src\"))\n",
    "sys.path.append(GRADIENT_NN_SRC)\n",
    "\n",
    "import meshlab_functions as mf\n",
    "import solidworks_functions as sf\n",
    "import geometric_functions as gf\n",
    "\n",
    "importlib.reload(mf)\n",
    "importlib.reload(gf)\n",
    "importlib.reload(sf)\n",
    "############################"
   ]
  },
  {
   "cell_type": "code",
   "execution_count": 1,
   "id": "ebcf87c9",
   "metadata": {},
   "outputs": [],
   "source": [
    "radius = [10, 20, 30, 40, 50, 60, 70, 80, 90, 100, 120, 140, 160, 180, 200] # NOTE: Define the radius for the holes\n",
    "\n",
    "params = {\"radius\": radius}\n"
   ]
  },
  {
   "cell_type": "code",
   "execution_count": null,
   "id": "312f6eb3",
   "metadata": {},
   "outputs": [
    {
     "name": "stdout",
     "output_type": "stream",
     "text": [
      "✅ Trying to open part: c:\\Users\\magnu\\OneDrive\\Dokumenter\\GitHub\\R-D\\Drawings\\Ball\\Ball.SLDPRT\n",
      "💾 Saving to: c:\\Users\\magnu\\OneDrive\\Dokumenter\\GitHub\\R-D\\Code\\Gradient NN\\Data\\Training_data\\timetest.stl\n",
      "Geometry created and saved to c:\\Users\\magnu\\OneDrive\\Dokumenter\\GitHub\\R-D\\Code\\Gradient NN\\src\\..\\Data\\Training_data\\timetest.stl\n"
     ]
    }
   ],
   "source": [
    "output_path_STL = os.path.join(BASE_DIR, \"..\", \"Data\", \"Training_data\", \"timetest.stl\")\n",
    "output_path_xyz = os.path.join(BASE_DIR, \"..\", \"Data\", \"Training_data\", \"timetest2.xyz\")\n",
    "model = sf.Create_geometry(\"ball\", output_path_STL, params)\n",
    "raw_pointcloud = mf.sample_stl_by_point_distance(output_path_STL, output_path_xyz, 1)\n",
    "pointcloud = np.loadtxt(output_path_xyz, usecols=(0, 1, 2)) # NOTE: Load the saved pointcloud\n",
    "\n",
    "    "
   ]
  },
  {
   "cell_type": "code",
   "execution_count": 7,
   "id": "dfcbae73",
   "metadata": {},
   "outputs": [
    {
     "name": "stdout",
     "output_type": "stream",
     "text": [
      "✅ Trying to open part: c:\\Users\\magnu\\OneDrive\\Dokumenter\\GitHub\\R-D\\Drawings\\Ball\\Ball.SLDPRT\n",
      "💾 Saving to: c:\\Users\\magnu\\OneDrive\\Dokumenter\\GitHub\\R-D\\Code\\Gradient NN\\Data\\Training_data\\timetest.stl\n",
      "Geometry created and saved to c:\\Users\\magnu\\OneDrive\\Dokumenter\\GitHub\\R-D\\Code\\Gradient NN\\src\\..\\Data\\Training_data\\timetest.stl\n",
      "✅ Resampled point cloud saved (XYZ only): c:\\Users\\magnu\\OneDrive\\Dokumenter\\GitHub\\R-D\\Code\\Gradient NN\\src\\..\\Data\\Training_data\\timetest.xyz\n",
      "Radius:    20 → Points:   3340 → Time: 1.481 sec\n",
      "✅ Trying to open part: c:\\Users\\magnu\\OneDrive\\Dokumenter\\GitHub\\R-D\\Drawings\\Ball\\Ball.SLDPRT\n",
      "💾 Saving to: c:\\Users\\magnu\\OneDrive\\Dokumenter\\GitHub\\R-D\\Code\\Gradient NN\\Data\\Training_data\\timetest.stl\n",
      "Geometry created and saved to c:\\Users\\magnu\\OneDrive\\Dokumenter\\GitHub\\R-D\\Code\\Gradient NN\\src\\..\\Data\\Training_data\\timetest.stl\n",
      "✅ Resampled point cloud saved (XYZ only): c:\\Users\\magnu\\OneDrive\\Dokumenter\\GitHub\\R-D\\Code\\Gradient NN\\src\\..\\Data\\Training_data\\timetest.xyz\n",
      "Radius:    30 → Points:   7477 → Time: 1.934 sec\n",
      "✅ Trying to open part: c:\\Users\\magnu\\OneDrive\\Dokumenter\\GitHub\\R-D\\Drawings\\Ball\\Ball.SLDPRT\n",
      "💾 Saving to: c:\\Users\\magnu\\OneDrive\\Dokumenter\\GitHub\\R-D\\Code\\Gradient NN\\Data\\Training_data\\timetest.stl\n",
      "Geometry created and saved to c:\\Users\\magnu\\OneDrive\\Dokumenter\\GitHub\\R-D\\Code\\Gradient NN\\src\\..\\Data\\Training_data\\timetest.stl\n",
      "✅ Resampled point cloud saved (XYZ only): c:\\Users\\magnu\\OneDrive\\Dokumenter\\GitHub\\R-D\\Code\\Gradient NN\\src\\..\\Data\\Training_data\\timetest.xyz\n",
      "Radius:    40 → Points:  13298 → Time: 2.193 sec\n",
      "✅ Trying to open part: c:\\Users\\magnu\\OneDrive\\Dokumenter\\GitHub\\R-D\\Drawings\\Ball\\Ball.SLDPRT\n",
      "💾 Saving to: c:\\Users\\magnu\\OneDrive\\Dokumenter\\GitHub\\R-D\\Code\\Gradient NN\\Data\\Training_data\\timetest.stl\n",
      "Geometry created and saved to c:\\Users\\magnu\\OneDrive\\Dokumenter\\GitHub\\R-D\\Code\\Gradient NN\\src\\..\\Data\\Training_data\\timetest.stl\n",
      "✅ Resampled point cloud saved (XYZ only): c:\\Users\\magnu\\OneDrive\\Dokumenter\\GitHub\\R-D\\Code\\Gradient NN\\src\\..\\Data\\Training_data\\timetest.xyz\n",
      "Radius:    50 → Points:  20808 → Time: 2.609 sec\n",
      "✅ Trying to open part: c:\\Users\\magnu\\OneDrive\\Dokumenter\\GitHub\\R-D\\Drawings\\Ball\\Ball.SLDPRT\n",
      "💾 Saving to: c:\\Users\\magnu\\OneDrive\\Dokumenter\\GitHub\\R-D\\Code\\Gradient NN\\Data\\Training_data\\timetest.stl\n",
      "Geometry created and saved to c:\\Users\\magnu\\OneDrive\\Dokumenter\\GitHub\\R-D\\Code\\Gradient NN\\src\\..\\Data\\Training_data\\timetest.stl\n",
      "✅ Resampled point cloud saved (XYZ only): c:\\Users\\magnu\\OneDrive\\Dokumenter\\GitHub\\R-D\\Code\\Gradient NN\\src\\..\\Data\\Training_data\\timetest.xyz\n",
      "Radius:    60 → Points:  29962 → Time: 3.190 sec\n",
      "✅ Trying to open part: c:\\Users\\magnu\\OneDrive\\Dokumenter\\GitHub\\R-D\\Drawings\\Ball\\Ball.SLDPRT\n",
      "💾 Saving to: c:\\Users\\magnu\\OneDrive\\Dokumenter\\GitHub\\R-D\\Code\\Gradient NN\\Data\\Training_data\\timetest.stl\n",
      "Geometry created and saved to c:\\Users\\magnu\\OneDrive\\Dokumenter\\GitHub\\R-D\\Code\\Gradient NN\\src\\..\\Data\\Training_data\\timetest.stl\n",
      "✅ Resampled point cloud saved (XYZ only): c:\\Users\\magnu\\OneDrive\\Dokumenter\\GitHub\\R-D\\Code\\Gradient NN\\src\\..\\Data\\Training_data\\timetest.xyz\n",
      "Radius:    70 → Points:  40671 → Time: 3.941 sec\n",
      "✅ Trying to open part: c:\\Users\\magnu\\OneDrive\\Dokumenter\\GitHub\\R-D\\Drawings\\Ball\\Ball.SLDPRT\n",
      "💾 Saving to: c:\\Users\\magnu\\OneDrive\\Dokumenter\\GitHub\\R-D\\Code\\Gradient NN\\Data\\Training_data\\timetest.stl\n",
      "Geometry created and saved to c:\\Users\\magnu\\OneDrive\\Dokumenter\\GitHub\\R-D\\Code\\Gradient NN\\src\\..\\Data\\Training_data\\timetest.stl\n",
      "✅ Resampled point cloud saved (XYZ only): c:\\Users\\magnu\\OneDrive\\Dokumenter\\GitHub\\R-D\\Code\\Gradient NN\\src\\..\\Data\\Training_data\\timetest.xyz\n",
      "Radius:    80 → Points:  53174 → Time: 4.877 sec\n",
      "✅ Trying to open part: c:\\Users\\magnu\\OneDrive\\Dokumenter\\GitHub\\R-D\\Drawings\\Ball\\Ball.SLDPRT\n",
      "💾 Saving to: c:\\Users\\magnu\\OneDrive\\Dokumenter\\GitHub\\R-D\\Code\\Gradient NN\\Data\\Training_data\\timetest.stl\n",
      "Geometry created and saved to c:\\Users\\magnu\\OneDrive\\Dokumenter\\GitHub\\R-D\\Code\\Gradient NN\\src\\..\\Data\\Training_data\\timetest.stl\n",
      "✅ Resampled point cloud saved (XYZ only): c:\\Users\\magnu\\OneDrive\\Dokumenter\\GitHub\\R-D\\Code\\Gradient NN\\src\\..\\Data\\Training_data\\timetest.xyz\n",
      "Radius:    90 → Points:  67296 → Time: 5.888 sec\n",
      "✅ Trying to open part: c:\\Users\\magnu\\OneDrive\\Dokumenter\\GitHub\\R-D\\Drawings\\Ball\\Ball.SLDPRT\n",
      "💾 Saving to: c:\\Users\\magnu\\OneDrive\\Dokumenter\\GitHub\\R-D\\Code\\Gradient NN\\Data\\Training_data\\timetest.stl\n",
      "Geometry created and saved to c:\\Users\\magnu\\OneDrive\\Dokumenter\\GitHub\\R-D\\Code\\Gradient NN\\src\\..\\Data\\Training_data\\timetest.stl\n",
      "✅ Resampled point cloud saved (XYZ only): c:\\Users\\magnu\\OneDrive\\Dokumenter\\GitHub\\R-D\\Code\\Gradient NN\\src\\..\\Data\\Training_data\\timetest.xyz\n",
      "Radius:   100 → Points:  83090 → Time: 7.178 sec\n",
      "✅ Trying to open part: c:\\Users\\magnu\\OneDrive\\Dokumenter\\GitHub\\R-D\\Drawings\\Ball\\Ball.SLDPRT\n",
      "💾 Saving to: c:\\Users\\magnu\\OneDrive\\Dokumenter\\GitHub\\R-D\\Code\\Gradient NN\\Data\\Training_data\\timetest.stl\n",
      "Geometry created and saved to c:\\Users\\magnu\\OneDrive\\Dokumenter\\GitHub\\R-D\\Code\\Gradient NN\\src\\..\\Data\\Training_data\\timetest.stl\n",
      "✅ Resampled point cloud saved (XYZ only): c:\\Users\\magnu\\OneDrive\\Dokumenter\\GitHub\\R-D\\Code\\Gradient NN\\src\\..\\Data\\Training_data\\timetest.xyz\n",
      "Radius:   120 → Points: 119434 → Time: 10.151 sec\n",
      "✅ Trying to open part: c:\\Users\\magnu\\OneDrive\\Dokumenter\\GitHub\\R-D\\Drawings\\Ball\\Ball.SLDPRT\n",
      "💾 Saving to: c:\\Users\\magnu\\OneDrive\\Dokumenter\\GitHub\\R-D\\Code\\Gradient NN\\Data\\Training_data\\timetest.stl\n",
      "Geometry created and saved to c:\\Users\\magnu\\OneDrive\\Dokumenter\\GitHub\\R-D\\Code\\Gradient NN\\src\\..\\Data\\Training_data\\timetest.stl\n",
      "✅ Resampled point cloud saved (XYZ only): c:\\Users\\magnu\\OneDrive\\Dokumenter\\GitHub\\R-D\\Code\\Gradient NN\\src\\..\\Data\\Training_data\\timetest.xyz\n",
      "Radius:   140 → Points: 162658 → Time: 14.607 sec\n",
      "✅ Trying to open part: c:\\Users\\magnu\\OneDrive\\Dokumenter\\GitHub\\R-D\\Drawings\\Ball\\Ball.SLDPRT\n",
      "💾 Saving to: c:\\Users\\magnu\\OneDrive\\Dokumenter\\GitHub\\R-D\\Code\\Gradient NN\\Data\\Training_data\\timetest.stl\n",
      "Geometry created and saved to c:\\Users\\magnu\\OneDrive\\Dokumenter\\GitHub\\R-D\\Code\\Gradient NN\\src\\..\\Data\\Training_data\\timetest.stl\n",
      "✅ Resampled point cloud saved (XYZ only): c:\\Users\\magnu\\OneDrive\\Dokumenter\\GitHub\\R-D\\Code\\Gradient NN\\src\\..\\Data\\Training_data\\timetest.xyz\n",
      "Radius:   160 → Points: 212429 → Time: 18.374 sec\n",
      "✅ Trying to open part: c:\\Users\\magnu\\OneDrive\\Dokumenter\\GitHub\\R-D\\Drawings\\Ball\\Ball.SLDPRT\n",
      "💾 Saving to: c:\\Users\\magnu\\OneDrive\\Dokumenter\\GitHub\\R-D\\Code\\Gradient NN\\Data\\Training_data\\timetest.stl\n",
      "Geometry created and saved to c:\\Users\\magnu\\OneDrive\\Dokumenter\\GitHub\\R-D\\Code\\Gradient NN\\src\\..\\Data\\Training_data\\timetest.stl\n",
      "✅ Resampled point cloud saved (XYZ only): c:\\Users\\magnu\\OneDrive\\Dokumenter\\GitHub\\R-D\\Code\\Gradient NN\\src\\..\\Data\\Training_data\\timetest.xyz\n",
      "Radius:   180 → Points: 269064 → Time: 22.991 sec\n",
      "✅ Trying to open part: c:\\Users\\magnu\\OneDrive\\Dokumenter\\GitHub\\R-D\\Drawings\\Ball\\Ball.SLDPRT\n",
      "💾 Saving to: c:\\Users\\magnu\\OneDrive\\Dokumenter\\GitHub\\R-D\\Code\\Gradient NN\\Data\\Training_data\\timetest.stl\n",
      "Geometry created and saved to c:\\Users\\magnu\\OneDrive\\Dokumenter\\GitHub\\R-D\\Code\\Gradient NN\\src\\..\\Data\\Training_data\\timetest.stl\n",
      "✅ Resampled point cloud saved (XYZ only): c:\\Users\\magnu\\OneDrive\\Dokumenter\\GitHub\\R-D\\Code\\Gradient NN\\src\\..\\Data\\Training_data\\timetest.xyz\n",
      "Radius:   200 → Points: 332235 → Time: 28.462 sec\n"
     ]
    },
    {
     "data": {
      "image/png": "[encoded data removed]",
      "text/plain": [
       "<Figure size 800x500 with 1 Axes>"
      ]
     },
     "metadata": {},
     "output_type": "display_data"
    }
   ],
   "source": [
    "import numpy as np\n",
    "import matplotlib.pyplot as plt\n",
    "import time\n",
    "import os\n",
    "\n",
    "# Different radius values (smaller radius → denser point cloud)\n",
    "radius_list = [20, 30, 40, 50, 60, 70, 80, 90, 100, 120, 140, 160, 180, 200]\n",
    "num_points_list = []\n",
    "runtimes = []\n",
    "\n",
    "for radius in radius_list:\n",
    "    # 1️⃣ Update params\n",
    "    params = {\"radius\": radius}\n",
    "    \n",
    "    # 2️⃣ Create geometry and sample points\n",
    "    output_path_STL = os.path.join(BASE_DIR, \"..\", \"Data\", \"Training_data\", \"timetest.stl\")\n",
    "    output_path_xyz = os.path.join(BASE_DIR, \"..\", \"Data\", \"Training_data\", \"timetest.xyz\")\n",
    "    model = sf.Create_geometry(\"ball\", output_path_STL, params)\n",
    "    \n",
    "    raw_pointcloud = mf.sample_stl_by_point_distance(output_path_STL, output_path_xyz, 1)\n",
    "    pointcloud = np.loadtxt(output_path_xyz, usecols=(0, 1, 2))\n",
    "    \n",
    "    num_points = len(pointcloud)\n",
    "    num_points_list.append(num_points)\n",
    "    \n",
    "    # 3️⃣ Run your feature extraction and time it\n",
    "    start_time = time.time()\n",
    "    feature, grad, radius_data = gf.Get_variables(output_path_xyz, k=20, save=\"no\")\n",
    "    end_time = time.time()\n",
    "    \n",
    "    runtime = end_time - start_time\n",
    "    runtimes.append(runtime)\n",
    "    \n",
    "    print(f\"Radius: {radius:>5} → Points: {num_points:>6} → Time: {runtime:.3f} sec\")\n",
    "\n",
    "# Plot: Number of points vs Runtime\n",
    "plt.figure(figsize=(8, 5))\n",
    "plt.plot(num_points_list, runtimes, marker='o', linestyle='-', color='cornflowerblue')\n",
    "plt.xlabel(\"Number of Points in Point Cloud\", fontsize=12)\n",
    "plt.ylabel(\"Runtime for Feature Extraction (s)\", fontsize=12)\n",
    "plt.title(\"Feature Extraction Runtime vs Point Cloud Size\", fontsize=14)\n",
    "plt.grid(True)\n",
    "plt.tight_layout()\n",
    "plt.savefig(\"pointcloud_runtime_plot.png\", dpi=1000, bbox_inches='tight')\n",
    "plt.show()\n",
    "\n",
    "# # Plot: Radius vs Number of Points\n",
    "# plt.figure(figsize=(8, 5))\n",
    "# plt.plot(radius_list, num_points_list, marker='o', linestyle='-', color='darkorange')\n",
    "# plt.xlabel(\"Radius Parameter\", fontsize=12)\n",
    "# plt.ylabel(\"Number of Points\", fontsize=12)\n",
    "# plt.title(\"Point Cloud Size vs Radius Parameter\", fontsize=14)\n",
    "# plt.grid(True)\n",
    "# plt.tight_layout()\n",
    "\n",
    "\n",
    "# plt.show()\n"
   ]
  }
 ],
 "metadata": {
  "kernelspec": {
   "display_name": "rd",
   "language": "python",
   "name": "python3"
  },
  "language_info": {
   "codemirror_mode": {
    "name": "ipython",
    "version": 3
   },
   "file_extension": ".py",
   "mimetype": "text/x-python",
   "name": "python",
   "nbconvert_exporter": "python",
   "pygments_lexer": "ipython3",
   "version": "3.12.9"
  }
 },
 "nbformat": 4,
 "nbformat_minor": 5
}
