{
 "cells": [
  {
   "cell_type": "code",
   "execution_count": 1,
   "metadata": {},
   "outputs": [],
   "source": [
    "import jax \n",
    "import jax.numpy as jnp\n",
    "import numpy as np\n",
    "from jax import jit, vmap\n",
    "import torch\n",
    "from scipy.spatial import cKDTree\n",
    "from scipy.spatial import KDTree"
   ]
  },
  {
   "cell_type": "markdown",
   "metadata": {},
   "source": [
    "##### Checking for GPU, use CPU if no GPU is available"
   ]
  },
  {
   "cell_type": "code",
   "execution_count": 9,
   "metadata": {},
   "outputs": [
    {
     "name": "stdout",
     "output_type": "stream",
     "text": [
      "Running on CPU: TFRT_CPU_0\n"
     ]
    }
   ],
   "source": [
    "# Check if a GPU is available\n",
    "if any(device.device_kind == 'gpu' for device in jax.devices()):\n",
    "    jax.config.update(\"jax_platform_name\", \"gpu\")\n",
    "    print(\"Running on GPU:\", jax.devices(\"gpu\")[0])\n",
    "# Use CPU if there is no GPU device available\n",
    "else:\n",
    "    jax.config.update(\"jax_platform_name\", \"cpu\")\n",
    "    print(\"Running on CPU:\", jax.devices(\"cpu\")[0])"
   ]
  },
  {
   "cell_type": "markdown",
   "metadata": {},
   "source": [
    "# Preprocess function $\\color{green} ✅$ "
   ]
  },
  {
   "cell_type": "code",
   "execution_count": 3,
   "metadata": {},
   "outputs": [
    {
     "name": "stdout",
     "output_type": "stream",
     "text": [
      "Points in dataset: 35947\n"
     ]
    }
   ],
   "source": [
    "# Load all datasets to use\n",
    "datasets = np.loadtxt(\"./Data/Full_point_clouds/bunny_order3_normal_beta.txt\"\n",
    "            # \"./Data/Full point clouds/etetwetwet.txt\"\n",
    "            # \"./Data/Full point clouds/etetwetwet.txt\"\n",
    "            )\n",
    "print(f\"Points in dataset: {len(datasets)}\")"
   ]
  },
  {
   "cell_type": "code",
   "execution_count": 4,
   "metadata": {},
   "outputs": [],
   "source": [
    "@jit\n",
    "def preprocess(points):\n",
    "    mean_p = points.mean(axis=0)\n",
    "    min_p, max_p = jnp.min(points, axis=0), jnp.max(points, axis=0)\n",
    "    bbdiag = jnp.linalg.norm(max_p - min_p, ord=2) # Bounding box diagonal L2 norm (Euclidean distance)\n",
    "    return (points - mean_p) / (0.5 * bbdiag)\n"
   ]
  },
  {
   "cell_type": "code",
   "execution_count": 5,
   "metadata": {},
   "outputs": [],
   "source": [
    "# Leihui code, for speed comparison \n",
    "def preprocessL(points):\n",
    "    bbdiag = float(np.linalg.norm(points.max(0) - points.min(0), 2))\n",
    "    points = (points - points.mean(0)) / (0.5*bbdiag)  # shrink shape to unit sphere\n",
    "    return points"
   ]
  },
  {
   "cell_type": "code",
   "execution_count": 6,
   "metadata": {},
   "outputs": [
    {
     "name": "stdout",
     "output_type": "stream",
     "text": [
      "453 μs ± 23.6 μs per loop (mean ± std. dev. of 7 runs, 1,000 loops each)\n",
      "2.75 ms ± 69.1 μs per loop (mean ± std. dev. of 7 runs, 100 loops each)\n"
     ]
    }
   ],
   "source": [
    "rawpoints = datasets[:,0:3]\n",
    "\n",
    "%timeit our = preprocess(rawpoints)\n",
    "%timeit lei = preprocessL(rawpoints)"
   ]
  },
  {
   "cell_type": "code",
   "execution_count": 7,
   "metadata": {},
   "outputs": [
    {
     "name": "stdout",
     "output_type": "stream",
     "text": [
      "True\n"
     ]
    }
   ],
   "source": [
    "our = preprocess(rawpoints)\n",
    "lei = preprocessL(rawpoints)\n",
    "\n",
    "\n",
    "print(jnp.allclose(lei, our, atol=1e-6))  # Equal down to a tolerance of 1e-6"
   ]
  },
  {
   "cell_type": "markdown",
   "metadata": {},
   "source": [
    "# ProcessPart function"
   ]
  },
  {
   "cell_type": "markdown",
   "metadata": {},
   "source": []
  }
 ],
 "metadata": {
  "kernelspec": {
   "display_name": "rd",
   "language": "python",
   "name": "python3"
  },
  "language_info": {
   "codemirror_mode": {
    "name": "ipython",
    "version": 3
   },
   "file_extension": ".py",
   "mimetype": "text/x-python",
   "name": "python",
   "nbconvert_exporter": "python",
   "pygments_lexer": "ipython3",
   "version": "3.12.9"
  }
 },
 "nbformat": 4,
 "nbformat_minor": 2
}
