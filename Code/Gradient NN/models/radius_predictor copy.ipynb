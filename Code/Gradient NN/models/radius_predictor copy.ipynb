{
 "cells": [
  {
   "cell_type": "code",
   "execution_count": 1,
   "id": "6db4b1d8",
   "metadata": {},
   "outputs": [],
   "source": [
    "from sklearn.model_selection import train_test_split\n",
    "from sklearn.preprocessing import StandardScaler\n",
    "import jax\n",
    "import jax.numpy as jnp\n",
    "import flax.nnx as nnx\n",
    "from jax import random\n",
    "from flax import serialization\n",
    "import json\n",
    "import optax\n",
    "import numpy as np\n",
    "from sklearn.utils.estimator_checks import check_is_fitted\n",
    "from sklearn.base import BaseEstimator, _fit_context\n",
    "from sklearn.model_selection import GridSearchCV\n",
    "from sklearn.metrics import r2_score\n",
    "from sklearn.pipeline import Pipeline\n",
    "from tqdm.notebook import tqdm # progress bar\n",
    "from sklearn.preprocessing import StandardScaler\n",
    "import logging\n",
    "from matplotlib.pyplot import plot"
   ]
  },
  {
   "cell_type": "code",
   "execution_count": 2,
   "id": "8a533e6d",
   "metadata": {},
   "outputs": [
    {
     "name": "stdout",
     "output_type": "stream",
     "text": [
      "[CudaDevice(id=0)]\n"
     ]
    }
   ],
   "source": [
    "print(jax.devices())"
   ]
  },
  {
   "cell_type": "code",
   "execution_count": 3,
   "id": "07a676df",
   "metadata": {},
   "outputs": [],
   "source": [
    "features = np.loadtxt(\"../Data/Training_data/big_test_features.txt\")\n",
    "labels = np.loadtxt(\"../Data/Training_data/big_test_labels.txt\")"
   ]
  },
  {
   "cell_type": "code",
   "execution_count": 5,
   "id": "131ec77e",
   "metadata": {},
   "outputs": [],
   "source": [
    "# Split label array into individual columns\n",
    "true_labels = labels[:, 0]          # Just the actual label\n",
    "avg_radius_column = labels[:, 1]    # The one you want to move to features\n",
    "\n",
    "# Reshape so you can concatenate it\n",
    "avg_radius_column = avg_radius_column.reshape(-1, 1)\n",
    "\n",
    "# Concatenate to features\n",
    "features_total_np = np.hstack([features, avg_radius_column])\n",
    "\n",
    "# Overwrite labels array with only the true label\n",
    "labels_total_np = true_labels.reshape(-1, 1)\n",
    "\n",
    "\n",
    "features_total_np = np.delete(features_total_np, [1,4,5,9], axis=1) # Remove variation\n"
   ]
  },
  {
   "cell_type": "code",
   "execution_count": 7,
   "metadata": {},
   "outputs": [],
   "source": [
    "# Split into train/test\n",
    "X_train, X_test, y_train, y_test = train_test_split(features_total_np, labels_total_np, test_size=0.2, random_state=42)\n",
    "\n",
    "\n",
    "\n",
    "# Standardize input features (only fit on training data!)\n",
    "scaler = StandardScaler()\n",
    "\n",
    "\n",
    "X_train = scaler.fit_transform(X_train)\n",
    "X_test = scaler.transform(X_test)\n",
    "\n",
    "X_grid, _, y_grid, _ = train_test_split(X_train, y_train, train_size=0.4, random_state=42) # Only using 40% of the data for gridsearching\n",
    "\n",
    "\n",
    "# Convert to JAX arrays\n",
    "X_train = jnp.array(X_train, dtype=jnp.float32)\n",
    "y_train = jnp.array(y_train, dtype=jnp.float32)\n",
    "\n",
    "X_test = jnp.array(X_test, dtype=jnp.float32)\n",
    "y_test = jnp.array(y_test, dtype=jnp.float32)\n",
    "\n",
    "# X_grid = jnp.array(X_grid, dtype=jnp.float32)\n",
    "# y_grid = jnp.array(y_grid, dtype=jnp.float32)\n",
    "\n"
   ]
  },
  {
   "cell_type": "code",
   "execution_count": null,
   "id": "b1e7091c",
   "metadata": {},
   "outputs": [
    {
     "data": {
      "text/plain": [
       "(459421, 8)"
      ]
     },
     "execution_count": 8,
     "metadata": {},
     "output_type": "execute_result"
    }
   ],
   "source": [
    "X_test.shape"
   ]
  },
  {
   "cell_type": "code",
   "execution_count": 9,
   "id": "e367b33b",
   "metadata": {},
   "outputs": [],
   "source": [
    "@nnx.jit\n",
    "def loss_fn(model, x, y_target):\n",
    "   y_pred = model(x)\n",
    "   return ((y_pred - y_target) ** 2).mean()\n",
    "\n",
    "# Train for a single epoch\n",
    "@nnx.jit\n",
    "def train_step(model, optimizer, x, y):\n",
    "    loss, grads = nnx.value_and_grad(loss_fn)(model, x, y)\n",
    "    optimizer.update(grads)\n",
    "    return loss\n",
    "\n",
    "def _train_epoch(\n",
    "    model, optimizer, xs_train, ys_train, batch_size, rng\n",
    "):\n",
    "    train_ds_size = len(xs_train)\n",
    "    steps_per_epoch = train_ds_size // batch_size\n",
    "\n",
    "    perms = random.permutation(rng, len(xs_train))\n",
    "    perms = perms[: steps_per_epoch * batch_size]\n",
    "    perms = perms.reshape((steps_per_epoch, batch_size))\n",
    "\n",
    "    epoch_loss = []\n",
    "\n",
    "    for perm in perms:\n",
    "        batch_xs = xs_train[perm, :]\n",
    "        batch_ys = ys_train[perm, :]\n",
    "        loss = train_step(model, optimizer, batch_xs, batch_ys)\n",
    "        epoch_loss.append(loss)  # store training loss for the current batch\n",
    "\n",
    "    train_loss = np.mean(epoch_loss)\n",
    "    return model, train_loss\n",
    "\n",
    "\n",
    "def train(model, optimizer, xs_train, ys_train,\n",
    "          batch_size,epochs, log_period_epoch=1, show_progress=True):\n",
    "\n",
    "    train_loss_history = []\n",
    "\n",
    "    for epoch in tqdm(range(1, epochs + 1), disable=not show_progress):\n",
    "        model, train_loss = _train_epoch(\n",
    "            model, optimizer, xs_train, ys_train,\n",
    "            batch_size, random.key(1),\n",
    "        )\n",
    "\n",
    "        train_loss_history.append(train_loss)\n",
    "\n",
    "        if epoch == 1 or epoch % log_period_epoch == 0:\n",
    "            logging.info(\n",
    "                \"epoch:% 3d, train_loss: %.4f\"\n",
    "                % (epoch, train_loss)\n",
    "            )\n",
    "    return train_loss_history"
   ]
  },
  {
   "cell_type": "code",
   "execution_count": 20,
   "id": "e18e04e8",
   "metadata": {},
   "outputs": [],
   "source": [
    "# adapted from template https://github.com/scikit-learn-contrib/project-template/blob/main/skltemplate/_template.py\n",
    "\n",
    "class MLPRegressor(BaseEstimator):\n",
    "\n",
    "    def __init__(self, model, lr, epochs, batch_size, log_period_epoch=10,\n",
    "                 show_progress=True):\n",
    "        self.model = model\n",
    "        self.lr = lr\n",
    "        self.epochs = epochs\n",
    "        self.batch_size = batch_size\n",
    "        self.log_period_epoch = log_period_epoch\n",
    "        self.show_progress = show_progress\n",
    "\n",
    "    def fit(self, X, y):\n",
    "\n",
    "        # `_validate_data` is defined in the `BaseEstimator` class.\n",
    "        # It allows to:\n",
    "        # - run different checks on the input data;\n",
    "        # - define some attributes associated to the input data: `n_features_in_` and\n",
    "        #   `feature_names_in_`.\n",
    "        X, y = self._validate_data(X, y, accept_sparse=True)\n",
    "\n",
    "        # transform row vectors into columns to be compatible with the output of the NN\n",
    "        y = y.reshape(-1, 1)\n",
    "        self._optimizer = nnx.Optimizer(self.model, optax.adam(self.lr))\n",
    "        self.train_loss_history = train(self.model, self._optimizer, X, y,\n",
    "                                        self.batch_size, self.epochs,\n",
    "                                        self.log_period_epoch, self.show_progress)\n",
    "        self.trained_params = self._optimizer.target  \n",
    "        self.is_fitted_ = True\n",
    "        # `fit` should always return `self`\n",
    "        return self\n",
    "\n",
    "    def predict(self, X):\n",
    "        check_is_fitted(self)\n",
    "        X = self._validate_data(X, accept_sparse=True, reset=False)\n",
    "\n",
    "        self.model = self.model.replace(self.trained_params)  # Inject trained weights\n",
    "\n",
    "        return self.model(X)\n",
    "\n",
    "    \n",
    "\n",
    "    def save_joblib(self, path=\"mlp_nnx_model.joblib\"):\n",
    "        import joblib\n",
    "        joblib.dump(self, path)\n",
    "        print(f\"✅ Saved to {path}\")\n",
    "\n",
    "\n",
    "    def score(self, X, y):\n",
    "        y_pred = self.predict(X)\n",
    "        return r2_score(y, y_pred)    \n"
   ]
  },
  {
   "cell_type": "code",
   "execution_count": 21,
   "id": "0f2cbaac",
   "metadata": {},
   "outputs": [],
   "source": [
    "class Model(nnx.Module):\n",
    "  def __init__(self, din, dout, rngs: nnx.Rngs):\n",
    "    self.linear1 = nnx.Linear(din, 64, rngs=rngs)\n",
    "    self.linear2 = nnx.Linear(64, 64, rngs=rngs)\n",
    "    self.linear3 = nnx.Linear(64, 32, rngs=rngs)\n",
    "    self.linear4 = nnx.Linear(32, dout, rngs=rngs)\n",
    "\n",
    "  def __call__(self, x):\n",
    "    y = self.linear1(x)\n",
    "    y = nnx.relu(y)\n",
    "    y = self.linear2(y)\n",
    "    y = nnx.relu(y)\n",
    "    y = self.linear3(y)\n",
    "    y = nnx.relu(y)\n",
    "    y = self.linear4(y)\n",
    "    return y\n",
    "\n",
    "\n",
    "\n",
    "\n",
    "x_dim = X_train.shape[1]\n",
    "y_dim = 1\n",
    "model = Model(x_dim, y_dim, rngs=nnx.Rngs(0))"
   ]
  },
  {
   "cell_type": "code",
   "execution_count": 22,
   "id": "54ed9d09",
   "metadata": {},
   "outputs": [],
   "source": [
    "epochs = 1\n",
    "learning_rate = 0.01\n",
    "batch_size = 128\n",
    "\n",
    "m = MLPRegressor(model, learning_rate, epochs, batch_size)"
   ]
  },
  {
   "cell_type": "code",
   "execution_count": 23,
   "id": "af866a8b",
   "metadata": {},
   "outputs": [
    {
     "name": "stderr",
     "output_type": "stream",
     "text": [
      "/home/magnuskarlsen1/anaconda3/envs/datasim/lib/python3.12/site-packages/sklearn/base.py:474: FutureWarning: `BaseEstimator._validate_data` is deprecated in 1.6 and will be removed in 1.7. Use `sklearn.utils.validation.validate_data` instead. This function becomes public and is part of the scikit-learn developer API.\n",
      "  warnings.warn(\n"
     ]
    },
    {
     "data": {
      "application/vnd.jupyter.widget-view+json": {
       "model_id": "ca8d4b70a20e45a0be0df54cbf970322",
       "version_major": 2,
       "version_minor": 0
      },
      "text/plain": [
       "  0%|          | 0/1 [00:00<?, ?it/s]"
      ]
     },
     "metadata": {},
     "output_type": "display_data"
    },
    {
     "ename": "AttributeError",
     "evalue": "'Optimizer' object has no attribute 'target'",
     "output_type": "error",
     "traceback": [
      "\u001b[0;31m---------------------------------------------------------------------------\u001b[0m",
      "\u001b[0;31mAttributeError\u001b[0m                            Traceback (most recent call last)",
      "Cell \u001b[0;32mIn[23], line 1\u001b[0m\n\u001b[0;32m----> 1\u001b[0m \u001b[43mm\u001b[49m\u001b[38;5;241;43m.\u001b[39;49m\u001b[43mfit\u001b[49m\u001b[43m(\u001b[49m\u001b[43mX_train\u001b[49m\u001b[43m,\u001b[49m\u001b[43m \u001b[49m\u001b[43my_train\u001b[49m\u001b[38;5;241;43m.\u001b[39;49m\u001b[43mravel\u001b[49m\u001b[43m(\u001b[49m\u001b[43m)\u001b[49m\u001b[43m)\u001b[49m  \u001b[38;5;66;03m# Training the model\u001b[39;00m\n",
      "Cell \u001b[0;32mIn[20], line 29\u001b[0m, in \u001b[0;36mMLPRegressor.fit\u001b[0;34m(self, X, y)\u001b[0m\n\u001b[1;32m     25\u001b[0m \u001b[38;5;28mself\u001b[39m\u001b[38;5;241m.\u001b[39m_optimizer \u001b[38;5;241m=\u001b[39m nnx\u001b[38;5;241m.\u001b[39mOptimizer(\u001b[38;5;28mself\u001b[39m\u001b[38;5;241m.\u001b[39mmodel, optax\u001b[38;5;241m.\u001b[39madam(\u001b[38;5;28mself\u001b[39m\u001b[38;5;241m.\u001b[39mlr))\n\u001b[1;32m     26\u001b[0m \u001b[38;5;28mself\u001b[39m\u001b[38;5;241m.\u001b[39mtrain_loss_history \u001b[38;5;241m=\u001b[39m train(\u001b[38;5;28mself\u001b[39m\u001b[38;5;241m.\u001b[39mmodel, \u001b[38;5;28mself\u001b[39m\u001b[38;5;241m.\u001b[39m_optimizer, X, y,\n\u001b[1;32m     27\u001b[0m                                 \u001b[38;5;28mself\u001b[39m\u001b[38;5;241m.\u001b[39mbatch_size, \u001b[38;5;28mself\u001b[39m\u001b[38;5;241m.\u001b[39mepochs,\n\u001b[1;32m     28\u001b[0m                                 \u001b[38;5;28mself\u001b[39m\u001b[38;5;241m.\u001b[39mlog_period_epoch, \u001b[38;5;28mself\u001b[39m\u001b[38;5;241m.\u001b[39mshow_progress)\n\u001b[0;32m---> 29\u001b[0m \u001b[38;5;28mself\u001b[39m\u001b[38;5;241m.\u001b[39mtrained_params \u001b[38;5;241m=\u001b[39m \u001b[38;5;28;43mself\u001b[39;49m\u001b[38;5;241;43m.\u001b[39;49m\u001b[43m_optimizer\u001b[49m\u001b[38;5;241;43m.\u001b[39;49m\u001b[43mtarget\u001b[49m  \n\u001b[1;32m     30\u001b[0m \u001b[38;5;28mself\u001b[39m\u001b[38;5;241m.\u001b[39mis_fitted_ \u001b[38;5;241m=\u001b[39m \u001b[38;5;28;01mTrue\u001b[39;00m\n\u001b[1;32m     31\u001b[0m \u001b[38;5;66;03m# `fit` should always return `self`\u001b[39;00m\n",
      "\u001b[0;31mAttributeError\u001b[0m: 'Optimizer' object has no attribute 'target'"
     ]
    }
   ],
   "source": [
    "m.fit(X_train, y_train.ravel())  # Training the model"
   ]
  },
  {
   "cell_type": "code",
   "execution_count": 12,
   "id": "f8e6fa23",
   "metadata": {},
   "outputs": [
    {
     "name": "stdout",
     "output_type": "stream",
     "text": [
      "📊 MSE: 0.8117\n",
      "📊 MAE: 0.6842\n",
      "📈 R² Score: 0.7688\n"
     ]
    }
   ],
   "source": [
    "from sklearn.metrics import mean_squared_error, mean_absolute_error, r2_score\n",
    "\n",
    "# Predict on test set\n",
    "y_pred = m.predict(X_test)\n",
    "\n",
    "# Metrics\n",
    "mse = mean_squared_error(y_test, y_pred)\n",
    "mae = mean_absolute_error(y_test, y_pred)\n",
    "r2 = r2_score(y_test, y_pred)\n",
    "\n",
    "print(f\"📊 MSE: {mse:.4f}\")\n",
    "print(f\"📊 MAE: {mae:.4f}\")\n",
    "print(f\"📈 R² Score: {r2:.4f}\")"
   ]
  },
  {
   "cell_type": "markdown",
   "id": "cd53c491",
   "metadata": {},
   "source": [
    "## Gridsearch\n"
   ]
  },
  {
   "cell_type": "code",
   "execution_count": 26,
   "id": "7562eb6c",
   "metadata": {},
   "outputs": [],
   "source": [
    "param_grid = {\n",
    "    \"lr\": [0.01, 0.1, 1],\n",
    "    \"batch_size\": [64, 128],\n",
    "}\n",
    "\n",
    "\n",
    "search = GridSearchCV(\n",
    "    MLPRegressor(model, lr=0.01, epochs=50, batch_size=64),\n",
    "    param_grid=param_grid,\n",
    "    scoring=\"r2\",\n",
    "    cv=3,\n",
    "    verbose=2\n",
    ")\n",
    "\n"
   ]
  },
  {
   "cell_type": "code",
   "execution_count": 28,
   "id": "562e3b55",
   "metadata": {},
   "outputs": [
    {
     "name": "stdout",
     "output_type": "stream",
     "text": [
      "Fitting 3 folds for each of 6 candidates, totalling 18 fits\n"
     ]
    },
    {
     "data": {
      "application/vnd.jupyter.widget-view+json": {
       "model_id": "fbd47ceb855f47558a0febb057532213",
       "version_major": 2,
       "version_minor": 0
      },
      "text/plain": [
       "  0%|          | 0/50 [00:00<?, ?it/s]"
      ]
     },
     "metadata": {},
     "output_type": "display_data"
    },
    {
     "name": "stdout",
     "output_type": "stream",
     "text": [
      "[CV] END .............................batch_size=64, lr=0.01; total time=36.2min\n"
     ]
    },
    {
     "data": {
      "application/vnd.jupyter.widget-view+json": {
       "model_id": "4e52131698024af7a7df93153e93f21b",
       "version_major": 2,
       "version_minor": 0
      },
      "text/plain": [
       "  0%|          | 0/50 [00:00<?, ?it/s]"
      ]
     },
     "metadata": {},
     "output_type": "display_data"
    },
    {
     "name": "stdout",
     "output_type": "stream",
     "text": [
      "[CV] END .............................batch_size=64, lr=0.01; total time=34.5min\n"
     ]
    },
    {
     "data": {
      "application/vnd.jupyter.widget-view+json": {
       "model_id": "3b5295987063457ebcf17459625de7d3",
       "version_major": 2,
       "version_minor": 0
      },
      "text/plain": [
       "  0%|          | 0/50 [00:00<?, ?it/s]"
      ]
     },
     "metadata": {},
     "output_type": "display_data"
    },
    {
     "name": "stdout",
     "output_type": "stream",
     "text": [
      "[CV] END .............................batch_size=64, lr=0.01; total time=33.0min\n"
     ]
    },
    {
     "data": {
      "application/vnd.jupyter.widget-view+json": {
       "model_id": "6e5e6eea5d9e4cd89ca1b23b1fc81329",
       "version_major": 2,
       "version_minor": 0
      },
      "text/plain": [
       "  0%|          | 0/50 [00:00<?, ?it/s]"
      ]
     },
     "metadata": {},
     "output_type": "display_data"
    },
    {
     "name": "stdout",
     "output_type": "stream",
     "text": [
      "[CV] END ..............................batch_size=64, lr=0.1; total time=30.4min\n"
     ]
    },
    {
     "data": {
      "application/vnd.jupyter.widget-view+json": {
       "model_id": "06b20be60d5a49bfb63ba66ea0d63108",
       "version_major": 2,
       "version_minor": 0
      },
      "text/plain": [
       "  0%|          | 0/50 [00:00<?, ?it/s]"
      ]
     },
     "metadata": {},
     "output_type": "display_data"
    },
    {
     "name": "stdout",
     "output_type": "stream",
     "text": [
      "[CV] END ..............................batch_size=64, lr=0.1; total time=32.7min\n"
     ]
    },
    {
     "data": {
      "application/vnd.jupyter.widget-view+json": {
       "model_id": "c7b0bf6cebea43f1923b746db8046282",
       "version_major": 2,
       "version_minor": 0
      },
      "text/plain": [
       "  0%|          | 0/50 [00:00<?, ?it/s]"
      ]
     },
     "metadata": {},
     "output_type": "display_data"
    },
    {
     "name": "stdout",
     "output_type": "stream",
     "text": [
      "[CV] END ..............................batch_size=64, lr=0.1; total time=33.4min\n"
     ]
    },
    {
     "data": {
      "application/vnd.jupyter.widget-view+json": {
       "model_id": "8991f2e36963452996356471a906dd10",
       "version_major": 2,
       "version_minor": 0
      },
      "text/plain": [
       "  0%|          | 0/50 [00:00<?, ?it/s]"
      ]
     },
     "metadata": {},
     "output_type": "display_data"
    },
    {
     "name": "stdout",
     "output_type": "stream",
     "text": [
      "[CV] END ................................batch_size=64, lr=1; total time=33.2min\n"
     ]
    },
    {
     "data": {
      "application/vnd.jupyter.widget-view+json": {
       "model_id": "c433d8d43b6b4cbd848f6673937a40c4",
       "version_major": 2,
       "version_minor": 0
      },
      "text/plain": [
       "  0%|          | 0/50 [00:00<?, ?it/s]"
      ]
     },
     "metadata": {},
     "output_type": "display_data"
    },
    {
     "name": "stdout",
     "output_type": "stream",
     "text": [
      "[CV] END ................................batch_size=64, lr=1; total time=31.8min\n"
     ]
    },
    {
     "data": {
      "application/vnd.jupyter.widget-view+json": {
       "model_id": "c7b725c409544dffb0feae0d0d83aa5d",
       "version_major": 2,
       "version_minor": 0
      },
      "text/plain": [
       "  0%|          | 0/50 [00:00<?, ?it/s]"
      ]
     },
     "metadata": {},
     "output_type": "display_data"
    },
    {
     "name": "stdout",
     "output_type": "stream",
     "text": [
      "[CV] END ................................batch_size=64, lr=1; total time=33.3min\n"
     ]
    },
    {
     "data": {
      "application/vnd.jupyter.widget-view+json": {
       "model_id": "fd81be7d8faf45d7b1b78d54d0a0a47c",
       "version_major": 2,
       "version_minor": 0
      },
      "text/plain": [
       "  0%|          | 0/50 [00:00<?, ?it/s]"
      ]
     },
     "metadata": {},
     "output_type": "display_data"
    },
    {
     "name": "stdout",
     "output_type": "stream",
     "text": [
      "[CV] END ............................batch_size=128, lr=0.01; total time=17.0min\n"
     ]
    },
    {
     "data": {
      "application/vnd.jupyter.widget-view+json": {
       "model_id": "674dbe1595414055829d10e3dda50a4d",
       "version_major": 2,
       "version_minor": 0
      },
      "text/plain": [
       "  0%|          | 0/50 [00:00<?, ?it/s]"
      ]
     },
     "metadata": {},
     "output_type": "display_data"
    },
    {
     "name": "stdout",
     "output_type": "stream",
     "text": [
      "[CV] END ............................batch_size=128, lr=0.01; total time=15.8min\n"
     ]
    },
    {
     "data": {
      "application/vnd.jupyter.widget-view+json": {
       "model_id": "6bb51f07cd07478c9ce96f27cbf4de0a",
       "version_major": 2,
       "version_minor": 0
      },
      "text/plain": [
       "  0%|          | 0/50 [00:00<?, ?it/s]"
      ]
     },
     "metadata": {},
     "output_type": "display_data"
    },
    {
     "name": "stdout",
     "output_type": "stream",
     "text": [
      "[CV] END ............................batch_size=128, lr=0.01; total time=15.4min\n"
     ]
    },
    {
     "data": {
      "application/vnd.jupyter.widget-view+json": {
       "model_id": "6c1f3153e99a4299ba66a14a586dec79",
       "version_major": 2,
       "version_minor": 0
      },
      "text/plain": [
       "  0%|          | 0/50 [00:00<?, ?it/s]"
      ]
     },
     "metadata": {},
     "output_type": "display_data"
    },
    {
     "name": "stdout",
     "output_type": "stream",
     "text": [
      "[CV] END .............................batch_size=128, lr=0.1; total time=16.7min\n"
     ]
    },
    {
     "data": {
      "application/vnd.jupyter.widget-view+json": {
       "model_id": "5ab36fdbeb1e4833960d10e288a42290",
       "version_major": 2,
       "version_minor": 0
      },
      "text/plain": [
       "  0%|          | 0/50 [00:00<?, ?it/s]"
      ]
     },
     "metadata": {},
     "output_type": "display_data"
    },
    {
     "name": "stdout",
     "output_type": "stream",
     "text": [
      "[CV] END .............................batch_size=128, lr=0.1; total time=16.4min\n"
     ]
    },
    {
     "data": {
      "application/vnd.jupyter.widget-view+json": {
       "model_id": "f6851a1e837d417582543734c6829075",
       "version_major": 2,
       "version_minor": 0
      },
      "text/plain": [
       "  0%|          | 0/50 [00:00<?, ?it/s]"
      ]
     },
     "metadata": {},
     "output_type": "display_data"
    },
    {
     "name": "stdout",
     "output_type": "stream",
     "text": [
      "[CV] END .............................batch_size=128, lr=0.1; total time=16.6min\n"
     ]
    },
    {
     "data": {
      "application/vnd.jupyter.widget-view+json": {
       "model_id": "7bc2ebf7776b4b1991fecc4190584835",
       "version_major": 2,
       "version_minor": 0
      },
      "text/plain": [
       "  0%|          | 0/50 [00:00<?, ?it/s]"
      ]
     },
     "metadata": {},
     "output_type": "display_data"
    },
    {
     "name": "stdout",
     "output_type": "stream",
     "text": [
      "[CV] END ...............................batch_size=128, lr=1; total time=16.4min\n"
     ]
    },
    {
     "data": {
      "application/vnd.jupyter.widget-view+json": {
       "model_id": "0f10ffae1c1547448c54f7826b73bf0b",
       "version_major": 2,
       "version_minor": 0
      },
      "text/plain": [
       "  0%|          | 0/50 [00:00<?, ?it/s]"
      ]
     },
     "metadata": {},
     "output_type": "display_data"
    },
    {
     "name": "stdout",
     "output_type": "stream",
     "text": [
      "[CV] END ...............................batch_size=128, lr=1; total time=16.4min\n"
     ]
    },
    {
     "data": {
      "application/vnd.jupyter.widget-view+json": {
       "model_id": "6f85a38642034056ad87971aa0ff13d6",
       "version_major": 2,
       "version_minor": 0
      },
      "text/plain": [
       "  0%|          | 0/50 [00:00<?, ?it/s]"
      ]
     },
     "metadata": {},
     "output_type": "display_data"
    },
    {
     "name": "stdout",
     "output_type": "stream",
     "text": [
      "[CV] END ...............................batch_size=128, lr=1; total time=16.8min\n"
     ]
    },
    {
     "data": {
      "application/vnd.jupyter.widget-view+json": {
       "model_id": "fa575abbc60f4d9cb50d5644284c5e61",
       "version_major": 2,
       "version_minor": 0
      },
      "text/plain": [
       "  0%|          | 0/50 [00:00<?, ?it/s]"
      ]
     },
     "metadata": {},
     "output_type": "display_data"
    },
    {
     "data": {
      "text/html": [
       "<style>#sk-container-id-1 {\n",
       "  /* Definition of color scheme common for light and dark mode */\n",
       "  --sklearn-color-text: black;\n",
       "  --sklearn-color-line: gray;\n",
       "  /* Definition of color scheme for unfitted estimators */\n",
       "  --sklearn-color-unfitted-level-0: #fff5e6;\n",
       "  --sklearn-color-unfitted-level-1: #f6e4d2;\n",
       "  --sklearn-color-unfitted-level-2: #ffe0b3;\n",
       "  --sklearn-color-unfitted-level-3: chocolate;\n",
       "  /* Definition of color scheme for fitted estimators */\n",
       "  --sklearn-color-fitted-level-0: #f0f8ff;\n",
       "  --sklearn-color-fitted-level-1: #d4ebff;\n",
       "  --sklearn-color-fitted-level-2: #b3dbfd;\n",
       "  --sklearn-color-fitted-level-3: cornflowerblue;\n",
       "\n",
       "  /* Specific color for light theme */\n",
       "  --sklearn-color-text-on-default-background: var(--sg-text-color, var(--theme-code-foreground, var(--jp-content-font-color1, black)));\n",
       "  --sklearn-color-background: var(--sg-background-color, var(--theme-background, var(--jp-layout-color0, white)));\n",
       "  --sklearn-color-border-box: var(--sg-text-color, var(--theme-code-foreground, var(--jp-content-font-color1, black)));\n",
       "  --sklearn-color-icon: #696969;\n",
       "\n",
       "  @media (prefers-color-scheme: dark) {\n",
       "    /* Redefinition of color scheme for dark theme */\n",
       "    --sklearn-color-text-on-default-background: var(--sg-text-color, var(--theme-code-foreground, var(--jp-content-font-color1, white)));\n",
       "    --sklearn-color-background: var(--sg-background-color, var(--theme-background, var(--jp-layout-color0, #111)));\n",
       "    --sklearn-color-border-box: var(--sg-text-color, var(--theme-code-foreground, var(--jp-content-font-color1, white)));\n",
       "    --sklearn-color-icon: #878787;\n",
       "  }\n",
       "}\n",
       "\n",
       "#sk-container-id-1 {\n",
       "  color: var(--sklearn-color-text);\n",
       "}\n",
       "\n",
       "#sk-container-id-1 pre {\n",
       "  padding: 0;\n",
       "}\n",
       "\n",
       "#sk-container-id-1 input.sk-hidden--visually {\n",
       "  border: 0;\n",
       "  clip: rect(1px 1px 1px 1px);\n",
       "  clip: rect(1px, 1px, 1px, 1px);\n",
       "  height: 1px;\n",
       "  margin: -1px;\n",
       "  overflow: hidden;\n",
       "  padding: 0;\n",
       "  position: absolute;\n",
       "  width: 1px;\n",
       "}\n",
       "\n",
       "#sk-container-id-1 div.sk-dashed-wrapped {\n",
       "  border: 1px dashed var(--sklearn-color-line);\n",
       "  margin: 0 0.4em 0.5em 0.4em;\n",
       "  box-sizing: border-box;\n",
       "  padding-bottom: 0.4em;\n",
       "  background-color: var(--sklearn-color-background);\n",
       "}\n",
       "\n",
       "#sk-container-id-1 div.sk-container {\n",
       "  /* jupyter's `normalize.less` sets `[hidden] { display: none; }`\n",
       "     but bootstrap.min.css set `[hidden] { display: none !important; }`\n",
       "     so we also need the `!important` here to be able to override the\n",
       "     default hidden behavior on the sphinx rendered scikit-learn.org.\n",
       "     See: https://github.com/scikit-learn/scikit-learn/issues/21755 */\n",
       "  display: inline-block !important;\n",
       "  position: relative;\n",
       "}\n",
       "\n",
       "#sk-container-id-1 div.sk-text-repr-fallback {\n",
       "  display: none;\n",
       "}\n",
       "\n",
       "div.sk-parallel-item,\n",
       "div.sk-serial,\n",
       "div.sk-item {\n",
       "  /* draw centered vertical line to link estimators */\n",
       "  background-image: linear-gradient(var(--sklearn-color-text-on-default-background), var(--sklearn-color-text-on-default-background));\n",
       "  background-size: 2px 100%;\n",
       "  background-repeat: no-repeat;\n",
       "  background-position: center center;\n",
       "}\n",
       "\n",
       "/* Parallel-specific style estimator block */\n",
       "\n",
       "#sk-container-id-1 div.sk-parallel-item::after {\n",
       "  content: \"\";\n",
       "  width: 100%;\n",
       "  border-bottom: 2px solid var(--sklearn-color-text-on-default-background);\n",
       "  flex-grow: 1;\n",
       "}\n",
       "\n",
       "#sk-container-id-1 div.sk-parallel {\n",
       "  display: flex;\n",
       "  align-items: stretch;\n",
       "  justify-content: center;\n",
       "  background-color: var(--sklearn-color-background);\n",
       "  position: relative;\n",
       "}\n",
       "\n",
       "#sk-container-id-1 div.sk-parallel-item {\n",
       "  display: flex;\n",
       "  flex-direction: column;\n",
       "}\n",
       "\n",
       "#sk-container-id-1 div.sk-parallel-item:first-child::after {\n",
       "  align-self: flex-end;\n",
       "  width: 50%;\n",
       "}\n",
       "\n",
       "#sk-container-id-1 div.sk-parallel-item:last-child::after {\n",
       "  align-self: flex-start;\n",
       "  width: 50%;\n",
       "}\n",
       "\n",
       "#sk-container-id-1 div.sk-parallel-item:only-child::after {\n",
       "  width: 0;\n",
       "}\n",
       "\n",
       "/* Serial-specific style estimator block */\n",
       "\n",
       "#sk-container-id-1 div.sk-serial {\n",
       "  display: flex;\n",
       "  flex-direction: column;\n",
       "  align-items: center;\n",
       "  background-color: var(--sklearn-color-background);\n",
       "  padding-right: 1em;\n",
       "  padding-left: 1em;\n",
       "}\n",
       "\n",
       "\n",
       "/* Toggleable style: style used for estimator/Pipeline/ColumnTransformer box that is\n",
       "clickable and can be expanded/collapsed.\n",
       "- Pipeline and ColumnTransformer use this feature and define the default style\n",
       "- Estimators will overwrite some part of the style using the `sk-estimator` class\n",
       "*/\n",
       "\n",
       "/* Pipeline and ColumnTransformer style (default) */\n",
       "\n",
       "#sk-container-id-1 div.sk-toggleable {\n",
       "  /* Default theme specific background. It is overwritten whether we have a\n",
       "  specific estimator or a Pipeline/ColumnTransformer */\n",
       "  background-color: var(--sklearn-color-background);\n",
       "}\n",
       "\n",
       "/* Toggleable label */\n",
       "#sk-container-id-1 label.sk-toggleable__label {\n",
       "  cursor: pointer;\n",
       "  display: block;\n",
       "  width: 100%;\n",
       "  margin-bottom: 0;\n",
       "  padding: 0.5em;\n",
       "  box-sizing: border-box;\n",
       "  text-align: center;\n",
       "}\n",
       "\n",
       "#sk-container-id-1 label.sk-toggleable__label-arrow:before {\n",
       "  /* Arrow on the left of the label */\n",
       "  content: \"▸\";\n",
       "  float: left;\n",
       "  margin-right: 0.25em;\n",
       "  color: var(--sklearn-color-icon);\n",
       "}\n",
       "\n",
       "#sk-container-id-1 label.sk-toggleable__label-arrow:hover:before {\n",
       "  color: var(--sklearn-color-text);\n",
       "}\n",
       "\n",
       "/* Toggleable content - dropdown */\n",
       "\n",
       "#sk-container-id-1 div.sk-toggleable__content {\n",
       "  max-height: 0;\n",
       "  max-width: 0;\n",
       "  overflow: hidden;\n",
       "  text-align: left;\n",
       "  /* unfitted */\n",
       "  background-color: var(--sklearn-color-unfitted-level-0);\n",
       "}\n",
       "\n",
       "#sk-container-id-1 div.sk-toggleable__content.fitted {\n",
       "  /* fitted */\n",
       "  background-color: var(--sklearn-color-fitted-level-0);\n",
       "}\n",
       "\n",
       "#sk-container-id-1 div.sk-toggleable__content pre {\n",
       "  margin: 0.2em;\n",
       "  border-radius: 0.25em;\n",
       "  color: var(--sklearn-color-text);\n",
       "  /* unfitted */\n",
       "  background-color: var(--sklearn-color-unfitted-level-0);\n",
       "}\n",
       "\n",
       "#sk-container-id-1 div.sk-toggleable__content.fitted pre {\n",
       "  /* unfitted */\n",
       "  background-color: var(--sklearn-color-fitted-level-0);\n",
       "}\n",
       "\n",
       "#sk-container-id-1 input.sk-toggleable__control:checked~div.sk-toggleable__content {\n",
       "  /* Expand drop-down */\n",
       "  max-height: 200px;\n",
       "  max-width: 100%;\n",
       "  overflow: auto;\n",
       "}\n",
       "\n",
       "#sk-container-id-1 input.sk-toggleable__control:checked~label.sk-toggleable__label-arrow:before {\n",
       "  content: \"▾\";\n",
       "}\n",
       "\n",
       "/* Pipeline/ColumnTransformer-specific style */\n",
       "\n",
       "#sk-container-id-1 div.sk-label input.sk-toggleable__control:checked~label.sk-toggleable__label {\n",
       "  color: var(--sklearn-color-text);\n",
       "  background-color: var(--sklearn-color-unfitted-level-2);\n",
       "}\n",
       "\n",
       "#sk-container-id-1 div.sk-label.fitted input.sk-toggleable__control:checked~label.sk-toggleable__label {\n",
       "  background-color: var(--sklearn-color-fitted-level-2);\n",
       "}\n",
       "\n",
       "/* Estimator-specific style */\n",
       "\n",
       "/* Colorize estimator box */\n",
       "#sk-container-id-1 div.sk-estimator input.sk-toggleable__control:checked~label.sk-toggleable__label {\n",
       "  /* unfitted */\n",
       "  background-color: var(--sklearn-color-unfitted-level-2);\n",
       "}\n",
       "\n",
       "#sk-container-id-1 div.sk-estimator.fitted input.sk-toggleable__control:checked~label.sk-toggleable__label {\n",
       "  /* fitted */\n",
       "  background-color: var(--sklearn-color-fitted-level-2);\n",
       "}\n",
       "\n",
       "#sk-container-id-1 div.sk-label label.sk-toggleable__label,\n",
       "#sk-container-id-1 div.sk-label label {\n",
       "  /* The background is the default theme color */\n",
       "  color: var(--sklearn-color-text-on-default-background);\n",
       "}\n",
       "\n",
       "/* On hover, darken the color of the background */\n",
       "#sk-container-id-1 div.sk-label:hover label.sk-toggleable__label {\n",
       "  color: var(--sklearn-color-text);\n",
       "  background-color: var(--sklearn-color-unfitted-level-2);\n",
       "}\n",
       "\n",
       "/* Label box, darken color on hover, fitted */\n",
       "#sk-container-id-1 div.sk-label.fitted:hover label.sk-toggleable__label.fitted {\n",
       "  color: var(--sklearn-color-text);\n",
       "  background-color: var(--sklearn-color-fitted-level-2);\n",
       "}\n",
       "\n",
       "/* Estimator label */\n",
       "\n",
       "#sk-container-id-1 div.sk-label label {\n",
       "  font-family: monospace;\n",
       "  font-weight: bold;\n",
       "  display: inline-block;\n",
       "  line-height: 1.2em;\n",
       "}\n",
       "\n",
       "#sk-container-id-1 div.sk-label-container {\n",
       "  text-align: center;\n",
       "}\n",
       "\n",
       "/* Estimator-specific */\n",
       "#sk-container-id-1 div.sk-estimator {\n",
       "  font-family: monospace;\n",
       "  border: 1px dotted var(--sklearn-color-border-box);\n",
       "  border-radius: 0.25em;\n",
       "  box-sizing: border-box;\n",
       "  margin-bottom: 0.5em;\n",
       "  /* unfitted */\n",
       "  background-color: var(--sklearn-color-unfitted-level-0);\n",
       "}\n",
       "\n",
       "#sk-container-id-1 div.sk-estimator.fitted {\n",
       "  /* fitted */\n",
       "  background-color: var(--sklearn-color-fitted-level-0);\n",
       "}\n",
       "\n",
       "/* on hover */\n",
       "#sk-container-id-1 div.sk-estimator:hover {\n",
       "  /* unfitted */\n",
       "  background-color: var(--sklearn-color-unfitted-level-2);\n",
       "}\n",
       "\n",
       "#sk-container-id-1 div.sk-estimator.fitted:hover {\n",
       "  /* fitted */\n",
       "  background-color: var(--sklearn-color-fitted-level-2);\n",
       "}\n",
       "\n",
       "/* Specification for estimator info (e.g. \"i\" and \"?\") */\n",
       "\n",
       "/* Common style for \"i\" and \"?\" */\n",
       "\n",
       ".sk-estimator-doc-link,\n",
       "a:link.sk-estimator-doc-link,\n",
       "a:visited.sk-estimator-doc-link {\n",
       "  float: right;\n",
       "  font-size: smaller;\n",
       "  line-height: 1em;\n",
       "  font-family: monospace;\n",
       "  background-color: var(--sklearn-color-background);\n",
       "  border-radius: 1em;\n",
       "  height: 1em;\n",
       "  width: 1em;\n",
       "  text-decoration: none !important;\n",
       "  margin-left: 1ex;\n",
       "  /* unfitted */\n",
       "  border: var(--sklearn-color-unfitted-level-1) 1pt solid;\n",
       "  color: var(--sklearn-color-unfitted-level-1);\n",
       "}\n",
       "\n",
       ".sk-estimator-doc-link.fitted,\n",
       "a:link.sk-estimator-doc-link.fitted,\n",
       "a:visited.sk-estimator-doc-link.fitted {\n",
       "  /* fitted */\n",
       "  border: var(--sklearn-color-fitted-level-1) 1pt solid;\n",
       "  color: var(--sklearn-color-fitted-level-1);\n",
       "}\n",
       "\n",
       "/* On hover */\n",
       "div.sk-estimator:hover .sk-estimator-doc-link:hover,\n",
       ".sk-estimator-doc-link:hover,\n",
       "div.sk-label-container:hover .sk-estimator-doc-link:hover,\n",
       ".sk-estimator-doc-link:hover {\n",
       "  /* unfitted */\n",
       "  background-color: var(--sklearn-color-unfitted-level-3);\n",
       "  color: var(--sklearn-color-background);\n",
       "  text-decoration: none;\n",
       "}\n",
       "\n",
       "div.sk-estimator.fitted:hover .sk-estimator-doc-link.fitted:hover,\n",
       ".sk-estimator-doc-link.fitted:hover,\n",
       "div.sk-label-container:hover .sk-estimator-doc-link.fitted:hover,\n",
       ".sk-estimator-doc-link.fitted:hover {\n",
       "  /* fitted */\n",
       "  background-color: var(--sklearn-color-fitted-level-3);\n",
       "  color: var(--sklearn-color-background);\n",
       "  text-decoration: none;\n",
       "}\n",
       "\n",
       "/* Span, style for the box shown on hovering the info icon */\n",
       ".sk-estimator-doc-link span {\n",
       "  display: none;\n",
       "  z-index: 9999;\n",
       "  position: relative;\n",
       "  font-weight: normal;\n",
       "  right: .2ex;\n",
       "  padding: .5ex;\n",
       "  margin: .5ex;\n",
       "  width: min-content;\n",
       "  min-width: 20ex;\n",
       "  max-width: 50ex;\n",
       "  color: var(--sklearn-color-text);\n",
       "  box-shadow: 2pt 2pt 4pt #999;\n",
       "  /* unfitted */\n",
       "  background: var(--sklearn-color-unfitted-level-0);\n",
       "  border: .5pt solid var(--sklearn-color-unfitted-level-3);\n",
       "}\n",
       "\n",
       ".sk-estimator-doc-link.fitted span {\n",
       "  /* fitted */\n",
       "  background: var(--sklearn-color-fitted-level-0);\n",
       "  border: var(--sklearn-color-fitted-level-3);\n",
       "}\n",
       "\n",
       ".sk-estimator-doc-link:hover span {\n",
       "  display: block;\n",
       "}\n",
       "\n",
       "/* \"?\"-specific style due to the `<a>` HTML tag */\n",
       "\n",
       "#sk-container-id-1 a.estimator_doc_link {\n",
       "  float: right;\n",
       "  font-size: 1rem;\n",
       "  line-height: 1em;\n",
       "  font-family: monospace;\n",
       "  background-color: var(--sklearn-color-background);\n",
       "  border-radius: 1rem;\n",
       "  height: 1rem;\n",
       "  width: 1rem;\n",
       "  text-decoration: none;\n",
       "  /* unfitted */\n",
       "  color: var(--sklearn-color-unfitted-level-1);\n",
       "  border: var(--sklearn-color-unfitted-level-1) 1pt solid;\n",
       "}\n",
       "\n",
       "#sk-container-id-1 a.estimator_doc_link.fitted {\n",
       "  /* fitted */\n",
       "  border: var(--sklearn-color-fitted-level-1) 1pt solid;\n",
       "  color: var(--sklearn-color-fitted-level-1);\n",
       "}\n",
       "\n",
       "/* On hover */\n",
       "#sk-container-id-1 a.estimator_doc_link:hover {\n",
       "  /* unfitted */\n",
       "  background-color: var(--sklearn-color-unfitted-level-3);\n",
       "  color: var(--sklearn-color-background);\n",
       "  text-decoration: none;\n",
       "}\n",
       "\n",
       "#sk-container-id-1 a.estimator_doc_link.fitted:hover {\n",
       "  /* fitted */\n",
       "  background-color: var(--sklearn-color-fitted-level-3);\n",
       "}\n",
       "</style><div id=\"sk-container-id-1\" class=\"sk-top-container\"><div class=\"sk-text-repr-fallback\"><pre>GridSearchCV(cv=3,\n",
       "             estimator=MLPRegressor(batch_size=64, epochs=50, lr=0.01,\n",
       "                                    model=Model(\n",
       "  linear1=Linear(\n",
       "    kernel=Param(\n",
       "      value=Array(shape=(12, 64), dtype=float32)\n",
       "    ),\n",
       "    bias=Param(\n",
       "      value=Array(shape=(64,), dtype=float32)\n",
       "    ),\n",
       "    in_features=12,\n",
       "    out_features=64,\n",
       "    use_bias=True,\n",
       "    dtype=None,\n",
       "    param_dtype=&lt;class &#x27;jax.numpy.float32&#x27;&gt;,\n",
       "    precision=None,\n",
       "    kernel_init=&lt;function variance_scal...\n",
       "    ),\n",
       "    in_features=32,\n",
       "    out_features=1,\n",
       "    use_bias=True,\n",
       "    dtype=None,\n",
       "    param_dtype=&lt;class &#x27;jax.numpy.float32&#x27;&gt;,\n",
       "    precision=None,\n",
       "    kernel_init=&lt;function variance_scaling.&lt;locals&gt;.init at 0x7fb6659d1300&gt;,\n",
       "    bias_init=&lt;function zeros at 0x7fb6662a27a0&gt;,\n",
       "    dot_general=&lt;function dot_general at 0x7fb666ab0ae0&gt;\n",
       "  )\n",
       ")),\n",
       "             param_grid={&#x27;batch_size&#x27;: [64, 128], &#x27;lr&#x27;: [0.01, 0.1, 1]},\n",
       "             scoring=&#x27;r2&#x27;, verbose=2)</pre><b>In a Jupyter environment, please rerun this cell to show the HTML representation or trust the notebook. <br />On GitHub, the HTML representation is unable to render, please try loading this page with nbviewer.org.</b></div><div class=\"sk-container\" hidden><div class=\"sk-item sk-dashed-wrapped\"><div class=\"sk-label-container\"><div class=\"sk-label fitted sk-toggleable\"><input class=\"sk-toggleable__control sk-hidden--visually\" id=\"sk-estimator-id-1\" type=\"checkbox\" ><label for=\"sk-estimator-id-1\" class=\"sk-toggleable__label fitted sk-toggleable__label-arrow fitted\">&nbsp;&nbsp;GridSearchCV<a class=\"sk-estimator-doc-link fitted\" rel=\"noreferrer\" target=\"_blank\" href=\"https://scikit-learn.org/1.5/modules/generated/sklearn.model_selection.GridSearchCV.html\">?<span>Documentation for GridSearchCV</span></a><span class=\"sk-estimator-doc-link fitted\">i<span>Fitted</span></span></label><div class=\"sk-toggleable__content fitted\"><pre>GridSearchCV(cv=3,\n",
       "             estimator=MLPRegressor(batch_size=64, epochs=50, lr=0.01,\n",
       "                                    model=Model(\n",
       "  linear1=Linear(\n",
       "    kernel=Param(\n",
       "      value=Array(shape=(12, 64), dtype=float32)\n",
       "    ),\n",
       "    bias=Param(\n",
       "      value=Array(shape=(64,), dtype=float32)\n",
       "    ),\n",
       "    in_features=12,\n",
       "    out_features=64,\n",
       "    use_bias=True,\n",
       "    dtype=None,\n",
       "    param_dtype=&lt;class &#x27;jax.numpy.float32&#x27;&gt;,\n",
       "    precision=None,\n",
       "    kernel_init=&lt;function variance_scal...\n",
       "    ),\n",
       "    in_features=32,\n",
       "    out_features=1,\n",
       "    use_bias=True,\n",
       "    dtype=None,\n",
       "    param_dtype=&lt;class &#x27;jax.numpy.float32&#x27;&gt;,\n",
       "    precision=None,\n",
       "    kernel_init=&lt;function variance_scaling.&lt;locals&gt;.init at 0x7fb6659d1300&gt;,\n",
       "    bias_init=&lt;function zeros at 0x7fb6662a27a0&gt;,\n",
       "    dot_general=&lt;function dot_general at 0x7fb666ab0ae0&gt;\n",
       "  )\n",
       ")),\n",
       "             param_grid={&#x27;batch_size&#x27;: [64, 128], &#x27;lr&#x27;: [0.01, 0.1, 1]},\n",
       "             scoring=&#x27;r2&#x27;, verbose=2)</pre></div> </div></div><div class=\"sk-parallel\"><div class=\"sk-parallel-item\"><div class=\"sk-item\"><div class=\"sk-label-container\"><div class=\"sk-label fitted sk-toggleable\"><input class=\"sk-toggleable__control sk-hidden--visually\" id=\"sk-estimator-id-2\" type=\"checkbox\" ><label for=\"sk-estimator-id-2\" class=\"sk-toggleable__label fitted sk-toggleable__label-arrow fitted\">best_estimator_: MLPRegressor</label><div class=\"sk-toggleable__content fitted\"><pre>MLPRegressor(batch_size=128, epochs=50, lr=0.01,\n",
       "             model=Model(\n",
       "  linear1=Linear(\n",
       "    bias=Param(\n",
       "      value=Array(shape=(64,), dtype=float32)\n",
       "    ),\n",
       "    bias_init=&lt;function zeros at 0x7fb6662a27a0&gt;,\n",
       "    dot_general=&lt;function dot_general at 0x7fb666ab0ae0&gt;,\n",
       "    dtype=None,\n",
       "    in_features=12,\n",
       "    kernel=Param(\n",
       "      value=Array(shape=(12, 64), dtype=float32)\n",
       "    ),\n",
       "    kernel_init=&lt;function variance_scaling.&lt;locals&gt;.init at...\n",
       "      value=Array([18.23496], dtype=float32)\n",
       "    ),\n",
       "    bias_init=&lt;function zeros at 0x7fb6662a27a0&gt;,\n",
       "    dot_general=&lt;function dot_general at 0x7fb666ab0ae0&gt;,\n",
       "    dtype=None,\n",
       "    in_features=32,\n",
       "    kernel=Param(\n",
       "      value=Array(shape=(32, 1), dtype=float32)\n",
       "    ),\n",
       "    kernel_init=&lt;function variance_scaling.&lt;locals&gt;.init at 0x7fb6659d1300&gt;,\n",
       "    out_features=1,\n",
       "    param_dtype=&lt;class &#x27;jax.numpy.float32&#x27;&gt;,\n",
       "    precision=None,\n",
       "    use_bias=True\n",
       "  )\n",
       "))</pre></div> </div></div><div class=\"sk-serial\"><div class=\"sk-item\"><div class=\"sk-estimator fitted sk-toggleable\"><input class=\"sk-toggleable__control sk-hidden--visually\" id=\"sk-estimator-id-3\" type=\"checkbox\" ><label for=\"sk-estimator-id-3\" class=\"sk-toggleable__label fitted sk-toggleable__label-arrow fitted\">MLPRegressor</label><div class=\"sk-toggleable__content fitted\"><pre>MLPRegressor(batch_size=128, epochs=50, lr=0.01,\n",
       "             model=Model(\n",
       "  linear1=Linear(\n",
       "    bias=Param(\n",
       "      value=Array(shape=(64,), dtype=float32)\n",
       "    ),\n",
       "    bias_init=&lt;function zeros at 0x7fb6662a27a0&gt;,\n",
       "    dot_general=&lt;function dot_general at 0x7fb666ab0ae0&gt;,\n",
       "    dtype=None,\n",
       "    in_features=12,\n",
       "    kernel=Param(\n",
       "      value=Array(shape=(12, 64), dtype=float32)\n",
       "    ),\n",
       "    kernel_init=&lt;function variance_scaling.&lt;locals&gt;.init at...\n",
       "      value=Array([18.23496], dtype=float32)\n",
       "    ),\n",
       "    bias_init=&lt;function zeros at 0x7fb6662a27a0&gt;,\n",
       "    dot_general=&lt;function dot_general at 0x7fb666ab0ae0&gt;,\n",
       "    dtype=None,\n",
       "    in_features=32,\n",
       "    kernel=Param(\n",
       "      value=Array(shape=(32, 1), dtype=float32)\n",
       "    ),\n",
       "    kernel_init=&lt;function variance_scaling.&lt;locals&gt;.init at 0x7fb6659d1300&gt;,\n",
       "    out_features=1,\n",
       "    param_dtype=&lt;class &#x27;jax.numpy.float32&#x27;&gt;,\n",
       "    precision=None,\n",
       "    use_bias=True\n",
       "  )\n",
       "))</pre></div> </div></div></div></div></div></div></div></div></div>"
      ],
      "text/plain": [
       "GridSearchCV(cv=3,\n",
       "             estimator=MLPRegressor(batch_size=64, epochs=50, lr=0.01,\n",
       "                                    model=Model(\n",
       "  linear1=Linear(\n",
       "    kernel=Param(\n",
       "      value=Array(shape=(12, 64), dtype=float32)\n",
       "    ),\n",
       "    bias=Param(\n",
       "      value=Array(shape=(64,), dtype=float32)\n",
       "    ),\n",
       "    in_features=12,\n",
       "    out_features=64,\n",
       "    use_bias=True,\n",
       "    dtype=None,\n",
       "    param_dtype=<class 'jax.numpy.float32'>,\n",
       "    precision=None,\n",
       "    kernel_init=<function variance_scal...\n",
       "    ),\n",
       "    in_features=32,\n",
       "    out_features=1,\n",
       "    use_bias=True,\n",
       "    dtype=None,\n",
       "    param_dtype=<class 'jax.numpy.float32'>,\n",
       "    precision=None,\n",
       "    kernel_init=<function variance_scaling.<locals>.init at 0x7fb6659d1300>,\n",
       "    bias_init=<function zeros at 0x7fb6662a27a0>,\n",
       "    dot_general=<function dot_general at 0x7fb666ab0ae0>\n",
       "  )\n",
       ")),\n",
       "             param_grid={'batch_size': [64, 128], 'lr': [0.01, 0.1, 1]},\n",
       "             scoring='r2', verbose=2)"
      ]
     },
     "execution_count": 28,
     "metadata": {},
     "output_type": "execute_result"
    }
   ],
   "source": [
    "search.fit(X_grid, np.ravel(y_grid))"
   ]
  },
  {
   "cell_type": "code",
   "execution_count": 29,
   "id": "824dd3e7",
   "metadata": {},
   "outputs": [
    {
     "name": "stdout",
     "output_type": "stream",
     "text": [
      "🎯 Best Parameters Found: {'batch_size': 128, 'lr': 0.01}\n"
     ]
    }
   ],
   "source": [
    "best_params = search.best_params_\n",
    "print(\"🎯 Best Parameters Found:\", best_params)"
   ]
  },
  {
   "cell_type": "code",
   "execution_count": 30,
   "id": "b8100a6a",
   "metadata": {},
   "outputs": [
    {
     "name": "stdout",
     "output_type": "stream",
     "text": [
      "📈 Best Cross-Validated R²: 0.7618448535601298\n"
     ]
    }
   ],
   "source": [
    "print(\"📈 Best Cross-Validated R²:\", search.best_score_)\n"
   ]
  },
  {
   "cell_type": "code",
   "execution_count": 33,
   "id": "9c6c42f9",
   "metadata": {},
   "outputs": [
    {
     "data": {
      "application/vnd.microsoft.datawrangler.viewer.v0+json": {
       "columns": [
        {
         "name": "index",
         "rawType": "int64",
         "type": "integer"
        },
        {
         "name": "mean_fit_time",
         "rawType": "float64",
         "type": "float"
        },
        {
         "name": "std_fit_time",
         "rawType": "float64",
         "type": "float"
        },
        {
         "name": "mean_score_time",
         "rawType": "float64",
         "type": "float"
        },
        {
         "name": "std_score_time",
         "rawType": "float64",
         "type": "float"
        },
        {
         "name": "param_batch_size",
         "rawType": "int64",
         "type": "integer"
        },
        {
         "name": "param_lr",
         "rawType": "float64",
         "type": "float"
        },
        {
         "name": "params",
         "rawType": "object",
         "type": "unknown"
        },
        {
         "name": "split0_test_score",
         "rawType": "float64",
         "type": "float"
        },
        {
         "name": "split1_test_score",
         "rawType": "float64",
         "type": "float"
        },
        {
         "name": "split2_test_score",
         "rawType": "float64",
         "type": "float"
        },
        {
         "name": "mean_test_score",
         "rawType": "float64",
         "type": "float"
        },
        {
         "name": "std_test_score",
         "rawType": "float64",
         "type": "float"
        },
        {
         "name": "rank_test_score",
         "rawType": "int32",
         "type": "integer"
        }
       ],
       "conversionMethod": "pd.DataFrame",
       "ref": "b66f1820-61a7-4e99-8b19-08c2ac5f9313",
       "rows": [
        [
         "3",
         "963.6741360028585",
         "40.31914453406792",
         "0.10303004582722981",
         "0.0012083578953473824",
         "128",
         "0.01",
         "{'batch_size': 128, 'lr': 0.01}",
         "0.7601993083953857",
         "0.7677130103111267",
         "0.757622241973877",
         "0.7618448535601298",
         "0.004280713770383001",
         "1"
        ],
        [
         "0",
         "2074.235761245092",
         "81.08892909509989",
         "-0.22086071968078613",
         "0.8493449703836559",
         "64",
         "0.01",
         "{'batch_size': 64, 'lr': 0.01}",
         "0.7653976082801819",
         "0.7697181701660156",
         "0.7408813238143921",
         "0.7586657007535299",
         "0.012698552701977011",
         "2"
        ],
        [
         "4",
         "995.9669567743937",
         "6.6304200674967335",
         "0.10297656059265137",
         "0.002213361221497901",
         "128",
         "0.1",
         "{'batch_size': 128, 'lr': 0.1}",
         "-0.003208637237548828",
         "-0.000590205192565918",
         "-6.42538070678711e-05",
         "-0.001287698745727539",
         "0.0013751750753988419",
         "3"
        ],
        [
         "5",
         "990.9855267206827",
         "12.138161040120508",
         "0.10248613357543945",
         "0.0012315449796662648",
         "128",
         "1.0",
         "{'batch_size': 128, 'lr': 1}",
         "-2.181529998779297e-05",
         "-0.001559138298034668",
         "-0.005839705467224121",
         "-0.002473553021748861",
         "0.002461581769880939",
         "4"
        ],
        [
         "1",
         "1930.7889547348022",
         "77.5492818827672",
         "0.10286132494608562",
         "0.00051852181657631",
         "64",
         "0.1",
         "{'batch_size': 64, 'lr': 0.1}",
         "-0.025542140007019043",
         "-0.0003170967102050781",
         "-1.4185905456542969e-05",
         "-0.00862447420756022",
         "0.011963235371073116",
         "5"
        ],
        [
         "2",
         "1964.4844993750255",
         "41.33993221657913",
         "0.10388461748758952",
         "0.002581701081134859",
         "64",
         "1.0",
         "{'batch_size': 64, 'lr': 1}",
         "-0.02966153621673584",
         "-0.23270654678344727",
         "-0.15487873554229736",
         "-0.1390822728474935",
         "0.08364195619528211",
         "6"
        ]
       ],
       "shape": {
        "columns": 13,
        "rows": 6
       }
      },
      "text/html": [
       "<div>\n",
       "<style scoped>\n",
       "    .dataframe tbody tr th:only-of-type {\n",
       "        vertical-align: middle;\n",
       "    }\n",
       "\n",
       "    .dataframe tbody tr th {\n",
       "        vertical-align: top;\n",
       "    }\n",
       "\n",
       "    .dataframe thead th {\n",
       "        text-align: right;\n",
       "    }\n",
       "</style>\n",
       "<table border=\"1\" class=\"dataframe\">\n",
       "  <thead>\n",
       "    <tr style=\"text-align: right;\">\n",
       "      <th></th>\n",
       "      <th>mean_fit_time</th>\n",
       "      <th>std_fit_time</th>\n",
       "      <th>mean_score_time</th>\n",
       "      <th>std_score_time</th>\n",
       "      <th>param_batch_size</th>\n",
       "      <th>param_lr</th>\n",
       "      <th>params</th>\n",
       "      <th>split0_test_score</th>\n",
       "      <th>split1_test_score</th>\n",
       "      <th>split2_test_score</th>\n",
       "      <th>mean_test_score</th>\n",
       "      <th>std_test_score</th>\n",
       "      <th>rank_test_score</th>\n",
       "    </tr>\n",
       "  </thead>\n",
       "  <tbody>\n",
       "    <tr>\n",
       "      <th>3</th>\n",
       "      <td>963.674136</td>\n",
       "      <td>40.319145</td>\n",
       "      <td>0.103030</td>\n",
       "      <td>0.001208</td>\n",
       "      <td>128</td>\n",
       "      <td>0.01</td>\n",
       "      <td>{'batch_size': 128, 'lr': 0.01}</td>\n",
       "      <td>0.760199</td>\n",
       "      <td>0.767713</td>\n",
       "      <td>0.757622</td>\n",
       "      <td>0.761845</td>\n",
       "      <td>0.004281</td>\n",
       "      <td>1</td>\n",
       "    </tr>\n",
       "    <tr>\n",
       "      <th>0</th>\n",
       "      <td>2074.235761</td>\n",
       "      <td>81.088929</td>\n",
       "      <td>-0.220861</td>\n",
       "      <td>0.849345</td>\n",
       "      <td>64</td>\n",
       "      <td>0.01</td>\n",
       "      <td>{'batch_size': 64, 'lr': 0.01}</td>\n",
       "      <td>0.765398</td>\n",
       "      <td>0.769718</td>\n",
       "      <td>0.740881</td>\n",
       "      <td>0.758666</td>\n",
       "      <td>0.012699</td>\n",
       "      <td>2</td>\n",
       "    </tr>\n",
       "    <tr>\n",
       "      <th>4</th>\n",
       "      <td>995.966957</td>\n",
       "      <td>6.630420</td>\n",
       "      <td>0.102977</td>\n",
       "      <td>0.002213</td>\n",
       "      <td>128</td>\n",
       "      <td>0.10</td>\n",
       "      <td>{'batch_size': 128, 'lr': 0.1}</td>\n",
       "      <td>-0.003209</td>\n",
       "      <td>-0.000590</td>\n",
       "      <td>-0.000064</td>\n",
       "      <td>-0.001288</td>\n",
       "      <td>0.001375</td>\n",
       "      <td>3</td>\n",
       "    </tr>\n",
       "    <tr>\n",
       "      <th>5</th>\n",
       "      <td>990.985527</td>\n",
       "      <td>12.138161</td>\n",
       "      <td>0.102486</td>\n",
       "      <td>0.001232</td>\n",
       "      <td>128</td>\n",
       "      <td>1.00</td>\n",
       "      <td>{'batch_size': 128, 'lr': 1}</td>\n",
       "      <td>-0.000022</td>\n",
       "      <td>-0.001559</td>\n",
       "      <td>-0.005840</td>\n",
       "      <td>-0.002474</td>\n",
       "      <td>0.002462</td>\n",
       "      <td>4</td>\n",
       "    </tr>\n",
       "    <tr>\n",
       "      <th>1</th>\n",
       "      <td>1930.788955</td>\n",
       "      <td>77.549282</td>\n",
       "      <td>0.102861</td>\n",
       "      <td>0.000519</td>\n",
       "      <td>64</td>\n",
       "      <td>0.10</td>\n",
       "      <td>{'batch_size': 64, 'lr': 0.1}</td>\n",
       "      <td>-0.025542</td>\n",
       "      <td>-0.000317</td>\n",
       "      <td>-0.000014</td>\n",
       "      <td>-0.008624</td>\n",
       "      <td>0.011963</td>\n",
       "      <td>5</td>\n",
       "    </tr>\n",
       "    <tr>\n",
       "      <th>2</th>\n",
       "      <td>1964.484499</td>\n",
       "      <td>41.339932</td>\n",
       "      <td>0.103885</td>\n",
       "      <td>0.002582</td>\n",
       "      <td>64</td>\n",
       "      <td>1.00</td>\n",
       "      <td>{'batch_size': 64, 'lr': 1}</td>\n",
       "      <td>-0.029662</td>\n",
       "      <td>-0.232707</td>\n",
       "      <td>-0.154879</td>\n",
       "      <td>-0.139082</td>\n",
       "      <td>0.083642</td>\n",
       "      <td>6</td>\n",
       "    </tr>\n",
       "  </tbody>\n",
       "</table>\n",
       "</div>"
      ],
      "text/plain": [
       "   mean_fit_time  std_fit_time  mean_score_time  std_score_time  \\\n",
       "3     963.674136     40.319145         0.103030        0.001208   \n",
       "0    2074.235761     81.088929        -0.220861        0.849345   \n",
       "4     995.966957      6.630420         0.102977        0.002213   \n",
       "5     990.985527     12.138161         0.102486        0.001232   \n",
       "1    1930.788955     77.549282         0.102861        0.000519   \n",
       "2    1964.484499     41.339932         0.103885        0.002582   \n",
       "\n",
       "   param_batch_size  param_lr                           params  \\\n",
       "3               128      0.01  {'batch_size': 128, 'lr': 0.01}   \n",
       "0                64      0.01   {'batch_size': 64, 'lr': 0.01}   \n",
       "4               128      0.10   {'batch_size': 128, 'lr': 0.1}   \n",
       "5               128      1.00     {'batch_size': 128, 'lr': 1}   \n",
       "1                64      0.10    {'batch_size': 64, 'lr': 0.1}   \n",
       "2                64      1.00      {'batch_size': 64, 'lr': 1}   \n",
       "\n",
       "   split0_test_score  split1_test_score  split2_test_score  mean_test_score  \\\n",
       "3           0.760199           0.767713           0.757622         0.761845   \n",
       "0           0.765398           0.769718           0.740881         0.758666   \n",
       "4          -0.003209          -0.000590          -0.000064        -0.001288   \n",
       "5          -0.000022          -0.001559          -0.005840        -0.002474   \n",
       "1          -0.025542          -0.000317          -0.000014        -0.008624   \n",
       "2          -0.029662          -0.232707          -0.154879        -0.139082   \n",
       "\n",
       "   std_test_score  rank_test_score  \n",
       "3        0.004281                1  \n",
       "0        0.012699                2  \n",
       "4        0.001375                3  \n",
       "5        0.002462                4  \n",
       "1        0.011963                5  \n",
       "2        0.083642                6  "
      ]
     },
     "execution_count": 33,
     "metadata": {},
     "output_type": "execute_result"
    }
   ],
   "source": [
    "import pandas as pd\n",
    "pd.DataFrame(search.cv_results_).sort_values(\"rank_test_score\")\n"
   ]
  }
 ],
 "metadata": {
  "kernelspec": {
   "display_name": "datasim",
   "language": "python",
   "name": "python3"
  },
  "language_info": {
   "codemirror_mode": {
    "name": "ipython",
    "version": 3
   },
   "file_extension": ".py",
   "mimetype": "text/x-python",
   "name": "python",
   "nbconvert_exporter": "python",
   "pygments_lexer": "ipython3",
   "version": "3.12.5"
  }
 },
 "nbformat": 4,
 "nbformat_minor": 5
}
