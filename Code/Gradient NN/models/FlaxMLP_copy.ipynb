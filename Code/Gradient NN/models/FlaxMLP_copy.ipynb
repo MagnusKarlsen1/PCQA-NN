{
 "cells": [
  {
   "cell_type": "code",
   "execution_count": 11,
   "id": "562d1d86",
   "metadata": {},
   "outputs": [],
   "source": [
    "import jax\n",
    "import jax.numpy as jnp\n",
    "import optax\n",
    "import flax.nnx as nnx\n",
    "from flax.training import train_state\n",
    "from sklearn.model_selection import train_test_split\n",
    "from sklearn.model_selection import train_test_split\n",
    "from sklearn.preprocessing import StandardScaler\n",
    "import jax\n",
    "import jax.numpy as jnp\n",
    "import flax.nnx as nnx\n",
    "from jax import random\n",
    "from flax import serialization\n",
    "import json\n",
    "import optax\n",
    "import numpy as np\n",
    "from sklearn.utils.estimator_checks import check_is_fitted\n",
    "from sklearn.base import BaseEstimator, _fit_context\n",
    "from sklearn.model_selection import GridSearchCV\n",
    "from sklearn.metrics import r2_score\n",
    "from sklearn.pipeline import Pipeline\n",
    "from tqdm.notebook import tqdm # progress bar\n",
    "from sklearn.preprocessing import StandardScaler\n",
    "import logging\n",
    "from tqdm import trange\n",
    "from matplotlib.pyplot import plot\n",
    "import joblib\n",
    "import msgpack\n",
    "import pathlib\n",
    "\n"
   ]
  },
  {
   "cell_type": "code",
   "execution_count": 3,
   "id": "bbbaf240",
   "metadata": {},
   "outputs": [],
   "source": [
    "features = np.loadtxt(\"../Data/Training_data/meshsize_features2.txt\")[:,2:]#.reshape(-1,1)\n",
    "labels = np.loadtxt(\"../Data/Training_data/meshsize_labels2.txt\")[:,[0]]"
   ]
  },
  {
   "cell_type": "code",
   "execution_count": 7,
   "id": "d137f74a",
   "metadata": {},
   "outputs": [
    {
     "ename": "IndexError",
     "evalue": "index 1 is out of bounds for axis 1 with size 1",
     "output_type": "error",
     "traceback": [
      "\u001b[1;31m---------------------------------------------------------------------------\u001b[0m",
      "\u001b[1;31mIndexError\u001b[0m                                Traceback (most recent call last)",
      "Cell \u001b[1;32mIn[7], line 3\u001b[0m\n\u001b[0;32m      1\u001b[0m \u001b[38;5;66;03m# Split label array into individual columns\u001b[39;00m\n\u001b[0;32m      2\u001b[0m true_labels \u001b[38;5;241m=\u001b[39m labels[:, \u001b[38;5;241m0\u001b[39m]          \u001b[38;5;66;03m# Just the actual label\u001b[39;00m\n\u001b[1;32m----> 3\u001b[0m avg_radius_column \u001b[38;5;241m=\u001b[39m \u001b[43mlabels\u001b[49m\u001b[43m[\u001b[49m\u001b[43m:\u001b[49m\u001b[43m,\u001b[49m\u001b[43m \u001b[49m\u001b[38;5;241;43m1\u001b[39;49m\u001b[43m]\u001b[49m    \u001b[38;5;66;03m# The one you want to move to features\u001b[39;00m\n\u001b[0;32m      5\u001b[0m \u001b[38;5;66;03m# Reshape so you can concatenate it\u001b[39;00m\n\u001b[0;32m      6\u001b[0m avg_radius_column \u001b[38;5;241m=\u001b[39m avg_radius_column\u001b[38;5;241m.\u001b[39mreshape(\u001b[38;5;241m-\u001b[39m\u001b[38;5;241m1\u001b[39m, \u001b[38;5;241m1\u001b[39m)\n",
      "\u001b[1;31mIndexError\u001b[0m: index 1 is out of bounds for axis 1 with size 1"
     ]
    }
   ],
   "source": [
    "# Split label array into individual columns\n",
    "true_labels = labels[:, 0]          # Just the actual label\n",
    "avg_radius_column = labels[:, 1]    # The one you want to move to features\n",
    "\n",
    "# Reshape so you can concatenate it\n",
    "avg_radius_column = avg_radius_column.reshape(-1, 1)\n",
    "\n",
    "# Concatenate to features\n",
    "features_total_np = np.hstack([features, avg_radius_column])\n",
    "\n",
    "# Overwrite labels array with only the true label\n",
    "labels_total_np = true_labels.reshape(-1, 1)\n",
    "\n",
    "features_total_np = np.delete(features_total_np, [1,4,5,9], axis=1) # Remove variation"
   ]
  },
  {
   "cell_type": "code",
   "execution_count": null,
   "id": "8cbae6ca",
   "metadata": {},
   "outputs": [],
   "source": [
    "# Split into train/test\n",
    "X_train, X_test, y_train, y_test = train_test_split(features, labels, test_size=0.2, random_state=42)\n",
    "\n",
    "# Standardize input features (only fit on training data!)\n",
    "scaler = StandardScaler()\n",
    "\n",
    "\n",
    "X_train = scaler.fit_transform(X_train)\n",
    "joblib.dump(scaler, 'scaler.pkl')\n",
    "X_test = scaler.transform(X_test)\n",
    "\n",
    "X_grid, _, y_grid, _ = train_test_split(X_train, y_train, train_size=0.4, random_state=42) # Only using 40% of the data for gridsearching\n",
    "\n",
    "# Convert to JAX arrays\n",
    "X_train = jnp.array(X_train, dtype=jnp.float32)\n",
    "y_train = jnp.array(y_train, dtype=jnp.float32)\n",
    "\n",
    "X_test = jnp.array(X_test, dtype=jnp.float32)\n",
    "y_test = jnp.array(y_test, dtype=jnp.float32)\n",
    "\n",
    "# X_grid = jnp.array(X_grid, dtype=jnp.float32)\n",
    "# y_grid = jnp.array(y_grid, dtype=jnp.float32)"
   ]
  },
  {
   "cell_type": "code",
   "execution_count": 7,
   "id": "cd613440",
   "metadata": {},
   "outputs": [
    {
     "data": {
      "text/plain": [
       "(329139, 7)"
      ]
     },
     "execution_count": 7,
     "metadata": {},
     "output_type": "execute_result"
    }
   ],
   "source": [
    "X_test.shape"
   ]
  },
  {
   "cell_type": "code",
   "execution_count": 8,
   "id": "8bbd1c82",
   "metadata": {},
   "outputs": [
    {
     "name": "stderr",
     "output_type": "stream",
     "text": [
      "Training: 100%|██████████| 400/400 [13:37<00:00,  2.04s/it]\n"
     ]
    }
   ],
   "source": [
    "# Your MLP model\n",
    "class MLP(nnx.Module):\n",
    "    def __init__(self, din, dout, rngs: nnx.Rngs):\n",
    "        self.linear1 = nnx.Linear(din, 64, rngs=rngs)\n",
    "        self.linear2 = nnx.Linear(64, 128, rngs=rngs)\n",
    "        self.linear3 = nnx.Linear(128, 128, rngs=rngs)\n",
    "        self.linear4 = nnx.Linear(128, 64, rngs=rngs)\n",
    "        self.linear5 = nnx.Linear(64, dout, rngs=rngs)\n",
    "\n",
    "    def __call__(self, x):\n",
    "        x = nnx.relu(self.linear1(x))\n",
    "        x = nnx.relu(self.linear2(x))\n",
    "        x = nnx.relu(self.linear3(x))\n",
    "        x = nnx.relu(self.linear4(x))\n",
    "        return self.linear5(x)\n",
    "\n",
    "# Init\n",
    "model = MLP(X_train.shape[1], 1, rngs=nnx.Rngs(0))\n",
    "optimizer = nnx.Optimizer(model, optax.adam(1e-3))\n",
    "\n",
    "# Train step\n",
    "@nnx.jit\n",
    "def train_step(model, optimizer, x, y):\n",
    "    def loss_fn(model):\n",
    "        preds = model(x)\n",
    "        return jnp.mean((preds - y) ** 2)\n",
    "\n",
    "    loss, grads = nnx.value_and_grad(loss_fn)(model)\n",
    "    optimizer.update(grads)\n",
    "    return loss\n",
    "\n",
    "r2_test_history = []\n",
    "# Training loop\n",
    "for epoch in trange(400, desc=\"Training\"):\n",
    "    loss = train_step(model, optimizer, X_train, y_train)\n",
    "    y_pred_test = optimizer.model(X_test)\n",
    "    r2_test = r2_score(y_test, np.array(y_pred_test))\n",
    "    r2_test_history.append(r2_test)\n",
    "\n"
   ]
  },
  {
   "cell_type": "code",
   "execution_count": 12,
   "id": "a722dca4",
   "metadata": {},
   "outputs": [
    {
     "ename": "TypeError",
     "evalue": "can not serialize 'Optimizer' object",
     "output_type": "error",
     "traceback": [
      "\u001b[1;31m---------------------------------------------------------------------------\u001b[0m",
      "\u001b[1;31mTypeError\u001b[0m                                 Traceback (most recent call last)",
      "Cell \u001b[1;32mIn[12], line 3\u001b[0m\n\u001b[0;32m      1\u001b[0m \u001b[38;5;66;03m# Save optimizer (includes model parameters)\u001b[39;00m\n\u001b[0;32m      2\u001b[0m \u001b[38;5;28;01mwith\u001b[39;00m \u001b[38;5;28mopen\u001b[39m(\u001b[38;5;124m\"\u001b[39m\u001b[38;5;124mmodel_nnx.msgpack\u001b[39m\u001b[38;5;124m\"\u001b[39m, \u001b[38;5;124m\"\u001b[39m\u001b[38;5;124mwb\u001b[39m\u001b[38;5;124m\"\u001b[39m) \u001b[38;5;28;01mas\u001b[39;00m f:\n\u001b[1;32m----> 3\u001b[0m     f\u001b[38;5;241m.\u001b[39mwrite(\u001b[43mserialization\u001b[49m\u001b[38;5;241;43m.\u001b[39;49m\u001b[43mto_bytes\u001b[49m\u001b[43m(\u001b[49m\u001b[43moptimizer\u001b[49m\u001b[43m)\u001b[49m)\n",
      "File \u001b[1;32mc:\\Users\\aagaa\\anaconda3\\envs\\datasim\\Lib\\site-packages\\flax\\serialization.py:465\u001b[0m, in \u001b[0;36mto_bytes\u001b[1;34m(target)\u001b[0m\n\u001b[0;32m    455\u001b[0m \u001b[38;5;250m\u001b[39m\u001b[38;5;124;03m\"\"\"Save optimizer or other object as msgpack-serialized state-dict.\u001b[39;00m\n\u001b[0;32m    456\u001b[0m \n\u001b[0;32m    457\u001b[0m \u001b[38;5;124;03mArgs:\u001b[39;00m\n\u001b[1;32m   (...)\u001b[0m\n\u001b[0;32m    462\u001b[0m \u001b[38;5;124;03m  Bytes of msgpack-encoded state-dict of ``target`` object.\u001b[39;00m\n\u001b[0;32m    463\u001b[0m \u001b[38;5;124;03m\"\"\"\u001b[39;00m\n\u001b[0;32m    464\u001b[0m state_dict \u001b[38;5;241m=\u001b[39m to_state_dict(target)\n\u001b[1;32m--> 465\u001b[0m \u001b[38;5;28;01mreturn\u001b[39;00m \u001b[43mmsgpack_serialize\u001b[49m\u001b[43m(\u001b[49m\u001b[43mstate_dict\u001b[49m\u001b[43m,\u001b[49m\u001b[43m \u001b[49m\u001b[43min_place\u001b[49m\u001b[38;5;241;43m=\u001b[39;49m\u001b[38;5;28;43;01mTrue\u001b[39;49;00m\u001b[43m)\u001b[49m\n",
      "File \u001b[1;32mc:\\Users\\aagaa\\anaconda3\\envs\\datasim\\Lib\\site-packages\\flax\\serialization.py:415\u001b[0m, in \u001b[0;36mmsgpack_serialize\u001b[1;34m(pytree, in_place)\u001b[0m\n\u001b[0;32m    413\u001b[0m pytree \u001b[38;5;241m=\u001b[39m _np_convert_in_place(pytree)\n\u001b[0;32m    414\u001b[0m pytree \u001b[38;5;241m=\u001b[39m _chunk_array_leaves_in_place(pytree)\n\u001b[1;32m--> 415\u001b[0m \u001b[38;5;28;01mreturn\u001b[39;00m \u001b[43mmsgpack\u001b[49m\u001b[38;5;241;43m.\u001b[39;49m\u001b[43mpackb\u001b[49m\u001b[43m(\u001b[49m\u001b[43mpytree\u001b[49m\u001b[43m,\u001b[49m\u001b[43m \u001b[49m\u001b[43mdefault\u001b[49m\u001b[38;5;241;43m=\u001b[39;49m\u001b[43m_msgpack_ext_pack\u001b[49m\u001b[43m,\u001b[49m\u001b[43m \u001b[49m\u001b[43mstrict_types\u001b[49m\u001b[38;5;241;43m=\u001b[39;49m\u001b[38;5;28;43;01mTrue\u001b[39;49;00m\u001b[43m)\u001b[49m\n",
      "File \u001b[1;32mc:\\Users\\aagaa\\anaconda3\\envs\\datasim\\Lib\\site-packages\\msgpack\\__init__.py:36\u001b[0m, in \u001b[0;36mpackb\u001b[1;34m(o, **kwargs)\u001b[0m\n\u001b[0;32m     30\u001b[0m \u001b[38;5;28;01mdef\u001b[39;00m \u001b[38;5;21mpackb\u001b[39m(o, \u001b[38;5;241m*\u001b[39m\u001b[38;5;241m*\u001b[39mkwargs):\n\u001b[0;32m     31\u001b[0m \u001b[38;5;250m    \u001b[39m\u001b[38;5;124;03m\"\"\"\u001b[39;00m\n\u001b[0;32m     32\u001b[0m \u001b[38;5;124;03m    Pack object `o` and return packed bytes\u001b[39;00m\n\u001b[0;32m     33\u001b[0m \n\u001b[0;32m     34\u001b[0m \u001b[38;5;124;03m    See :class:`Packer` for options.\u001b[39;00m\n\u001b[0;32m     35\u001b[0m \u001b[38;5;124;03m    \"\"\"\u001b[39;00m\n\u001b[1;32m---> 36\u001b[0m     \u001b[38;5;28;01mreturn\u001b[39;00m \u001b[43mPacker\u001b[49m\u001b[43m(\u001b[49m\u001b[38;5;241;43m*\u001b[39;49m\u001b[38;5;241;43m*\u001b[39;49m\u001b[43mkwargs\u001b[49m\u001b[43m)\u001b[49m\u001b[38;5;241;43m.\u001b[39;49m\u001b[43mpack\u001b[49m\u001b[43m(\u001b[49m\u001b[43mo\u001b[49m\u001b[43m)\u001b[49m\n",
      "File \u001b[1;32mmsgpack/_packer.pyx:279\u001b[0m, in \u001b[0;36mmsgpack._cmsgpack.Packer.pack\u001b[1;34m()\u001b[0m\n",
      "File \u001b[1;32mmsgpack/_packer.pyx:276\u001b[0m, in \u001b[0;36mmsgpack._cmsgpack.Packer.pack\u001b[1;34m()\u001b[0m\n",
      "File \u001b[1;32mmsgpack/_packer.pyx:270\u001b[0m, in \u001b[0;36mmsgpack._cmsgpack.Packer._pack\u001b[1;34m()\u001b[0m\n",
      "File \u001b[1;32mmsgpack/_packer.pyx:257\u001b[0m, in \u001b[0;36mmsgpack._cmsgpack.Packer._pack_inner\u001b[1;34m()\u001b[0m\n",
      "\u001b[1;31mTypeError\u001b[0m: can not serialize 'Optimizer' object"
     ]
    }
   ],
   "source": [
    "# Save optimizer (includes model parameters)\n",
    "with open(\"model_nnx.msgpack\", \"wb\") as f:\n",
    "    f.write(serialization.to_bytes(optimizer))"
   ]
  },
  {
   "cell_type": "code",
   "execution_count": 13,
   "id": "c433f8ae",
   "metadata": {},
   "outputs": [
    {
     "data": {
      "image/png": "[encoded data removed]",
      "text/plain": [
       "<Figure size 640x480 with 1 Axes>"
      ]
     },
     "metadata": {},
     "output_type": "display_data"
    }
   ],
   "source": [
    "from sklearn.metrics import r2_score\n",
    "import matplotlib.pyplot as plt\n",
    "\n",
    "plt.figure()\n",
    "epochs = list(range(len(r2_test_history)))  # assuming both lists are the same length\n",
    "\n",
    "# Plotting both curves\n",
    "\n",
    "plt.plot(epochs, r2_test_history, label=\"R² Score on test-set\")\n",
    "\n",
    "# Styling\n",
    "plt.xlabel(\"Epoch\")\n",
    "plt.ylabel(\"R² Score\")\n",
    "plt.title(\"R² vs Epochs\")\n",
    "plt.ylim(-1, 1.05)\n",
    "plt.grid(True)\n",
    "plt.legend()\n",
    "plt.tight_layout()\n",
    "plt.show()\n"
   ]
  },
  {
   "cell_type": "code",
   "execution_count": 14,
   "id": "29d45ec8",
   "metadata": {},
   "outputs": [
    {
     "ename": "NameError",
     "evalue": "name 'plot_r2_progress' is not defined",
     "output_type": "error",
     "traceback": [
      "\u001b[1;31m---------------------------------------------------------------------------\u001b[0m",
      "\u001b[1;31mNameError\u001b[0m                                 Traceback (most recent call last)",
      "Cell \u001b[1;32mIn[14], line 1\u001b[0m\n\u001b[1;32m----> 1\u001b[0m \u001b[43mplot_r2_progress\u001b[49m(r2_history)\n",
      "\u001b[1;31mNameError\u001b[0m: name 'plot_r2_progress' is not defined"
     ]
    }
   ],
   "source": [
    "plot_r2_progress(r2_history)"
   ]
  },
  {
   "cell_type": "code",
   "execution_count": 14,
   "id": "a3a95b8c",
   "metadata": {},
   "outputs": [],
   "source": [
    "# Predict\n",
    "y_pred = optimizer.model(X_test)\n"
   ]
  },
  {
   "cell_type": "code",
   "execution_count": 15,
   "id": "aa170eee",
   "metadata": {},
   "outputs": [],
   "source": [
    "from sklearn.metrics import mean_squared_error, mean_absolute_error, r2_score, max_error\n",
    "import numpy as np\n",
    "\n",
    "# y_true: your ground truth values\n",
    "# y_pred: your model's predictions\n",
    "\n",
    "def print_regression_metrics(y_true, y_pred):\n",
    "    mse = mean_squared_error(y_true, y_pred)\n",
    "    mae = mean_absolute_error(y_true, y_pred)\n",
    "    rmse = np.sqrt(mse)\n",
    "    r2 = r2_score(y_true, y_pred)\n",
    "    max_err = max_error(y_true, y_pred)\n",
    "\n",
    "    print(f\"📈 Regression Evaluation Metrics\")\n",
    "    print(f\"--------------------------------\")\n",
    "    print(f\"R² Score         : {r2:.4f}\")\n",
    "    print(f\"Mean Absolute Error (MAE): {mae:.4f}\")\n",
    "    print(f\"Mean Squared Error (MSE): {mse:.4f}\")\n",
    "    print(f\"Root Mean Squared Error (RMSE): {rmse:.4f}\")\n",
    "    print(f\"Max Error        : {max_err:.4f}\")"
   ]
  },
  {
   "cell_type": "code",
   "execution_count": 16,
   "id": "a99d5089",
   "metadata": {},
   "outputs": [
    {
     "name": "stdout",
     "output_type": "stream",
     "text": [
      "📈 Regression Evaluation Metrics\n",
      "--------------------------------\n",
      "R² Score         : 0.9846\n",
      "Mean Absolute Error (MAE): 0.0377\n",
      "Mean Squared Error (MSE): 0.0125\n",
      "Root Mean Squared Error (RMSE): 0.1118\n",
      "Max Error        : 57.4366\n"
     ]
    }
   ],
   "source": [
    "print_regression_metrics(y_test, y_pred)"
   ]
  },
  {
   "cell_type": "code",
   "execution_count": 138,
   "id": "c51541a9",
   "metadata": {},
   "outputs": [],
   "source": [
    "test_features = np.loadtxt(\"../Data/Training_data/testcloud_feat.txt\")[:,2:]#.reshape(-1,1)\n",
    "test_labels = np.loadtxt(\"../Data/Training_data/testcloud_lab.txt\")[:,[0]]\n",
    "\n",
    "test_features2 = np.loadtxt(\"../Data/Training_data/testcloud_feat2.txt\")[:,2:]#.reshape(-1,1)\n",
    "test_labels2 = np.loadtxt(\"../Data/Training_data/testcloud_lab2.txt\")[:,[0]]\n",
    "\n",
    "\n",
    "test_features3 = np.loadtxt(\"../Data/Training_data/testcloud_feat3.txt\")[:,2:]#.reshape(-1,1)\n",
    "test_labels3 = np.loadtxt(\"../Data/Training_data/testcloud_lab3.txt\")[:,[0]]\n",
    "\n",
    "mesh = np.hstack((np.full(len(test_features),1), np.full(len(test_features2),0.5), np.full(len(test_features3),2)))\n",
    "\n",
    "test_features = np.vstack((test_features,test_features2,test_features3))\n",
    "test_labels = np.vstack((test_labels,test_labels2,test_labels3))\n",
    "\n",
    "scaler_reload = joblib.load('scaler.pkl')\n",
    "X_test2 = scaler_reload.transform(test_features)\n",
    "\n",
    "X_test2 = jnp.array(X_test2, dtype=jnp.float32)\n",
    "y_test2 = jnp.array(test_labels, dtype=jnp.float32)\n"
   ]
  },
  {
   "cell_type": "code",
   "execution_count": 156,
   "id": "940982fd",
   "metadata": {},
   "outputs": [],
   "source": [
    "# Predict\n",
    "y_pred2 = optimizer.model(X_test2)\n"
   ]
  },
  {
   "cell_type": "code",
   "execution_count": 155,
   "id": "928e8642",
   "metadata": {},
   "outputs": [
    {
     "name": "stdout",
     "output_type": "stream",
     "text": [
      "Standard deviation for 0.5mm mesh: 0.061910614\n",
      "Standard deviation for 1mm mesh: 0.079023615\n",
      "Standard deviation for 2mm mesh: 0.04345372\n",
      "📈 Regression Evaluation Metrics\n",
      "--------------------------------\n",
      "R² Score         : 0.9939\n",
      "Mean Absolute Error (MAE): 0.0508\n",
      "Mean Squared Error (MSE): 0.0048\n",
      "Root Mean Squared Error (RMSE): 0.0695\n",
      "Max Error        : 0.7423\n"
     ]
    },
    {
     "data": {
      "image/png": "[encoded data removed]",
      "text/plain": [
       "<Figure size 640x480 with 1 Axes>"
      ]
     },
     "metadata": {},
     "output_type": "display_data"
    }
   ],
   "source": [
    "highest = np.max(y_pred2)\n",
    "mean = np.mean(y_pred2)\n",
    "#print(test_labels)\n",
    "#print(mean)\n",
    "#print(y_pred2)\n",
    "\n",
    "pred_05 = y_pred2[np.where(mesh == 0.5)]\n",
    "pred_1 = y_pred2[np.where(mesh == 1)]\n",
    "pred_2 = y_pred2[np.where(mesh == 2)]\n",
    "\n",
    "std_05 = np.std(pred_05)\n",
    "std_1 = np.std(pred_1)\n",
    "std_2 = np.std(pred_2)\n",
    "stds = [std_05, std_1, std_2]\n",
    "\n",
    "print(\"Standard deviation for 0.5mm mesh:\", std_05)\n",
    "print(\"Standard deviation for 1mm mesh:\", std_1)\n",
    "print(\"Standard deviation for 2mm mesh:\", std_2)\n",
    "\n",
    "mean_05 = np.mean(pred_05)\n",
    "mean_1 = np.mean(pred_1)\n",
    "mean_2 = np.mean(pred_2)\n",
    "\n",
    "mesh_short = [0.5, 1, 2]\n",
    "means = [mean_05, mean_1, mean_2]\n",
    "\n",
    "print_regression_metrics(y_test2, y_pred2)\n",
    "#r2 = r2_score(y_test2,y_pred2)\n",
    "#print(r2)\n",
    "\n",
    "plt.scatter(mesh, y_pred2, color='blue', label='Predicted')\n",
    "plt.scatter(mesh, y_test2, color='red', label='Labels')\n",
    "plt.errorbar(mesh_short, means, yerr=stds, fmt='o', color='green', capsize=5, label='Mean ± Std')\n",
    "plt.xlabel(\"mesh_size\")\n",
    "plt.ylabel(\"surface density\")\n",
    "plt.title(\"Predictions vs Labels\")\n",
    "plt.legend()\n",
    "plt.grid(True)\n",
    "plt.show()"
   ]
  },
  {
   "cell_type": "code",
   "execution_count": null,
   "id": "d47a59ab",
   "metadata": {},
   "outputs": [],
   "source": [
    "# Make a fresh optimizer instance to match structure\n",
    "model_reload = MLP(X_train.shape[1], 1, rngs=nnx.Rngs(0))\n",
    "optimizer_reload = nnx.Optimizer(model, optax.adam(1e-3))\n",
    "\n",
    "# Load saved state\n",
    "with open(\"model_nnx.msgpack\", \"rb\") as f:\n",
    "    optimizer_reload = serialization.from_bytes(optimizer, f.read())\n"
   ]
  },
  {
   "cell_type": "code",
   "execution_count": 91,
   "id": "f3074eb6",
   "metadata": {},
   "outputs": [
    {
     "data": {
      "text/plain": [
       "array([[4, 4, 4],\n",
       "       [4, 4, 4]])"
      ]
     },
     "execution_count": 91,
     "metadata": {},
     "output_type": "execute_result"
    }
   ],
   "source": [
    "np.full((2,3),4)"
   ]
  }
 ],
 "metadata": {
  "kernelspec": {
   "display_name": "datasim",
   "language": "python",
   "name": "python3"
  },
  "language_info": {
   "codemirror_mode": {
    "name": "ipython",
    "version": 3
   },
   "file_extension": ".py",
   "mimetype": "text/x-python",
   "name": "python",
   "nbconvert_exporter": "python",
   "pygments_lexer": "ipython3",
   "version": "3.12.9"
  }
 },
 "nbformat": 4,
 "nbformat_minor": 5
}
