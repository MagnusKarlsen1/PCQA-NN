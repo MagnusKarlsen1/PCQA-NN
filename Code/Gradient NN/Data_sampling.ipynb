{
 "cells": [
  {
   "cell_type": "code",
   "execution_count": 16,
   "metadata": {},
   "outputs": [],
   "source": [
    "import jax \n",
    "import jax.numpy as jnp\n",
    "import numpy as np\n",
    "from jax import jit, vmap\n",
    "import torch\n",
    "from scipy.spatial import cKDTree\n"
   ]
  },
  {
   "cell_type": "markdown",
   "metadata": {},
   "source": [
    "##### Checking for GPU, use CPU if no GPU is available"
   ]
  },
  {
   "cell_type": "code",
   "execution_count": 17,
   "metadata": {},
   "outputs": [
    {
     "name": "stdout",
     "output_type": "stream",
     "text": [
      "Running on CPU: TFRT_CPU_0\n"
     ]
    }
   ],
   "source": [
    "# Check if a GPU is available\n",
    "if any(device.device_kind == 'gpu' for device in jax.devices()):\n",
    "    jax.config.update(\"jax_platform_name\", \"gpu\")\n",
    "    print(\"Running on GPU:\", jax.devices(\"gpu\")[0])\n",
    "# Use CPU if there is no GPU device available\n",
    "else:\n",
    "    jax.config.update(\"jax_platform_name\", \"cpu\")\n",
    "    print(\"Running on CPU:\", jax.devices(\"cpu\")[0])"
   ]
  },
  {
   "cell_type": "markdown",
   "metadata": {},
   "source": [
    "##### Loading datasets to process"
   ]
  },
  {
   "cell_type": "code",
   "execution_count": 18,
   "metadata": {},
   "outputs": [
    {
     "name": "stdout",
     "output_type": "stream",
     "text": [
      "Points in dataset: 35947\n"
     ]
    }
   ],
   "source": [
    "# Load all datasets to use\n",
    "datasets = np.loadtxt(\"./Data/Full point clouds/bunny_order3_normal_beta.txt\"\n",
    "            # \"./Data/Full point clouds/etetwetwet.txt\"\n",
    "            # \"./Data/Full point clouds/etetwetwet.txt\"\n",
    "            )\n",
    "print(f\"Points in dataset: {len(datasets)}\")"
   ]
  },
  {
   "cell_type": "code",
   "execution_count": 19,
   "metadata": {},
   "outputs": [],
   "source": [
    "@jit\n",
    "def preprocess(points):\n",
    "    mean_p = points.mean(axis=0)\n",
    "    min_p, max_p = jnp.min(points, axis=0), jnp.max(points, axis=0)\n",
    "    bbdiag = jnp.linalg.norm(max_p - min_p, ord=2) # Bounding box diagonal L2 norm (Euclidean distance)\n",
    "    return (points - mean_p) / (0.5 * bbdiag)\n"
   ]
  },
  {
   "cell_type": "code",
   "execution_count": 20,
   "metadata": {},
   "outputs": [],
   "source": [
    "# Leihui code, for speed comparison \n",
    "def preprocessL(points):\n",
    "    bbdiag = float(np.linalg.norm(points.max(0) - points.min(0), 2))\n",
    "    points = (points - points.mean(0)) / (0.5*bbdiag)  # shrink shape to unit sphere\n",
    "    return points"
   ]
  },
  {
   "cell_type": "markdown",
   "metadata": {},
   "source": [
    "##### Speed comparison of preprocess"
   ]
  },
  {
   "cell_type": "code",
   "execution_count": 21,
   "metadata": {},
   "outputs": [
    {
     "ename": "AttributeError",
     "evalue": "module 'jax._src.linear_util' has no attribute 'transformation2'",
     "output_type": "error",
     "traceback": [
      "\u001b[1;31m---------------------------------------------------------------------------\u001b[0m",
      "\u001b[1;31mAttributeError\u001b[0m                            Traceback (most recent call last)",
      "Cell \u001b[1;32mIn[21], line 3\u001b[0m\n\u001b[0;32m      1\u001b[0m rawpoints \u001b[38;5;241m=\u001b[39m datasets[:,\u001b[38;5;241m0\u001b[39m:\u001b[38;5;241m3\u001b[39m]\n\u001b[1;32m----> 3\u001b[0m \u001b[43mget_ipython\u001b[49m\u001b[43m(\u001b[49m\u001b[43m)\u001b[49m\u001b[38;5;241;43m.\u001b[39;49m\u001b[43mrun_line_magic\u001b[49m\u001b[43m(\u001b[49m\u001b[38;5;124;43m'\u001b[39;49m\u001b[38;5;124;43mtimeit\u001b[39;49m\u001b[38;5;124;43m'\u001b[39;49m\u001b[43m,\u001b[49m\u001b[43m \u001b[49m\u001b[38;5;124;43m'\u001b[39;49m\u001b[38;5;124;43mour = preprocess(rawpoints)\u001b[39;49m\u001b[38;5;124;43m'\u001b[39;49m\u001b[43m)\u001b[49m\n\u001b[0;32m      4\u001b[0m get_ipython()\u001b[38;5;241m.\u001b[39mrun_line_magic(\u001b[38;5;124m'\u001b[39m\u001b[38;5;124mtimeit\u001b[39m\u001b[38;5;124m'\u001b[39m, \u001b[38;5;124m'\u001b[39m\u001b[38;5;124mlei = preprocessL(rawpoints)\u001b[39m\u001b[38;5;124m'\u001b[39m)\n",
      "File \u001b[1;32mc:\\Users\\magnu\\anaconda3\\envs\\datasim\\Lib\\site-packages\\IPython\\core\\interactiveshell.py:2480\u001b[0m, in \u001b[0;36mInteractiveShell.run_line_magic\u001b[1;34m(self, magic_name, line, _stack_depth)\u001b[0m\n\u001b[0;32m   2478\u001b[0m     kwargs[\u001b[38;5;124m'\u001b[39m\u001b[38;5;124mlocal_ns\u001b[39m\u001b[38;5;124m'\u001b[39m] \u001b[38;5;241m=\u001b[39m \u001b[38;5;28mself\u001b[39m\u001b[38;5;241m.\u001b[39mget_local_scope(stack_depth)\n\u001b[0;32m   2479\u001b[0m \u001b[38;5;28;01mwith\u001b[39;00m \u001b[38;5;28mself\u001b[39m\u001b[38;5;241m.\u001b[39mbuiltin_trap:\n\u001b[1;32m-> 2480\u001b[0m     result \u001b[38;5;241m=\u001b[39m \u001b[43mfn\u001b[49m\u001b[43m(\u001b[49m\u001b[38;5;241;43m*\u001b[39;49m\u001b[43margs\u001b[49m\u001b[43m,\u001b[49m\u001b[43m \u001b[49m\u001b[38;5;241;43m*\u001b[39;49m\u001b[38;5;241;43m*\u001b[39;49m\u001b[43mkwargs\u001b[49m\u001b[43m)\u001b[49m\n\u001b[0;32m   2482\u001b[0m \u001b[38;5;66;03m# The code below prevents the output from being displayed\u001b[39;00m\n\u001b[0;32m   2483\u001b[0m \u001b[38;5;66;03m# when using magics with decorator @output_can_be_silenced\u001b[39;00m\n\u001b[0;32m   2484\u001b[0m \u001b[38;5;66;03m# when the last Python token in the expression is a ';'.\u001b[39;00m\n\u001b[0;32m   2485\u001b[0m \u001b[38;5;28;01mif\u001b[39;00m \u001b[38;5;28mgetattr\u001b[39m(fn, magic\u001b[38;5;241m.\u001b[39mMAGIC_OUTPUT_CAN_BE_SILENCED, \u001b[38;5;28;01mFalse\u001b[39;00m):\n",
      "File \u001b[1;32mc:\\Users\\magnu\\anaconda3\\envs\\datasim\\Lib\\site-packages\\IPython\\core\\magics\\execution.py:1195\u001b[0m, in \u001b[0;36mExecutionMagics.timeit\u001b[1;34m(self, line, cell, local_ns)\u001b[0m\n\u001b[0;32m   1193\u001b[0m \u001b[38;5;28;01mfor\u001b[39;00m index \u001b[38;5;129;01min\u001b[39;00m \u001b[38;5;28mrange\u001b[39m(\u001b[38;5;241m0\u001b[39m, \u001b[38;5;241m10\u001b[39m):\n\u001b[0;32m   1194\u001b[0m     number \u001b[38;5;241m=\u001b[39m \u001b[38;5;241m10\u001b[39m \u001b[38;5;241m*\u001b[39m\u001b[38;5;241m*\u001b[39m index\n\u001b[1;32m-> 1195\u001b[0m     time_number \u001b[38;5;241m=\u001b[39m \u001b[43mtimer\u001b[49m\u001b[38;5;241;43m.\u001b[39;49m\u001b[43mtimeit\u001b[49m\u001b[43m(\u001b[49m\u001b[43mnumber\u001b[49m\u001b[43m)\u001b[49m\n\u001b[0;32m   1196\u001b[0m     \u001b[38;5;28;01mif\u001b[39;00m time_number \u001b[38;5;241m>\u001b[39m\u001b[38;5;241m=\u001b[39m \u001b[38;5;241m0.2\u001b[39m:\n\u001b[0;32m   1197\u001b[0m         \u001b[38;5;28;01mbreak\u001b[39;00m\n",
      "File \u001b[1;32mc:\\Users\\magnu\\anaconda3\\envs\\datasim\\Lib\\site-packages\\IPython\\core\\magics\\execution.py:173\u001b[0m, in \u001b[0;36mTimer.timeit\u001b[1;34m(self, number)\u001b[0m\n\u001b[0;32m    171\u001b[0m gc\u001b[38;5;241m.\u001b[39mdisable()\n\u001b[0;32m    172\u001b[0m \u001b[38;5;28;01mtry\u001b[39;00m:\n\u001b[1;32m--> 173\u001b[0m     timing \u001b[38;5;241m=\u001b[39m \u001b[38;5;28;43mself\u001b[39;49m\u001b[38;5;241;43m.\u001b[39;49m\u001b[43minner\u001b[49m\u001b[43m(\u001b[49m\u001b[43mit\u001b[49m\u001b[43m,\u001b[49m\u001b[43m \u001b[49m\u001b[38;5;28;43mself\u001b[39;49m\u001b[38;5;241;43m.\u001b[39;49m\u001b[43mtimer\u001b[49m\u001b[43m)\u001b[49m\n\u001b[0;32m    174\u001b[0m \u001b[38;5;28;01mfinally\u001b[39;00m:\n\u001b[0;32m    175\u001b[0m     \u001b[38;5;28;01mif\u001b[39;00m gcold:\n",
      "File \u001b[1;32m<magic-timeit>:1\u001b[0m, in \u001b[0;36minner\u001b[1;34m(_it, _timer)\u001b[0m\n",
      "    \u001b[1;31m[... skipping hidden 6 frame]\u001b[0m\n",
      "File \u001b[1;32mc:\\Users\\magnu\\anaconda3\\envs\\datasim\\Lib\\site-packages\\jax\\experimental\\attrs.py:100\u001b[0m\n\u001b[0;32m     97\u001b[0m   out_tangents \u001b[38;5;241m=\u001b[39m tree_unflatten(out_tree(), out_tangents_flat)\n\u001b[0;32m     98\u001b[0m   \u001b[38;5;28;01mreturn\u001b[39;00m out_primals, out_tangents, tangent_attrs_out\n\u001b[1;32m--> 100\u001b[0m \u001b[38;5;129m@lu\u001b[39m\u001b[38;5;241;43m.\u001b[39;49m\u001b[43mtransformation2\u001b[49m\n\u001b[0;32m    101\u001b[0m \u001b[38;5;28;01mdef\u001b[39;00m \u001b[38;5;21m_set_attrs\u001b[39m(f, attrs, attr_vals, \u001b[38;5;241m*\u001b[39margs):\n\u001b[0;32m    102\u001b[0m   \u001b[38;5;28;01mfor\u001b[39;00m (o, a), x \u001b[38;5;129;01min\u001b[39;00m \u001b[38;5;28mzip\u001b[39m(attrs, attr_vals):\n\u001b[0;32m    103\u001b[0m     jax_setattr(o, a, x)\n",
      "\u001b[1;31mAttributeError\u001b[0m: module 'jax._src.linear_util' has no attribute 'transformation2'"
     ]
    }
   ],
   "source": [
    "rawpoints = datasets[:,0:3]\n",
    "\n",
    "%timeit our = preprocess(rawpoints)\n",
    "%timeit lei = preprocessL(rawpoints)"
   ]
  },
  {
   "cell_type": "code",
   "execution_count": 12,
   "metadata": {},
   "outputs": [
    {
     "ename": "ModuleNotFoundError",
     "evalue": "No module named 'jax.experimental.attrs'",
     "output_type": "error",
     "traceback": [
      "\u001b[1;31m---------------------------------------------------------------------------\u001b[0m",
      "\u001b[1;31mModuleNotFoundError\u001b[0m                       Traceback (most recent call last)",
      "Cell \u001b[1;32mIn[12], line 1\u001b[0m\n\u001b[1;32m----> 1\u001b[0m our \u001b[38;5;241m=\u001b[39m \u001b[43mpreprocess\u001b[49m\u001b[43m(\u001b[49m\u001b[43mrawpoints\u001b[49m\u001b[43m)\u001b[49m\n\u001b[0;32m      2\u001b[0m lei \u001b[38;5;241m=\u001b[39m preprocessL(rawpoints)\n\u001b[0;32m      5\u001b[0m \u001b[38;5;28mprint\u001b[39m(jnp\u001b[38;5;241m.\u001b[39mallclose(lei, our, atol\u001b[38;5;241m=\u001b[39m\u001b[38;5;241m1e-6\u001b[39m))  \u001b[38;5;66;03m# Equal down to a tolerance of 1e-6\u001b[39;00m\n",
      "    \u001b[1;31m[... skipping hidden 5 frame]\u001b[0m\n",
      "File \u001b[1;32mc:\\Users\\magnu\\anaconda3\\envs\\datasim\\Lib\\site-packages\\jax\\_src\\pjit.py:1356\u001b[0m, in \u001b[0;36m_attr_token\u001b[1;34m(fun, in_type)\u001b[0m\n\u001b[0;32m   1352\u001b[0m \u001b[38;5;28;01mif\u001b[39;00m (params[\u001b[38;5;124m\"\u001b[39m\u001b[38;5;124minline\u001b[39m\u001b[38;5;124m\"\u001b[39m] \u001b[38;5;129;01mand\u001b[39;00m\n\u001b[0;32m   1353\u001b[0m     \u001b[38;5;28mall\u001b[39m(is_unspecified(i) \u001b[38;5;28;01mfor\u001b[39;00m i \u001b[38;5;129;01min\u001b[39;00m params[\u001b[38;5;124m\"\u001b[39m\u001b[38;5;124min_shardings\u001b[39m\u001b[38;5;124m\"\u001b[39m]) \u001b[38;5;129;01mand\u001b[39;00m\n\u001b[0;32m   1354\u001b[0m     \u001b[38;5;28mall\u001b[39m(is_unspecified(o) \u001b[38;5;28;01mfor\u001b[39;00m o \u001b[38;5;129;01min\u001b[39;00m params[\u001b[38;5;124m\"\u001b[39m\u001b[38;5;124mout_shardings\u001b[39m\u001b[38;5;124m\"\u001b[39m])):\n\u001b[0;32m   1355\u001b[0m   jaxpr \u001b[38;5;241m=\u001b[39m params[\u001b[38;5;124m'\u001b[39m\u001b[38;5;124mjaxpr\u001b[39m\u001b[38;5;124m'\u001b[39m]\n\u001b[1;32m-> 1356\u001b[0m   \u001b[38;5;28;01mreturn\u001b[39;00m core\u001b[38;5;241m.\u001b[39meval_jaxpr(jaxpr\u001b[38;5;241m.\u001b[39mjaxpr, jaxpr\u001b[38;5;241m.\u001b[39mconsts, \u001b[38;5;241m*\u001b[39margs,\n\u001b[0;32m   1357\u001b[0m                          propagate_source_info\u001b[38;5;241m=\u001b[39m\u001b[38;5;28;01mFalse\u001b[39;00m)\n\u001b[0;32m   1358\u001b[0m \u001b[38;5;28;01melif\u001b[39;00m config\u001b[38;5;241m.\u001b[39mdynamic_shapes\u001b[38;5;241m.\u001b[39mvalue:\n\u001b[0;32m   1359\u001b[0m   source_info \u001b[38;5;241m=\u001b[39m source_info_util\u001b[38;5;241m.\u001b[39mcurrent()\n",
      "\u001b[1;31mModuleNotFoundError\u001b[0m: No module named 'jax.experimental.attrs'"
     ]
    }
   ],
   "source": [
    "our = preprocess(rawpoints)\n",
    "lei = preprocessL(rawpoints)\n",
    "\n",
    "\n",
    "print(jnp.allclose(lei, our, atol=1e-6))  # Equal down to a tolerance of 1e-6"
   ]
  },
  {
   "cell_type": "markdown",
   "metadata": {},
   "source": [
    "#### Processing function"
   ]
  },
  {
   "cell_type": "code",
   "execution_count": 13,
   "metadata": {},
   "outputs": [],
   "source": [
    "def pca_points(patch_points):\n",
    "    '''\n",
    "    Args:\n",
    "        patch_points: xyz points\n",
    "\n",
    "    Returns:\n",
    "        patch_points: xyz points after aligning using pca\n",
    "    '''\n",
    "    # compute pca of points in the patch:\n",
    "    # center the patch around the mean:\n",
    "    pts_mean = patch_points.mean(0)\n",
    "    patch_points = patch_points - pts_mean\n",
    "    trans, _, _ = torch.svd(torch.t(patch_points))\n",
    "    patch_points = torch.mm(patch_points, trans)\n",
    "    cp_new = -pts_mean  # since the patch was originally centered, the original cp was at (0,0,0)\n",
    "    cp_new = torch.matmul(cp_new, trans)\n",
    "    # re-center on original center point\n",
    "    patch_points = patch_points - cp_new\n",
    "    return patch_points, trans\n"
   ]
  },
  {
   "cell_type": "code",
   "execution_count": 14,
   "metadata": {},
   "outputs": [],
   "source": [
    "\n",
    "def save_neighborhood_to_txt(patch_points, filename=\"neighborhood.txt\"):\n",
    "    np.savetxt(filename, patch_points.numpy(), fmt=\"%.6f\", delimiter=\" \")\n",
    "    print(f\"Saved neighborhood to {filename}\")\n",
    "    \n",
    "    \n",
    "## Modified leihui code to save the files \n",
    "    \n",
    "def processPartL(kdtree, index, points, searchK, save_to_file=False):\n",
    "    # print (f'points[index, :]:{points[index, :]}')\n",
    "    point_distances, patch_point_inds = kdtree.query(points[index, :], k=searchK)\n",
    "    rad = max(point_distances)\n",
    "    patch_points = torch.from_numpy(points[patch_point_inds, :])\n",
    "\n",
    "    # center the points around the query point and scale patch to unit sphere\n",
    "    patch_points = patch_points - torch.from_numpy(points[index, :])\n",
    "    # patch_points = patch_points / rad\n",
    "        # Save to file if required\n",
    "    if save_to_file:\n",
    "        save_neighborhood_to_txt(patch_points)  # No transpose needed    \n",
    "    \n",
    "    patch_points, trans = pca_points(patch_points)\n",
    "    return torch.transpose(patch_points, 0, 1), trans, rad"
   ]
  },
  {
   "cell_type": "code",
   "execution_count": 15,
   "metadata": {},
   "outputs": [
    {
     "ename": "NameError",
     "evalue": "name 'our' is not defined",
     "output_type": "error",
     "traceback": [
      "\u001b[1;31m---------------------------------------------------------------------------\u001b[0m",
      "\u001b[1;31mNameError\u001b[0m                                 Traceback (most recent call last)",
      "Cell \u001b[1;32mIn[15], line 6\u001b[0m\n\u001b[0;32m      2\u001b[0m \u001b[38;5;28;01mimport\u001b[39;00m \u001b[38;5;21;01mnumpy\u001b[39;00m \u001b[38;5;28;01mas\u001b[39;00m \u001b[38;5;21;01mnp\u001b[39;00m\n\u001b[0;32m      4\u001b[0m \u001b[38;5;66;03m# Example point cloud (replace with your real data)\u001b[39;00m\n\u001b[1;32m----> 6\u001b[0m our_n \u001b[38;5;241m=\u001b[39m np\u001b[38;5;241m.\u001b[39marray(\u001b[43mour\u001b[49m\u001b[38;5;241m.\u001b[39mblock_until_ready())\n\u001b[0;32m      7\u001b[0m kdtree \u001b[38;5;241m=\u001b[39m KDTree(our_n)\n\u001b[0;32m     11\u001b[0m \u001b[38;5;66;03m# Select an index and find neighborhood\u001b[39;00m\n",
      "\u001b[1;31mNameError\u001b[0m: name 'our' is not defined"
     ]
    }
   ],
   "source": [
    "from scipy.spatial import KDTree\n",
    "import numpy as np\n",
    "\n",
    "# Example point cloud (replace with your real data)\n",
    "\n",
    "our_n = np.array(our.block_until_ready())\n",
    "kdtree = KDTree(our_n)\n",
    "\n",
    "\n",
    "\n",
    "# Select an index and find neighborhood\n",
    "index = 1000  # Query point index\n",
    "searchK = 20  # Number of neighbors\n",
    "\n",
    "# Process and save the neighborhood\n",
    "processPartL(kdtree, index, our_n, searchK, save_to_file=True)\n"
   ]
  }
 ],
 "metadata": {
  "kernelspec": {
   "display_name": "datasim",
   "language": "python",
   "name": "python3"
  },
  "language_info": {
   "codemirror_mode": {
    "name": "ipython",
    "version": 3
   },
   "file_extension": ".py",
   "mimetype": "text/x-python",
   "name": "python",
   "nbconvert_exporter": "python",
   "pygments_lexer": "ipython3",
   "version": "3.12.9"
  }
 },
 "nbformat": 4,
 "nbformat_minor": 2
}
