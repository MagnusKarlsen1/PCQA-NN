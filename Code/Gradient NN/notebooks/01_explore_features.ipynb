{
 "cells": [
  {
   "cell_type": "code",
   "execution_count": null,
   "metadata": {},
   "outputs": [
    {
     "name": "stderr",
     "output_type": "stream",
     "text": [
      "/tmp/ipykernel_49744/752971363.py:11: FutureWarning: The 'delim_whitespace' keyword in pd.read_csv is deprecated and will be removed in a future version. Use ``sep='\\s+'`` instead\n",
      "  df = pd.read_csv(feature_path, delim_whitespace=True)\n"
     ]
    },
    {
     "name": "stdout",
     "output_type": "stream",
     "text": [
      "✅ Dataset loaded — shape: (4950604, 6)\n"
     ]
    },
    {
     "data": {
      "application/vnd.microsoft.datawrangler.viewer.v0+json": {
       "columns": [
        {
         "name": "index",
         "rawType": "int64",
         "type": "integer"
        },
        {
         "name": "curvature",
         "rawType": "float64",
         "type": "float"
        },
        {
         "name": "linearity",
         "rawType": "float64",
         "type": "float"
        },
        {
         "name": "planarity",
         "rawType": "float64",
         "type": "float"
        },
        {
         "name": "Average_radius",
         "rawType": "float64",
         "type": "float"
        },
        {
         "name": "pointsInside",
         "rawType": "float64",
         "type": "float"
        },
        {
         "name": "grad_dist",
         "rawType": "float64",
         "type": "float"
        }
       ],
       "ref": "94969a10-c5e8-4cbc-8600-6cbfec5ae8ec",
       "rows": [
        [
         "0",
         "0.005246",
         "0.352136",
         "0.639173",
         "1.666688",
         "20.0",
         "0.214"
        ],
        [
         "1",
         "0.004597",
         "0.317272",
         "0.674957",
         "1.666688",
         "19.0",
         "0.227522"
        ],
        [
         "2",
         "0.004989",
         "0.319441",
         "0.672133",
         "1.666688",
         "20.0",
         "0.229918"
        ],
        [
         "3",
         "0.006526",
         "0.488792",
         "0.501281",
         "1.666688",
         "18.0",
         "0.227228"
        ],
        [
         "4",
         "0.004515",
         "0.093603",
         "0.89775",
         "1.666688",
         "23.0",
         "0.219903"
        ]
       ],
       "shape": {
        "columns": 6,
        "rows": 5
       }
      },
      "text/html": [
       "<div>\n",
       "<style scoped>\n",
       "    .dataframe tbody tr th:only-of-type {\n",
       "        vertical-align: middle;\n",
       "    }\n",
       "\n",
       "    .dataframe tbody tr th {\n",
       "        vertical-align: top;\n",
       "    }\n",
       "\n",
       "    .dataframe thead th {\n",
       "        text-align: right;\n",
       "    }\n",
       "</style>\n",
       "<table border=\"1\" class=\"dataframe\">\n",
       "  <thead>\n",
       "    <tr style=\"text-align: right;\">\n",
       "      <th></th>\n",
       "      <th>curvature</th>\n",
       "      <th>linearity</th>\n",
       "      <th>planarity</th>\n",
       "      <th>Average_radius</th>\n",
       "      <th>pointsInside</th>\n",
       "      <th>grad_dist</th>\n",
       "    </tr>\n",
       "  </thead>\n",
       "  <tbody>\n",
       "    <tr>\n",
       "      <th>0</th>\n",
       "      <td>0.005246</td>\n",
       "      <td>0.352136</td>\n",
       "      <td>0.639173</td>\n",
       "      <td>1.666688</td>\n",
       "      <td>20.0</td>\n",
       "      <td>0.214000</td>\n",
       "    </tr>\n",
       "    <tr>\n",
       "      <th>1</th>\n",
       "      <td>0.004597</td>\n",
       "      <td>0.317272</td>\n",
       "      <td>0.674957</td>\n",
       "      <td>1.666688</td>\n",
       "      <td>19.0</td>\n",
       "      <td>0.227522</td>\n",
       "    </tr>\n",
       "    <tr>\n",
       "      <th>2</th>\n",
       "      <td>0.004989</td>\n",
       "      <td>0.319441</td>\n",
       "      <td>0.672133</td>\n",
       "      <td>1.666688</td>\n",
       "      <td>20.0</td>\n",
       "      <td>0.229918</td>\n",
       "    </tr>\n",
       "    <tr>\n",
       "      <th>3</th>\n",
       "      <td>0.006526</td>\n",
       "      <td>0.488792</td>\n",
       "      <td>0.501281</td>\n",
       "      <td>1.666688</td>\n",
       "      <td>18.0</td>\n",
       "      <td>0.227228</td>\n",
       "    </tr>\n",
       "    <tr>\n",
       "      <th>4</th>\n",
       "      <td>0.004515</td>\n",
       "      <td>0.093603</td>\n",
       "      <td>0.897750</td>\n",
       "      <td>1.666688</td>\n",
       "      <td>23.0</td>\n",
       "      <td>0.219903</td>\n",
       "    </tr>\n",
       "  </tbody>\n",
       "</table>\n",
       "</div>"
      ],
      "text/plain": [
       "   curvature  linearity  planarity  Average_radius  pointsInside  grad_dist\n",
       "0   0.005246   0.352136   0.639173        1.666688          20.0   0.214000\n",
       "1   0.004597   0.317272   0.674957        1.666688          19.0   0.227522\n",
       "2   0.004989   0.319441   0.672133        1.666688          20.0   0.229918\n",
       "3   0.006526   0.488792   0.501281        1.666688          18.0   0.227228\n",
       "4   0.004515   0.093603   0.897750        1.666688          23.0   0.219903"
      ]
     },
     "execution_count": 20,
     "metadata": {},
     "output_type": "execute_result"
    }
   ],
   "source": [
    "# 01_explore_features.ipynb\n",
    "\n",
    "\n",
    "import pandas as pd\n",
    "import numpy as np\n",
    "import matplotlib.pyplot as plt\n",
    "import seaborn as sns\n",
    "\n",
    "\n",
    "feature_path = \"../Data/Training_data/holes_features_many_mesh.txt\"\n",
    "df = pd.read_csv(feature_path, delim_whitespace=True)\n",
    "df = df.drop(columns=[\"edge_mean\", \"plane_mean\", \"omnivaraiance\", \"eigensum\"])  # Drop the first two unnamed columns\n",
    "print(\"✅ Dataset loaded — shape:\", df.shape)\n",
    "df.columns = [\"Curvature\", \"Linearity\", \"Planarity\", \"Average radius\", \"Points inside\", \"Gradient dist\"]\n",
    "\n",
    "df.head()\n",
    "\n"
   ]
  },
  {
   "cell_type": "code",
   "execution_count": 21,
   "metadata": {},
   "outputs": [
    {
     "data": {
      "application/vnd.microsoft.datawrangler.viewer.v0+json": {
       "columns": [
        {
         "name": "index",
         "rawType": "object",
         "type": "string"
        },
        {
         "name": "count",
         "rawType": "float64",
         "type": "float"
        },
        {
         "name": "mean",
         "rawType": "float64",
         "type": "float"
        },
        {
         "name": "std",
         "rawType": "float64",
         "type": "float"
        },
        {
         "name": "min",
         "rawType": "float64",
         "type": "float"
        },
        {
         "name": "25%",
         "rawType": "float64",
         "type": "float"
        },
        {
         "name": "50%",
         "rawType": "float64",
         "type": "float"
        },
        {
         "name": "75%",
         "rawType": "float64",
         "type": "float"
        },
        {
         "name": "max",
         "rawType": "float64",
         "type": "float"
        }
       ],
       "ref": "6516487d-0cfe-4fcd-b834-fbd393ca452f",
       "rows": [
        [
         "curvature",
         "4950604.0",
         "0.006467916947709812",
         "0.019284301170677025",
         "0.0",
         "0.0",
         "0.000316",
         "0.001812",
         "0.294309"
        ],
        [
         "linearity",
         "4950604.0",
         "0.2121495578307212",
         "0.11115983354187631",
         "9.4e-05",
         "0.133407",
         "0.199924",
         "0.273342",
         "0.99532"
        ],
        [
         "planarity",
         "4950604.0",
         "0.7760490970701756",
         "0.12375203653972466",
         "0.003183",
         "0.716233",
         "0.793224",
         "0.861449",
         "0.999906"
        ],
        [
         "Average_radius",
         "4950604.0",
         "2.704818621604957",
         "1.2084582398658468",
         "1.576107",
         "1.895253",
         "2.239377",
         "3.20873",
         "16.893829"
        ],
        [
         "pointsInside",
         "4950604.0",
         "21.418982815026208",
         "1.9579249333504498",
         "1.0",
         "20.0",
         "21.0",
         "23.0",
         "93.0"
        ],
        [
         "grad_dist",
         "4950604.0",
         "0.0998495912363421",
         "0.6001167865235851",
         "0.0",
         "0.0",
         "0.037815",
         "0.105462",
         "1217.734009"
        ]
       ],
       "shape": {
        "columns": 8,
        "rows": 6
       }
      },
      "text/html": [
       "<div>\n",
       "<style scoped>\n",
       "    .dataframe tbody tr th:only-of-type {\n",
       "        vertical-align: middle;\n",
       "    }\n",
       "\n",
       "    .dataframe tbody tr th {\n",
       "        vertical-align: top;\n",
       "    }\n",
       "\n",
       "    .dataframe thead th {\n",
       "        text-align: right;\n",
       "    }\n",
       "</style>\n",
       "<table border=\"1\" class=\"dataframe\">\n",
       "  <thead>\n",
       "    <tr style=\"text-align: right;\">\n",
       "      <th></th>\n",
       "      <th>count</th>\n",
       "      <th>mean</th>\n",
       "      <th>std</th>\n",
       "      <th>min</th>\n",
       "      <th>25%</th>\n",
       "      <th>50%</th>\n",
       "      <th>75%</th>\n",
       "      <th>max</th>\n",
       "    </tr>\n",
       "  </thead>\n",
       "  <tbody>\n",
       "    <tr>\n",
       "      <th>curvature</th>\n",
       "      <td>4950604.0</td>\n",
       "      <td>0.006468</td>\n",
       "      <td>0.019284</td>\n",
       "      <td>0.000000</td>\n",
       "      <td>0.000000</td>\n",
       "      <td>0.000316</td>\n",
       "      <td>0.001812</td>\n",
       "      <td>0.294309</td>\n",
       "    </tr>\n",
       "    <tr>\n",
       "      <th>linearity</th>\n",
       "      <td>4950604.0</td>\n",
       "      <td>0.212150</td>\n",
       "      <td>0.111160</td>\n",
       "      <td>0.000094</td>\n",
       "      <td>0.133407</td>\n",
       "      <td>0.199924</td>\n",
       "      <td>0.273342</td>\n",
       "      <td>0.995320</td>\n",
       "    </tr>\n",
       "    <tr>\n",
       "      <th>planarity</th>\n",
       "      <td>4950604.0</td>\n",
       "      <td>0.776049</td>\n",
       "      <td>0.123752</td>\n",
       "      <td>0.003183</td>\n",
       "      <td>0.716233</td>\n",
       "      <td>0.793224</td>\n",
       "      <td>0.861449</td>\n",
       "      <td>0.999906</td>\n",
       "    </tr>\n",
       "    <tr>\n",
       "      <th>Average_radius</th>\n",
       "      <td>4950604.0</td>\n",
       "      <td>2.704819</td>\n",
       "      <td>1.208458</td>\n",
       "      <td>1.576107</td>\n",
       "      <td>1.895253</td>\n",
       "      <td>2.239377</td>\n",
       "      <td>3.208730</td>\n",
       "      <td>16.893829</td>\n",
       "    </tr>\n",
       "    <tr>\n",
       "      <th>pointsInside</th>\n",
       "      <td>4950604.0</td>\n",
       "      <td>21.418983</td>\n",
       "      <td>1.957925</td>\n",
       "      <td>1.000000</td>\n",
       "      <td>20.000000</td>\n",
       "      <td>21.000000</td>\n",
       "      <td>23.000000</td>\n",
       "      <td>93.000000</td>\n",
       "    </tr>\n",
       "    <tr>\n",
       "      <th>grad_dist</th>\n",
       "      <td>4950604.0</td>\n",
       "      <td>0.099850</td>\n",
       "      <td>0.600117</td>\n",
       "      <td>0.000000</td>\n",
       "      <td>0.000000</td>\n",
       "      <td>0.037815</td>\n",
       "      <td>0.105462</td>\n",
       "      <td>1217.734009</td>\n",
       "    </tr>\n",
       "  </tbody>\n",
       "</table>\n",
       "</div>"
      ],
      "text/plain": [
       "                    count       mean       std       min        25%  \\\n",
       "curvature       4950604.0   0.006468  0.019284  0.000000   0.000000   \n",
       "linearity       4950604.0   0.212150  0.111160  0.000094   0.133407   \n",
       "planarity       4950604.0   0.776049  0.123752  0.003183   0.716233   \n",
       "Average_radius  4950604.0   2.704819  1.208458  1.576107   1.895253   \n",
       "pointsInside    4950604.0  21.418983  1.957925  1.000000  20.000000   \n",
       "grad_dist       4950604.0   0.099850  0.600117  0.000000   0.000000   \n",
       "\n",
       "                      50%        75%          max  \n",
       "curvature        0.000316   0.001812     0.294309  \n",
       "linearity        0.199924   0.273342     0.995320  \n",
       "planarity        0.793224   0.861449     0.999906  \n",
       "Average_radius   2.239377   3.208730    16.893829  \n",
       "pointsInside    21.000000  23.000000    93.000000  \n",
       "grad_dist        0.037815   0.105462  1217.734009  "
      ]
     },
     "execution_count": 21,
     "metadata": {},
     "output_type": "execute_result"
    }
   ],
   "source": [
    "df.describe().T"
   ]
  },
  {
   "cell_type": "code",
   "execution_count": 22,
   "metadata": {},
   "outputs": [],
   "source": [
    "import os\n",
    "save_path = os.path.join(os.getcwd(), \"correlation_matrix.png\")"
   ]
  },
  {
   "cell_type": "code",
   "execution_count": null,
   "metadata": {},
   "outputs": [
    {
     "data": {
      "image/png": "[encoded data removed]",
      "text/plain": [
       "<Figure size 1200x1000 with 2 Axes>"
      ]
     },
     "metadata": {},
     "output_type": "display_data"
    }
   ],
   "source": [
    "import numpy as np\n",
    "\n",
    "# Create a mask for the upper triangle, excluding the diagonal\n",
    "mask = np.triu(np.ones_like(df.corr(), dtype=bool), k=1)\n",
    "\n",
    "plt.figure(figsize=(12, 10))\n",
    "sns.heatmap(df.corr(), annot=True, cmap=\"Blues\", fmt=\".2f\", mask=mask)\n",
    "plt.title(\"Feature Correlation Matrix\", fontsize=18)\n",
    "plt.savefig(save_path, dpi=2000, bbox_inches='tight')\n",
    "plt.show()\n"
   ]
  }
 ],
 "metadata": {
  "kernelspec": {
   "display_name": "datasim",
   "language": "python",
   "name": "python3"
  },
  "language_info": {
   "codemirror_mode": {
    "name": "ipython",
    "version": 3
   },
   "file_extension": ".py",
   "mimetype": "text/x-python",
   "name": "python",
   "nbconvert_exporter": "python",
   "pygments_lexer": "ipython3",
   "version": "3.12.5"
  }
 },
 "nbformat": 4,
 "nbformat_minor": 2
}
