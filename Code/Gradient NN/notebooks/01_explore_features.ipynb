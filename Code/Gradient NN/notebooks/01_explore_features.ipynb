{
 "cells": [
  {
   "cell_type": "code",
   "execution_count": 6,
   "metadata": {},
   "outputs": [
    {
     "name": "stderr",
     "output_type": "stream",
     "text": [
      "/tmp/ipykernel_9848/3286275869.py:11: FutureWarning: The 'delim_whitespace' keyword in pd.read_csv is deprecated and will be removed in a future version. Use ``sep='\\s+'`` instead\n",
      "  df = pd.read_csv(feature_path, delim_whitespace=True)\n"
     ]
    },
    {
     "name": "stdout",
     "output_type": "stream",
     "text": [
      "✅ Dataset loaded — shape: (1645859, 7)\n"
     ]
    },
    {
     "data": {
      "application/vnd.microsoft.datawrangler.viewer.v0+json": {
       "columns": [
        {
         "name": "index",
         "rawType": "int64",
         "type": "integer"
        },
        {
         "name": "Curvature",
         "rawType": "float64",
         "type": "float"
        },
        {
         "name": "Linearity",
         "rawType": "float64",
         "type": "float"
        },
        {
         "name": "Planarity",
         "rawType": "float64",
         "type": "float"
        },
        {
         "name": "Omnivaraiance",
         "rawType": "float64",
         "type": "float"
        },
        {
         "name": "Eigensum",
         "rawType": "float64",
         "type": "float"
        },
        {
         "name": "GradDistance",
         "rawType": "float64",
         "type": "float"
        },
        {
         "name": "Radius",
         "rawType": "float64",
         "type": "float"
        }
       ],
       "ref": "e48c0f8c-5a80-46e6-bd3f-28469542d594",
       "rows": [
        [
         "0",
         "0.004166",
         "0.299422",
         "0.693464",
         "0.317124",
         "1.307081",
         "0.227284",
         "2.038711"
        ],
        [
         "1",
         "0.004463",
         "0.091316",
         "0.900128",
         "0.291998",
         "1.165051",
         "0.211304",
         "1.058222"
        ],
        [
         "2",
         "0.00392",
         "0.144899",
         "0.8478",
         "0.297381",
         "1.240041",
         "0.219899",
         "1.157016"
        ],
        [
         "3",
         "0.004713",
         "0.181434",
         "0.809955",
         "0.36273",
         "1.425112",
         "0.235059",
         "2.171813"
        ],
        [
         "4",
         "0.004258",
         "0.255521",
         "0.737019",
         "0.290989",
         "1.186802",
         "0.212658",
         "1.789819"
        ]
       ],
       "shape": {
        "columns": 7,
        "rows": 5
       }
      },
      "text/html": [
       "<div>\n",
       "<style scoped>\n",
       "    .dataframe tbody tr th:only-of-type {\n",
       "        vertical-align: middle;\n",
       "    }\n",
       "\n",
       "    .dataframe tbody tr th {\n",
       "        vertical-align: top;\n",
       "    }\n",
       "\n",
       "    .dataframe thead th {\n",
       "        text-align: right;\n",
       "    }\n",
       "</style>\n",
       "<table border=\"1\" class=\"dataframe\">\n",
       "  <thead>\n",
       "    <tr style=\"text-align: right;\">\n",
       "      <th></th>\n",
       "      <th>Curvature</th>\n",
       "      <th>Linearity</th>\n",
       "      <th>Planarity</th>\n",
       "      <th>Omnivaraiance</th>\n",
       "      <th>Eigensum</th>\n",
       "      <th>GradDistance</th>\n",
       "      <th>Radius</th>\n",
       "    </tr>\n",
       "  </thead>\n",
       "  <tbody>\n",
       "    <tr>\n",
       "      <th>0</th>\n",
       "      <td>0.004166</td>\n",
       "      <td>0.299422</td>\n",
       "      <td>0.693464</td>\n",
       "      <td>0.317124</td>\n",
       "      <td>1.307081</td>\n",
       "      <td>0.227284</td>\n",
       "      <td>2.038711</td>\n",
       "    </tr>\n",
       "    <tr>\n",
       "      <th>1</th>\n",
       "      <td>0.004463</td>\n",
       "      <td>0.091316</td>\n",
       "      <td>0.900128</td>\n",
       "      <td>0.291998</td>\n",
       "      <td>1.165051</td>\n",
       "      <td>0.211304</td>\n",
       "      <td>1.058222</td>\n",
       "    </tr>\n",
       "    <tr>\n",
       "      <th>2</th>\n",
       "      <td>0.003920</td>\n",
       "      <td>0.144899</td>\n",
       "      <td>0.847800</td>\n",
       "      <td>0.297381</td>\n",
       "      <td>1.240041</td>\n",
       "      <td>0.219899</td>\n",
       "      <td>1.157016</td>\n",
       "    </tr>\n",
       "    <tr>\n",
       "      <th>3</th>\n",
       "      <td>0.004713</td>\n",
       "      <td>0.181434</td>\n",
       "      <td>0.809955</td>\n",
       "      <td>0.362730</td>\n",
       "      <td>1.425112</td>\n",
       "      <td>0.235059</td>\n",
       "      <td>2.171813</td>\n",
       "    </tr>\n",
       "    <tr>\n",
       "      <th>4</th>\n",
       "      <td>0.004258</td>\n",
       "      <td>0.255521</td>\n",
       "      <td>0.737019</td>\n",
       "      <td>0.290989</td>\n",
       "      <td>1.186802</td>\n",
       "      <td>0.212658</td>\n",
       "      <td>1.789819</td>\n",
       "    </tr>\n",
       "  </tbody>\n",
       "</table>\n",
       "</div>"
      ],
      "text/plain": [
       "   Curvature  Linearity  Planarity  Omnivaraiance  Eigensum  GradDistance  \\\n",
       "0   0.004166   0.299422   0.693464       0.317124  1.307081      0.227284   \n",
       "1   0.004463   0.091316   0.900128       0.291998  1.165051      0.211304   \n",
       "2   0.003920   0.144899   0.847800       0.297381  1.240041      0.219899   \n",
       "3   0.004713   0.181434   0.809955       0.362730  1.425112      0.235059   \n",
       "4   0.004258   0.255521   0.737019       0.290989  1.186802      0.212658   \n",
       "\n",
       "     Radius  \n",
       "0  2.038711  \n",
       "1  1.058222  \n",
       "2  1.157016  \n",
       "3  2.171813  \n",
       "4  1.789819  "
      ]
     },
     "execution_count": 6,
     "metadata": {},
     "output_type": "execute_result"
    }
   ],
   "source": [
    "# 01_explore_features.ipynb\n",
    "\n",
    "\n",
    "import pandas as pd\n",
    "import numpy as np\n",
    "import matplotlib.pyplot as plt\n",
    "import seaborn as sns\n",
    "\n",
    "\n",
    "feature_path = \"../Data/Training_data/meshsize_features2.txt\"\n",
    "df = pd.read_csv(feature_path, delim_whitespace=True)\n",
    "df = df.drop(columns=[\"edge_mean\", \"plane_mean\"])  # Drop the first two unnamed columns\n",
    "print(\"✅ Dataset loaded — shape:\", df.shape)\n",
    "df.head()\n"
   ]
  },
  {
   "cell_type": "code",
   "execution_count": 7,
   "metadata": {},
   "outputs": [
    {
     "data": {
      "application/vnd.microsoft.datawrangler.viewer.v0+json": {
       "columns": [
        {
         "name": "index",
         "rawType": "object",
         "type": "string"
        },
        {
         "name": "count",
         "rawType": "float64",
         "type": "float"
        },
        {
         "name": "mean",
         "rawType": "float64",
         "type": "float"
        },
        {
         "name": "std",
         "rawType": "float64",
         "type": "float"
        },
        {
         "name": "min",
         "rawType": "float64",
         "type": "float"
        },
        {
         "name": "25%",
         "rawType": "float64",
         "type": "float"
        },
        {
         "name": "50%",
         "rawType": "float64",
         "type": "float"
        },
        {
         "name": "75%",
         "rawType": "float64",
         "type": "float"
        },
        {
         "name": "max",
         "rawType": "float64",
         "type": "float"
        }
       ],
       "ref": "d7b17f8c-be84-4ebf-a3a5-60e1d6998358",
       "rows": [
        [
         "Curvature",
         "1645859.0",
         "0.005337695619734131",
         "0.018483924240030054",
         "0.0",
         "0.0",
         "0.000146",
         "0.000973",
         "0.296115"
        ],
        [
         "Linearity",
         "1645859.0",
         "0.20307152069587972",
         "0.09704862872837774",
         "0.000288",
         "0.131026",
         "0.195953",
         "0.266005",
         "0.756508"
        ],
        [
         "Planarity",
         "1645859.0",
         "0.7870584380375232",
         "0.10973712264093524",
         "0.007888",
         "0.72569",
         "0.798555",
         "0.864901",
         "0.999512"
        ],
        [
         "Omnivaraiance",
         "1645859.0",
         "0.1311150674912007",
         "0.17281158181392836",
         "0.0",
         "0.0",
         "0.097915",
         "0.188711",
         "0.974066"
        ],
        [
         "Eigensum",
         "1645859.0",
         "2.770383960486288",
         "3.9270426461030987",
         "0.80514",
         "1.196287",
         "1.26177",
         "1.407178",
         "25.756708"
        ],
        [
         "GradDistance",
         "1645859.0",
         "0.0808313992784315",
         "0.181584314641026",
         "0.0",
         "0.0",
         "0.020231",
         "0.079065",
         "34.130096"
        ],
        [
         "Radius",
         "1645859.0",
         "2.11594730607057",
         "1.254302018001884",
         "0.713991",
         "1.3284555",
         "1.850024",
         "2.127532",
         "9.683032"
        ]
       ],
       "shape": {
        "columns": 8,
        "rows": 7
       }
      },
      "text/html": [
       "<div>\n",
       "<style scoped>\n",
       "    .dataframe tbody tr th:only-of-type {\n",
       "        vertical-align: middle;\n",
       "    }\n",
       "\n",
       "    .dataframe tbody tr th {\n",
       "        vertical-align: top;\n",
       "    }\n",
       "\n",
       "    .dataframe thead th {\n",
       "        text-align: right;\n",
       "    }\n",
       "</style>\n",
       "<table border=\"1\" class=\"dataframe\">\n",
       "  <thead>\n",
       "    <tr style=\"text-align: right;\">\n",
       "      <th></th>\n",
       "      <th>count</th>\n",
       "      <th>mean</th>\n",
       "      <th>std</th>\n",
       "      <th>min</th>\n",
       "      <th>25%</th>\n",
       "      <th>50%</th>\n",
       "      <th>75%</th>\n",
       "      <th>max</th>\n",
       "    </tr>\n",
       "  </thead>\n",
       "  <tbody>\n",
       "    <tr>\n",
       "      <th>Curvature</th>\n",
       "      <td>1645859.0</td>\n",
       "      <td>0.005338</td>\n",
       "      <td>0.018484</td>\n",
       "      <td>0.000000</td>\n",
       "      <td>0.000000</td>\n",
       "      <td>0.000146</td>\n",
       "      <td>0.000973</td>\n",
       "      <td>0.296115</td>\n",
       "    </tr>\n",
       "    <tr>\n",
       "      <th>Linearity</th>\n",
       "      <td>1645859.0</td>\n",
       "      <td>0.203072</td>\n",
       "      <td>0.097049</td>\n",
       "      <td>0.000288</td>\n",
       "      <td>0.131026</td>\n",
       "      <td>0.195953</td>\n",
       "      <td>0.266005</td>\n",
       "      <td>0.756508</td>\n",
       "    </tr>\n",
       "    <tr>\n",
       "      <th>Planarity</th>\n",
       "      <td>1645859.0</td>\n",
       "      <td>0.787058</td>\n",
       "      <td>0.109737</td>\n",
       "      <td>0.007888</td>\n",
       "      <td>0.725690</td>\n",
       "      <td>0.798555</td>\n",
       "      <td>0.864901</td>\n",
       "      <td>0.999512</td>\n",
       "    </tr>\n",
       "    <tr>\n",
       "      <th>Omnivaraiance</th>\n",
       "      <td>1645859.0</td>\n",
       "      <td>0.131115</td>\n",
       "      <td>0.172812</td>\n",
       "      <td>0.000000</td>\n",
       "      <td>0.000000</td>\n",
       "      <td>0.097915</td>\n",
       "      <td>0.188711</td>\n",
       "      <td>0.974066</td>\n",
       "    </tr>\n",
       "    <tr>\n",
       "      <th>Eigensum</th>\n",
       "      <td>1645859.0</td>\n",
       "      <td>2.770384</td>\n",
       "      <td>3.927043</td>\n",
       "      <td>0.805140</td>\n",
       "      <td>1.196287</td>\n",
       "      <td>1.261770</td>\n",
       "      <td>1.407178</td>\n",
       "      <td>25.756708</td>\n",
       "    </tr>\n",
       "    <tr>\n",
       "      <th>GradDistance</th>\n",
       "      <td>1645859.0</td>\n",
       "      <td>0.080831</td>\n",
       "      <td>0.181584</td>\n",
       "      <td>0.000000</td>\n",
       "      <td>0.000000</td>\n",
       "      <td>0.020231</td>\n",
       "      <td>0.079065</td>\n",
       "      <td>34.130096</td>\n",
       "    </tr>\n",
       "    <tr>\n",
       "      <th>Radius</th>\n",
       "      <td>1645859.0</td>\n",
       "      <td>2.115947</td>\n",
       "      <td>1.254302</td>\n",
       "      <td>0.713991</td>\n",
       "      <td>1.328456</td>\n",
       "      <td>1.850024</td>\n",
       "      <td>2.127532</td>\n",
       "      <td>9.683032</td>\n",
       "    </tr>\n",
       "  </tbody>\n",
       "</table>\n",
       "</div>"
      ],
      "text/plain": [
       "                   count      mean       std       min       25%       50%  \\\n",
       "Curvature      1645859.0  0.005338  0.018484  0.000000  0.000000  0.000146   \n",
       "Linearity      1645859.0  0.203072  0.097049  0.000288  0.131026  0.195953   \n",
       "Planarity      1645859.0  0.787058  0.109737  0.007888  0.725690  0.798555   \n",
       "Omnivaraiance  1645859.0  0.131115  0.172812  0.000000  0.000000  0.097915   \n",
       "Eigensum       1645859.0  2.770384  3.927043  0.805140  1.196287  1.261770   \n",
       "GradDistance   1645859.0  0.080831  0.181584  0.000000  0.000000  0.020231   \n",
       "Radius         1645859.0  2.115947  1.254302  0.713991  1.328456  1.850024   \n",
       "\n",
       "                    75%        max  \n",
       "Curvature      0.000973   0.296115  \n",
       "Linearity      0.266005   0.756508  \n",
       "Planarity      0.864901   0.999512  \n",
       "Omnivaraiance  0.188711   0.974066  \n",
       "Eigensum       1.407178  25.756708  \n",
       "GradDistance   0.079065  34.130096  \n",
       "Radius         2.127532   9.683032  "
      ]
     },
     "execution_count": 7,
     "metadata": {},
     "output_type": "execute_result"
    }
   ],
   "source": [
    "df.describe().T"
   ]
  },
  {
   "cell_type": "code",
   "execution_count": 8,
   "metadata": {},
   "outputs": [],
   "source": [
    "import os\n",
    "save_path = os.path.join(os.getcwd(), \"correlation_matrix.png\")"
   ]
  },
  {
   "cell_type": "code",
   "execution_count": 9,
   "metadata": {},
   "outputs": [
    {
     "data": {
      "image/png": "[encoded data removed]",
      "text/plain": [
       "<Figure size 1200x1000 with 2 Axes>"
      ]
     },
     "metadata": {},
     "output_type": "display_data"
    }
   ],
   "source": [
    "import numpy as np\n",
    "\n",
    "# Create a mask for the upper triangle, excluding the diagonal\n",
    "mask = np.triu(np.ones_like(df.corr(), dtype=bool), k=1)\n",
    "\n",
    "plt.figure(figsize=(12, 10))\n",
    "sns.heatmap(df.corr(), annot=True, cmap=\"Blues\", fmt=\".2f\", mask=mask)\n",
    "plt.title(\"Feature Correlation Matrix\", fontsize=18)\n",
    "plt.savefig(save_path, dpi=2000, bbox_inches='tight')\n",
    "plt.show()\n"
   ]
  }
 ],
 "metadata": {
  "kernelspec": {
   "display_name": "datasim",
   "language": "python",
   "name": "python3"
  },
  "language_info": {
   "codemirror_mode": {
    "name": "ipython",
    "version": 3
   },
   "file_extension": ".py",
   "mimetype": "text/x-python",
   "name": "python",
   "nbconvert_exporter": "python",
   "pygments_lexer": "ipython3",
   "version": "3.12.5"
  }
 },
 "nbformat": 4,
 "nbformat_minor": 2
}
