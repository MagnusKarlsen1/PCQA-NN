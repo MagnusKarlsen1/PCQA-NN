{
 "cells": [
  {
   "cell_type": "code",
   "execution_count": null,
   "metadata": {},
   "outputs": [
    {
     "name": "stdout",
     "output_type": "stream",
     "text": [
      "✅ Dataset loaded — shape: (82910, 10)\n"
     ]
    },
    {
     "name": "stderr",
     "output_type": "stream",
     "text": [
      "C:\\Users\\magnu\\AppData\\Local\\Temp\\ipykernel_23280\\2197448887.py:11: FutureWarning: The 'delim_whitespace' keyword in pd.read_csv is deprecated and will be removed in a future version. Use ``sep='\\s+'`` instead\n",
      "  df = pd.read_csv(feature_path, delim_whitespace=True)\n"
     ]
    },
    {
     "data": {
      "application/vnd.microsoft.datawrangler.viewer.v0+json": {
       "columns": [
        {
         "name": "(None, None)",
         "rawType": "object",
         "type": "unknown"
        },
        {
         "name": "Eigenvalue_curvature",
         "rawType": "float64",
         "type": "float"
        },
        {
         "name": "anisotropy",
         "rawType": "float64",
         "type": "float"
        },
        {
         "name": "linearity",
         "rawType": "float64",
         "type": "float"
        },
        {
         "name": "planarity",
         "rawType": "float64",
         "type": "float"
        },
        {
         "name": "sphericity",
         "rawType": "float64",
         "type": "float"
        },
        {
         "name": "variation",
         "rawType": "float64",
         "type": "float"
        },
        {
         "name": "grad_x",
         "rawType": "float64",
         "type": "float"
        },
        {
         "name": "grad_y",
         "rawType": "float64",
         "type": "float"
        },
        {
         "name": "mean_curvature",
         "rawType": "float64",
         "type": "float"
        },
        {
         "name": "surface_density",
         "rawType": "float64",
         "type": "float"
        }
       ],
       "conversionMethod": "pd.DataFrame",
       "ref": "8a0e018b-87c7-4e3d-9d6f-df16b69253ba",
       "rows": [
        [
         "(np.float64(0.0), np.float64(1.0))",
         "0.263514",
         "0.736486",
         "0.0",
         "1.0",
         "1e-06",
         "1e-06",
         "1e-06",
         "2e-06",
         "-1e-06",
         "0.659777"
        ],
        [
         "(np.float64(5.4e-05), np.float64(0.999904))",
         "0.235657",
         "0.764247",
         "9.6e-05",
         "0.999904",
         "0.00089",
         "0.00053",
         "0.000401",
         "0.001104",
         "0.000676",
         "0.659777"
        ],
        [
         "(np.float64(8e-06), np.float64(0.999988))",
         "0.510406",
         "0.489582",
         "1.2e-05",
         "0.999988",
         "1e-06",
         "1e-06",
         "1e-06",
         "1e-06",
         "-1e-06",
         "0.659777"
        ],
        [
         "(np.float64(9.1e-05), np.float64(0.999876))",
         "0.63491",
         "0.364967",
         "0.000124",
         "0.999876",
         "0.003563",
         "0.002609",
         "0.00822",
         "0.008505",
         "0.008042",
         "0.659777"
        ],
        [
         "(np.float64(0.000272), np.float64(0.999499))",
         "0.160371",
         "0.839128",
         "0.000501",
         "0.999499",
         "0.046135",
         "0.046182",
         "0.014219",
         "0.027218",
         "0.009688",
         "0.659777"
        ]
       ],
       "shape": {
        "columns": 10,
        "rows": 5
       }
      },
      "text/html": [
       "<div>\n",
       "<style scoped>\n",
       "    .dataframe tbody tr th:only-of-type {\n",
       "        vertical-align: middle;\n",
       "    }\n",
       "\n",
       "    .dataframe tbody tr th {\n",
       "        vertical-align: top;\n",
       "    }\n",
       "\n",
       "    .dataframe thead th {\n",
       "        text-align: right;\n",
       "    }\n",
       "</style>\n",
       "<table border=\"1\" class=\"dataframe\">\n",
       "  <thead>\n",
       "    <tr style=\"text-align: right;\">\n",
       "      <th></th>\n",
       "      <th></th>\n",
       "      <th>Eigenvalue_curvature</th>\n",
       "      <th>anisotropy</th>\n",
       "      <th>linearity</th>\n",
       "      <th>planarity</th>\n",
       "      <th>sphericity</th>\n",
       "      <th>variation</th>\n",
       "      <th>grad_x</th>\n",
       "      <th>grad_y</th>\n",
       "      <th>mean_curvature</th>\n",
       "      <th>surface_density</th>\n",
       "    </tr>\n",
       "  </thead>\n",
       "  <tbody>\n",
       "    <tr>\n",
       "      <th>0.000000</th>\n",
       "      <th>1.000000</th>\n",
       "      <td>0.263514</td>\n",
       "      <td>0.736486</td>\n",
       "      <td>0.000000</td>\n",
       "      <td>1.000000</td>\n",
       "      <td>0.000001</td>\n",
       "      <td>0.000001</td>\n",
       "      <td>0.000001</td>\n",
       "      <td>0.000002</td>\n",
       "      <td>-0.000001</td>\n",
       "      <td>0.659777</td>\n",
       "    </tr>\n",
       "    <tr>\n",
       "      <th>0.000054</th>\n",
       "      <th>0.999904</th>\n",
       "      <td>0.235657</td>\n",
       "      <td>0.764247</td>\n",
       "      <td>0.000096</td>\n",
       "      <td>0.999904</td>\n",
       "      <td>0.000890</td>\n",
       "      <td>0.000530</td>\n",
       "      <td>0.000401</td>\n",
       "      <td>0.001104</td>\n",
       "      <td>0.000676</td>\n",
       "      <td>0.659777</td>\n",
       "    </tr>\n",
       "    <tr>\n",
       "      <th>0.000008</th>\n",
       "      <th>0.999988</th>\n",
       "      <td>0.510406</td>\n",
       "      <td>0.489582</td>\n",
       "      <td>0.000012</td>\n",
       "      <td>0.999988</td>\n",
       "      <td>0.000001</td>\n",
       "      <td>0.000001</td>\n",
       "      <td>0.000001</td>\n",
       "      <td>0.000001</td>\n",
       "      <td>-0.000001</td>\n",
       "      <td>0.659777</td>\n",
       "    </tr>\n",
       "    <tr>\n",
       "      <th>0.000091</th>\n",
       "      <th>0.999876</th>\n",
       "      <td>0.634910</td>\n",
       "      <td>0.364967</td>\n",
       "      <td>0.000124</td>\n",
       "      <td>0.999876</td>\n",
       "      <td>0.003563</td>\n",
       "      <td>0.002609</td>\n",
       "      <td>0.008220</td>\n",
       "      <td>0.008505</td>\n",
       "      <td>0.008042</td>\n",
       "      <td>0.659777</td>\n",
       "    </tr>\n",
       "    <tr>\n",
       "      <th>0.000272</th>\n",
       "      <th>0.999499</th>\n",
       "      <td>0.160371</td>\n",
       "      <td>0.839128</td>\n",
       "      <td>0.000501</td>\n",
       "      <td>0.999499</td>\n",
       "      <td>0.046135</td>\n",
       "      <td>0.046182</td>\n",
       "      <td>0.014219</td>\n",
       "      <td>0.027218</td>\n",
       "      <td>0.009688</td>\n",
       "      <td>0.659777</td>\n",
       "    </tr>\n",
       "  </tbody>\n",
       "</table>\n",
       "</div>"
      ],
      "text/plain": [
       "                   Eigenvalue_curvature  anisotropy  linearity  planarity  \\\n",
       "0.000000 1.000000              0.263514    0.736486   0.000000   1.000000   \n",
       "0.000054 0.999904              0.235657    0.764247   0.000096   0.999904   \n",
       "0.000008 0.999988              0.510406    0.489582   0.000012   0.999988   \n",
       "0.000091 0.999876              0.634910    0.364967   0.000124   0.999876   \n",
       "0.000272 0.999499              0.160371    0.839128   0.000501   0.999499   \n",
       "\n",
       "                   sphericity  variation    grad_x    grad_y  mean_curvature  \\\n",
       "0.000000 1.000000    0.000001   0.000001  0.000001  0.000002       -0.000001   \n",
       "0.000054 0.999904    0.000890   0.000530  0.000401  0.001104        0.000676   \n",
       "0.000008 0.999988    0.000001   0.000001  0.000001  0.000001       -0.000001   \n",
       "0.000091 0.999876    0.003563   0.002609  0.008220  0.008505        0.008042   \n",
       "0.000272 0.999499    0.046135   0.046182  0.014219  0.027218        0.009688   \n",
       "\n",
       "                   surface_density  \n",
       "0.000000 1.000000         0.659777  \n",
       "0.000054 0.999904         0.659777  \n",
       "0.000008 0.999988         0.659777  \n",
       "0.000091 0.999876         0.659777  \n",
       "0.000272 0.999499         0.659777  "
      ]
     },
     "execution_count": 4,
     "metadata": {},
     "output_type": "execute_result"
    }
   ],
   "source": [
    "# 01_explore_features.ipynb\n",
    "\n",
    "\n",
    "import pandas as pd\n",
    "import numpy as np\n",
    "import matplotlib.pyplot as plt\n",
    "import seaborn as sns\n",
    "\n",
    "\n",
    "feature_path = \"../Data/Training_data/Feature_list.txt\"\n",
    "df = pd.read_csv(feature_path, sep='\\s+')\n",
    "\n",
    "print(\"✅ Dataset loaded — shape:\", df.shape)\n",
    "df.head()\n"
   ]
  }
 ],
 "metadata": {
  "kernelspec": {
   "display_name": "rd",
   "language": "python",
   "name": "python3"
  },
  "language_info": {
   "codemirror_mode": {
    "name": "ipython",
    "version": 3
   },
   "file_extension": ".py",
   "mimetype": "text/x-python",
   "name": "python",
   "nbconvert_exporter": "python",
   "pygments_lexer": "ipython3",
   "version": "3.12.9"
  }
 },
 "nbformat": 4,
 "nbformat_minor": 2
}
