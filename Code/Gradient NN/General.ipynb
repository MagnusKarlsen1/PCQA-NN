{
 "cells": [
  {
   "cell_type": "markdown",
   "metadata": {},
   "source": [
    "Imports"
   ]
  },
  {
   "cell_type": "code",
   "execution_count": 3,
   "metadata": {},
   "outputs": [],
   "source": [
    "import jax.numpy as jnp\n",
    "import numpy as np\n",
    "from jax import random\n",
    "import matplotlib.pyplot as plt\n",
    "\n",
    "from flax import nnx\n",
    "import optax # optimization methods for JAX\n",
    "from tqdm.notebook import tqdm # progress bar\n"
   ]
  },
  {
   "cell_type": "markdown",
   "metadata": {},
   "source": [
    "Basic NN model with flax"
   ]
  },
  {
   "cell_type": "code",
   "execution_count": null,
   "metadata": {},
   "outputs": [],
   "source": [
    "class Model(nnx.Module):\n",
    "    def __init__(self,din,dout,rngs: nnx.Rngs):\n",
    "        self.linear1 = nnx.Linear(din,40,rngs=rngs)\n",
    "        self.linear2 = nnx.Linear(40,20,rngs=rngs)\n",
    "        self.linear3 = nnx.Linear(20,10,rngs=rngs)\n",
    "        self.linear4 = nnx.Linear(10,dout,rngs=rngs)\n",
    "        \n",
    "    def __call__(self,x):\n",
    "        y = self.linear1(x)\n",
    "        y = nnx.relu(y)\n",
    "        y = self.linear2(y)\n",
    "        y = nnx.relu(y)\n",
    "        y = self.linear3(y)\n",
    "        y = nnx.relu(y)\n",
    "        y = self.linear4(y)\n",
    "        return y\n",
    "    "
   ]
  }
 ],
 "metadata": {
  "kernelspec": {
   "display_name": "datasim",
   "language": "python",
   "name": "python3"
  },
  "language_info": {
   "codemirror_mode": {
    "name": "ipython",
    "version": 3
   },
   "file_extension": ".py",
   "mimetype": "text/x-python",
   "name": "python",
   "nbconvert_exporter": "python",
   "pygments_lexer": "ipython3",
   "version": "3.12.5"
  }
 },
 "nbformat": 4,
 "nbformat_minor": 2
}
