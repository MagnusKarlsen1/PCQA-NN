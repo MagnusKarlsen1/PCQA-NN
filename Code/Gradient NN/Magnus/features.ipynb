{
 "cells": [
  {
   "cell_type": "code",
   "execution_count": 14,
   "metadata": {},
   "outputs": [],
   "source": [
    "import jax.numpy as jnp\n",
    "from jax import jit\n",
    "import numpy as np\n",
    "from sklearn.decomposition import PCA\n",
    "import importlib\n",
    "from sklearn.decomposition import PCA\n",
    "from scipy.spatial import KDTree\n",
    "import sys\n",
    "\n",
    "sys.path.append('../src')\n",
    "import geometric_functions as gf\n",
    "importlib.reload(gf)\n",
    "\n",
    "\n",
    "sys.path.append('../../../Drawings')  # or full path if needed\n",
    "import solidworks_functions as sf\n",
    "import meshlab_functions as mf"
   ]
  },
  {
   "cell_type": "code",
   "execution_count": 8,
   "metadata": {},
   "outputs": [],
   "source": [
    "output_stl = \"./file_placement/geometry.stl\"\n",
    "output_xyz = \"./file_placement/pointcloud.xyz\""
   ]
  },
  {
   "cell_type": "code",
   "execution_count": 9,
   "metadata": {},
   "outputs": [],
   "source": [
    "params_ball = {\"radius\": 10}\n",
    "\n",
    "params_box = {\"width\": 10, \n",
    "              \"height\": 10, \n",
    "              \"length\": 10}\n",
    "\n",
    "params_curve = {\"base_length\": 50,\n",
    "                \"top_length\": 50,\n",
    "                \"length_ref\": 20,\n",
    "                \"height_ref\": 15,\n",
    "                \"surface_length\": 50}\n",
    "\n",
    "params_saddle = {\"width\": 50,\n",
    "                 \"height\": 60}"
   ]
  },
  {
   "cell_type": "code",
   "execution_count": null,
   "metadata": {},
   "outputs": [
    {
     "ename": "TypeError",
     "evalue": "Create_geometry() missing 3 required positional arguments: 'shape', 'output_path', and 'params'",
     "output_type": "error",
     "traceback": [
      "\u001b[1;31m---------------------------------------------------------------------------\u001b[0m",
      "\u001b[1;31mTypeError\u001b[0m                                 Traceback (most recent call last)",
      "Cell \u001b[1;32mIn[4], line 2\u001b[0m\n\u001b[0;32m      1\u001b[0m \u001b[38;5;66;03m#1 Create Geometry in solidworks\u001b[39;00m\n\u001b[1;32m----> 2\u001b[0m \u001b[43msf\u001b[49m\u001b[38;5;241;43m.\u001b[39;49m\u001b[43mCreate_geometry\u001b[49m\u001b[43m(\u001b[49m\u001b[43m)\u001b[49m\n\u001b[0;32m      4\u001b[0m \u001b[38;5;66;03m#2 Create pointcloud with specified distance\u001b[39;00m\n\u001b[0;32m      5\u001b[0m \n\u001b[0;32m      6\u001b[0m \n\u001b[1;32m   (...)\u001b[0m\n\u001b[0;32m     25\u001b[0m \n\u001b[0;32m     26\u001b[0m \u001b[38;5;66;03m#6 Save to txt file\u001b[39;00m\n",
      "\u001b[1;31mTypeError\u001b[0m: Create_geometry() missing 3 required positional arguments: 'shape', 'output_path', and 'params'"
     ]
    }
   ],
   "source": [
    "#1 Create Geometry in solidworks\n",
    "sf.Create_geometry(shape=\"ball\", output_path=output_stl, params=params_ball) # NOTE: Create the geometry and save it as a STL file\n",
    "\n",
    "\n",
    "#2 Create pointcloud with specified distance\n",
    "pointcloud_raw = mf.sample_stl_by_point_distance(output_stl, output_xyz, 1)\n",
    "# NOTE: Add the logic for checking quality with Leihuis function and sort them off if not good enough!\n",
    "\n",
    "#3 Preprocessing the whole cloud\n",
    "Pointcloud = gf.preprocess(pointcloud_raw)\n",
    "\n",
    "\n",
    "\n",
    "#4 Find neighbors and compute predictors\n",
    "kdtree = KDTree(Pointcloud) #NOTE: build the KDtree for finding neighbors\n",
    "\n",
    "for i in range(1,len(Pointcloud),5):\n",
    "    \n",
    "\n",
    "\n",
    "#5 Add label\n",
    "\n",
    "\n",
    "\n",
    "\n",
    "#6 Save to txt file\n",
    "\n",
    "\n",
    "\n",
    "\n",
    "\n",
    "\n",
    "\n"
   ]
  }
 ],
 "metadata": {
  "kernelspec": {
   "display_name": "rd",
   "language": "python",
   "name": "python3"
  },
  "language_info": {
   "codemirror_mode": {
    "name": "ipython",
    "version": 3
   },
   "file_extension": ".py",
   "mimetype": "text/x-python",
   "name": "python",
   "nbconvert_exporter": "python",
   "pygments_lexer": "ipython3",
   "version": "3.12.9"
  }
 },
 "nbformat": 4,
 "nbformat_minor": 2
}
