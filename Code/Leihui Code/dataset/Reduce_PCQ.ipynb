{
 "cells": [
  {
   "cell_type": "code",
   "execution_count": 86,
   "metadata": {},
   "outputs": [],
   "source": [
    "import numpy as np\n",
    "from pcdiff import knn_graph\n",
    "import open3d\n",
    "import os"
   ]
  },
  {
   "cell_type": "code",
   "execution_count": 87,
   "metadata": {},
   "outputs": [],
   "source": [
    "def reduce_points(remove_precentage, pointcloud):\n",
    "    Num_points = pointcloud.shape[0]\n",
    "    Num_remove = round(Num_points * remove_precentage)\n",
    "    Delete_rows = np.random.choice(Num_points, Num_remove, replace=False)\n",
    "    reduced_cloud = np.delete(pointcloud, Delete_rows, axis=0)\n",
    "    return reduced_cloud"
   ]
  },
  {
   "cell_type": "code",
   "execution_count": 88,
   "metadata": {},
   "outputs": [],
   "source": [
    "def delete_areas(area_size, n, pointcloud):\n",
    "    edge_index = knn_graph(pointcloud, area_size)\n",
    "    __, col = edge_index\n",
    "    Num_points = pointcloud.shape[0]    \n",
    "    Delete_centerpoints = np.random.choice(Num_points, n, replace=False)\n",
    "    Delete_col = (Delete_centerpoints[:, None] * area_size + np.arange(area_size)).flatten()\n",
    "    #edge_index_areas = np.array(edge_index_areas.flatten())\n",
    "    Delete_points = col[Delete_col]\n",
    "    cloud_with_holes = np.delete(pointcloud, Delete_points, axis=0)\n",
    "    return cloud_with_holes"
   ]
  },
  {
   "cell_type": "code",
   "execution_count": 119,
   "metadata": {},
   "outputs": [],
   "source": [
    "def PCQ_reduction(remove_percentage, area_size, n, cloud_name=\"bevel_gear.xyz\", save_to_file=False):\n",
    "    cwd = os.getcwd()\n",
    "    cloud_path = os.path.join(cwd,\"SelfGeneratedClouds\", cloud_name)\n",
    "    pointcloud = np.loadtxt(cloud_path)[:, 0:3]\n",
    "\n",
    "    reduced_cloud = reduce_points(remove_percentage, pointcloud)\n",
    "    cloud_with_holes = delete_areas(area_size, n, reduced_cloud)\n",
    "\n",
    "    pcd = open3d.geometry.PointCloud()\n",
    "    pcd.points = open3d.utility.Vector3dVector(cloud_with_holes)\n",
    "    open3d.visualization.draw_geometries([pcd])\n",
    "\n",
    "    if save_to_file:\n",
    "        filename = os.path.join(\"./SelfGeneratedClouds/Reduced_PCQ_clouds\", f\"{cloud_name[:-4]}_PDel{remove_percentage}_ADel{n}x{area_size}.xyz\")\n",
    "        np.savetxt(filename, cloud_with_holes, fmt=\"%.6f\", delimiter=\" \")\n",
    "\n",
    "    print('Number of points deleted from',cloud_name,':\\n',pointcloud.shape[0] - cloud_with_holes.shape[0])\n",
    "    \n",
    "    return "
   ]
  },
  {
   "cell_type": "code",
   "execution_count": 120,
   "metadata": {},
   "outputs": [
    {
     "name": "stdout",
     "output_type": "stream",
     "text": [
      "Number of points deleted from bevel_gear.xyz :\n",
      " 26961\n"
     ]
    }
   ],
   "source": [
    "PCQ_reduction(0.5, 100, 10, cloud_name=\"bevel_gear.xyz\", save_to_file=False)"
   ]
  }
 ],
 "metadata": {
  "kernelspec": {
   "display_name": "rd",
   "language": "python",
   "name": "python3"
  },
  "language_info": {
   "codemirror_mode": {
    "name": "ipython",
    "version": 3
   },
   "file_extension": ".py",
   "mimetype": "text/x-python",
   "name": "python",
   "nbconvert_exporter": "python",
   "pygments_lexer": "ipython3",
   "version": "3.12.9"
  }
 },
 "nbformat": 4,
 "nbformat_minor": 2
}
