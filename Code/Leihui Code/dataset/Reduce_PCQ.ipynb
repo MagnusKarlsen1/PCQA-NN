{
 "cells": [
  {
   "cell_type": "code",
   "execution_count": 41,
   "metadata": {},
   "outputs": [],
   "source": [
    "import numpy as np\n",
    "from pcdiff import knn_graph\n",
    "import open3d\n",
    "import os\n",
    "\n",
    "Perfect_cloud = np.loadtxt('C:/Users/aagaa/Documents/GitHub/R-D/Code/Leihui Code/dataset/SelfGeneratedClouds/bevel_gear.xyz')[:, 0:3]"
   ]
  },
  {
   "cell_type": "code",
   "execution_count": null,
   "metadata": {},
   "outputs": [],
   "source": [
    "def reduce_points(remove_precentage, pointcloud):\n",
    "    Num_points = pointcloud.shape[0]\n",
    "    Num_remove = round(Num_points * remove_precentage)\n",
    "    Delete_rows = np.random.choice(Num_points, Num_remove, replace=False)\n",
    "    reduced_cloud = np.delete(pointcloud, Delete_rows, axis=0)\n",
    "    return reduced_cloud"
   ]
  },
  {
   "cell_type": "code",
   "execution_count": null,
   "metadata": {},
   "outputs": [],
   "source": [
    "def delete_areas(area_size, n, pointcloud):\n",
    "    edge_index = knn_graph(pointcloud, area_size)\n",
    "    __, col = edge_index\n",
    "    Num_points = pointcloud.shape[0]    \n",
    "    Delete_centerpoints = np.random.choice(Num_points, n, replace=False)\n",
    "    Delete_col = (Delete_centerpoints[:, None] * area_size + np.arange(area_size)).flatten()\n",
    "    #edge_index_areas = np.array(edge_index_areas.flatten())\n",
    "    Delete_points = col[Delete_col]\n",
    "    cloud_with_holes = np.delete(pointcloud, Delete_points, axis=0)\n",
    "    return cloud_with_holes"
   ]
  },
  {
   "cell_type": "code",
   "execution_count": 75,
   "metadata": {},
   "outputs": [],
   "source": [
    "def PCQ_reduction(remove_percentage, area_size, n, cloud_name=\"bevel_gear.xyz\", save_to_file=False):\n",
    "    cwd = os.getcwd()\n",
    "    cloud_path = os.path.join(cwd,\"SelfGeneratedClouds\", cloud_name)\n",
    "    pointcloud = np.loadtxt(cloud_path)[:, 0:3]\n",
    "\n",
    "    reduced_cloud = reduce_points(remove_percentage, pointcloud)\n",
    "    cloud_with_holes = delete_areas(area_size, n, reduced_cloud)\n",
    "\n",
    "    pcd = open3d.geometry.PointCloud()\n",
    "    pcd.points = open3d.utility.Vector3dVector(cloud_with_holes)\n",
    "    open3d.visualization.draw_geometries([pcd])\n",
    "\n",
    "    if save_to_file:\n",
    "        filename = os.path.join(\"./SelfGeneratedClouds/Reduced_PCQ_clouds\", f\"{cloud_name[:-4]}_PDel{remove_percentage}_ADel{n}x{area_size}.xyz\")\n",
    "        np.savetxt(filename, cloud_with_holes, fmt=\"%.6f\", delimiter=\" \")\n",
    "    return cloud_withholes"
   ]
  },
  {
   "cell_type": "code",
   "execution_count": 76,
   "metadata": {},
   "outputs": [
    {
     "data": {
      "text/plain": [
       "array([[  8.      , -11.299736, -61.746037],\n",
       "       [  8.      , -11.299736, -81.378036],\n",
       "       [  9.831433,  -9.748177, -61.746037],\n",
       "       ...,\n",
       "       [  1.801079,  -7.206017,  33.972569],\n",
       "       [ -1.464375, -17.466   , -41.298035],\n",
       "       [ -7.440031,  -0.171093,  21.618855]])"
      ]
     },
     "execution_count": 76,
     "metadata": {},
     "output_type": "execute_result"
    }
   ],
   "source": [
    "PCQ_reduction(0.8, 100, 100, cloud_name=\"bevel_gear.xyz\", save_to_file=True)"
   ]
  }
 ],
 "metadata": {
  "kernelspec": {
   "display_name": "rd",
   "language": "python",
   "name": "python3"
  },
  "language_info": {
   "codemirror_mode": {
    "name": "ipython",
    "version": 3
   },
   "file_extension": ".py",
   "mimetype": "text/x-python",
   "name": "python",
   "nbconvert_exporter": "python",
   "pygments_lexer": "ipython3",
   "version": "3.12.9"
  }
 },
 "nbformat": 4,
 "nbformat_minor": 2
}
