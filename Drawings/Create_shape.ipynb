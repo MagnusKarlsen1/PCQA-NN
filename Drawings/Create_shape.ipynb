{
 "cells": [
  {
   "cell_type": "code",
   "execution_count": 161,
   "metadata": {},
   "outputs": [
    {
     "data": {
      "text/plain": [
       "<module 'solidworks_functions' from 'c:\\\\Users\\\\magnu\\\\OneDrive\\\\Dokumenter\\\\GitHub\\\\R-D\\\\Drawings\\\\solidworks_functions.py'>"
      ]
     },
     "execution_count": 161,
     "metadata": {},
     "output_type": "execute_result"
    }
   ],
   "source": [
    "import importlib\n",
    "import pandas as pd\n",
    "import numpy as np\n",
    "import pythoncom\n",
    "from win32com.client import VARIANT\n",
    "import pickle\n",
    "import solidworks_functions as sf\n",
    "import os\n",
    "from tqdm import tqdm\n",
    "from IPython.display import clear_output\n",
    "importlib.reload(sf)"
   ]
  },
  {
   "cell_type": "markdown",
   "metadata": {},
   "source": [
    "## Test"
   ]
  },
  {
   "cell_type": "code",
   "execution_count": 162,
   "metadata": {},
   "outputs": [
    {
     "name": "stdout",
     "output_type": "stream",
     "text": [
      "✅ Trying to open part: c:\\Users\\magnu\\OneDrive\\Dokumenter\\GitHub\\R-D\\Drawings\\Edge\\Box.SLDPRT\n",
      "💾 Saving to: c:\\Users\\magnu\\OneDrive\\Dokumenter\\GitHub\\R-D\\Drawings\\STL\\test.stl\n",
      "Geometry created and saved to ./STL/test.stl\n"
     ]
    }
   ],
   "source": [
    "# Set new values in the parameter file\n",
    "params = {\n",
    "    \"radius\": 100\n",
    "}\n",
    "params_box = {\"width\": 1000, \n",
    "              \"height\": 1000, \n",
    "              \"length\": 1000}\n",
    "output_path = \"./STL/test.stl\"\n",
    "\n",
    "model = sf.Create_geometry(\"box\", output_path, params_box)\n",
    "\n"
   ]
  },
  {
   "cell_type": "code",
   "execution_count": 167,
   "metadata": {},
   "outputs": [
    {
     "name": "stdout",
     "output_type": "stream",
     "text": [
      "Surface Area: 6.0 m^2\n"
     ]
    },
    {
     "data": {
      "text/plain": [
       "6.0"
      ]
     },
     "execution_count": 167,
     "metadata": {},
     "output_type": "execute_result"
    }
   ],
   "source": [
    "sf.get_surface_area(model, \"m2\")"
   ]
  },
  {
   "cell_type": "code",
   "execution_count": 3,
   "metadata": {},
   "outputs": [
    {
     "data": {
      "text/plain": [
       "<module 'meshlab_functions' from 'c:\\\\Users\\\\magnu\\\\OneDrive\\\\Dokumenter\\\\GitHub\\\\R-D\\\\Drawings\\\\meshlab_functions.py'>"
      ]
     },
     "execution_count": 3,
     "metadata": {},
     "output_type": "execute_result"
    }
   ],
   "source": [
    "import meshlab_functions as mf\n",
    "importlib.reload(mf)"
   ]
  },
  {
   "cell_type": "code",
   "execution_count": 9,
   "metadata": {},
   "outputs": [
    {
     "name": "stdout",
     "output_type": "stream",
     "text": [
      "✅ Resampled mesh saved to: ./STL/test.xyz\n"
     ]
    }
   ],
   "source": [
    "output_path_xyz = \"./STL/test.xyz\"\n",
    "mf.sample_stl_by_point_distance(output_path, output_path_xyz, 0.5)\n"
   ]
  },
  {
   "cell_type": "code",
   "execution_count": null,
   "metadata": {},
   "outputs": [
    {
     "name": "stderr",
     "output_type": "stream",
     "text": [
      "Generating geometries: 100%|██████████| 2/2 [00:19<00:00,  9.70s/it]\n"
     ]
    }
   ],
   "source": [
    "output_path = \"./STL/test.stl\"\n",
    "output_path_xyz = \"./STL/test.xyz\"\n",
    "\n",
    "\n",
    "\n",
    "for i in tqdm(range(10, 50, 1), desc=\"Generating geometries\"):\n",
    "    params[\"radius\"] = i\n",
    "    sf.Create_geometry(\"ball\", output_path, params)\n",
    "    mf.sample_stl_by_point_distance(output_path, output_path_xyz, 1)\n",
    "    point_cloud = pd.read_csv(output_path_xyz)\n",
    "    clear_output(wait=True)\n",
    "    \n",
    "    \n",
    "\n",
    "\n"
   ]
  }
 ],
 "metadata": {
  "kernelspec": {
   "display_name": "rd",
   "language": "python",
   "name": "python3"
  },
  "language_info": {
   "codemirror_mode": {
    "name": "ipython",
    "version": 3
   },
   "file_extension": ".py",
   "mimetype": "text/x-python",
   "name": "python",
   "nbconvert_exporter": "python",
   "pygments_lexer": "ipython3",
   "version": "3.12.9"
  }
 },
 "nbformat": 4,
 "nbformat_minor": 2
}
