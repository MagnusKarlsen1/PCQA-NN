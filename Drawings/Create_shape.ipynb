{
 "cells": [
  {
   "cell_type": "code",
   "execution_count": 1,
   "metadata": {},
   "outputs": [],
   "source": [
    "import importlib\n",
    "import pandas as pd\n",
    "import sys\n",
    "import numpy as np\n",
    "import pythoncom\n",
    "from win32com.client import VARIANT\n",
    "import pickle\n",
    "import solidworks_functions as sf\n",
    "import os\n",
    "from tqdm import tqdm\n",
    "from IPython.display import clear_output\n",
    "importlib.reload(sf)\n",
    "\n",
    "sys.path.append('../Code/Gradient NN/src')\n",
    "import geometric_functions as gf"
   ]
  },
  {
   "cell_type": "markdown",
   "metadata": {},
   "source": [
    "## Test"
   ]
  },
  {
   "cell_type": "code",
   "execution_count": null,
   "metadata": {},
   "outputs": [
    {
     "name": "stdout",
     "output_type": "stream",
     "text": [
      "✅ Trying to open part: c:\\Users\\magnu\\OneDrive\\Dokumenter\\GitHub\\R-D\\Drawings\\Ball\\Ball.SLDPRT\n",
      "💾 Saving to: c:\\Users\\magnu\\OneDrive\\Dokumenter\\GitHub\\R-D\\Drawings\\STL\\test.stl\n",
      "Geometry created and saved to ./STL/test.stl\n"
     ]
    }
   ],
   "source": [
    "# Set new values in the parameter file\n",
    "params = {\n",
    "    \"radius\": 10\n",
    "}\n",
    "params_box = {\"width\": 100, \n",
    "              \"height\": 100, \n",
    "              \"length\": 100}\n",
    "output_path = \"./STL/test.stl\"\n",
    "\n",
    "model = sf.Create_geometry(\"ball\", output_path, params)\n",
    "\n"
   ]
  },
  {
   "cell_type": "code",
   "execution_count": 3,
   "metadata": {},
   "outputs": [
    {
     "name": "stdout",
     "output_type": "stream",
     "text": [
      "Surface Area: 125663.70614359174 mm^2\n"
     ]
    }
   ],
   "source": [
    "area = sf.get_surface_area(model, \"mm2\")"
   ]
  },
  {
   "cell_type": "code",
   "execution_count": 4,
   "metadata": {},
   "outputs": [
    {
     "data": {
      "text/plain": [
       "<module 'meshlab_functions' from 'c:\\\\Users\\\\magnu\\\\OneDrive\\\\Dokumenter\\\\GitHub\\\\R-D\\\\Drawings\\\\meshlab_functions.py'>"
      ]
     },
     "execution_count": 4,
     "metadata": {},
     "output_type": "execute_result"
    }
   ],
   "source": [
    "import meshlab_functions as mf\n",
    "importlib.reload(mf)"
   ]
  },
  {
   "cell_type": "code",
   "execution_count": 6,
   "metadata": {},
   "outputs": [
    {
     "name": "stdout",
     "output_type": "stream",
     "text": [
      "✅ Resampled point cloud saved (XYZ only): ./STL/test.xyz\n"
     ]
    }
   ],
   "source": [
    "output_path_xyz = \"./STL/test.xyz\"\n",
    "mf.sample_stl_by_point_distance(output_path, output_path_xyz, 1)\n"
   ]
  },
  {
   "cell_type": "code",
   "execution_count": 6,
   "metadata": {},
   "outputs": [
    {
     "name": "stdout",
     "output_type": "stream",
     "text": [
      "Saved neighborhood to neighborhood.txt\n"
     ]
    }
   ],
   "source": [
    "output_path_xyz = \"./STL/test.xyz\"\n",
    "pointcloud = np.loadtxt(output_path_xyz)\n",
    "mf.save_neighborhood_to_txt(pointcloud[:,:3])"
   ]
  },
  {
   "cell_type": "code",
   "execution_count": 7,
   "metadata": {},
   "outputs": [
    {
     "data": {
      "text/plain": [
       "4.103014432909066"
      ]
     },
     "execution_count": 7,
     "metadata": {},
     "output_type": "execute_result"
    }
   ],
   "source": [
    "gf.calculate_point_density(pointcloud=pointcloud, surface_area=area)"
   ]
  },
  {
   "cell_type": "code",
   "execution_count": 13,
   "metadata": {},
   "outputs": [
    {
     "name": "stdout",
     "output_type": "stream",
     "text": [
      "Saved neighborhood to PC_holes.txt\n"
     ]
    }
   ],
   "source": [
    "pc_with_holes = mf.create_mesh_holes(pointcloud, 10, 20)\n",
    "mf.save_neighborhood_to_txt(pc_with_holes, \"PC_holes.txt\")"
   ]
  },
  {
   "cell_type": "code",
   "execution_count": 11,
   "metadata": {},
   "outputs": [
    {
     "name": "stdout",
     "output_type": "stream",
     "text": [
      "Saved neighborhood to noisePC.txt\n"
     ]
    }
   ],
   "source": [
    "Noise_PC = mf.create_noise(pc_with_holes[:,:3], 0.2, 0.1)\n",
    "\n",
    "mf.save_neighborhood_to_txt(Noise_PC, \"noisePC.txt\")"
   ]
  },
  {
   "cell_type": "code",
   "execution_count": null,
   "metadata": {},
   "outputs": [
    {
     "name": "stderr",
     "output_type": "stream",
     "text": [
      "Generating geometries: 100%|██████████| 2/2 [00:19<00:00,  9.70s/it]\n"
     ]
    }
   ],
   "source": [
    "output_path = \"./STL/test.stl\"\n",
    "output_path_xyz = \"./STL/test.xyz\"\n",
    "\n",
    "\n",
    "\n",
    "for i in tqdm(range(10, 50, 1), desc=\"Generating geometries\"):\n",
    "    params[\"radius\"] = i\n",
    "    sf.Create_geometry(\"ball\", output_path, params)\n",
    "    mf.sample_stl_by_point_distance(output_path, output_path_xyz, 1)\n",
    "    point_cloud = pd.read_csv(output_path_xyz)\n",
    "    clear_output(wait=True)\n",
    "    \n"
   ]
  }
 ],
 "metadata": {
  "kernelspec": {
   "display_name": "rd",
   "language": "python",
   "name": "python3"
  },
  "language_info": {
   "codemirror_mode": {
    "name": "ipython",
    "version": 3
   },
   "file_extension": ".py",
   "mimetype": "text/x-python",
   "name": "python",
   "nbconvert_exporter": "python",
   "pygments_lexer": "ipython3",
   "version": "3.12.9"
  }
 },
 "nbformat": 4,
 "nbformat_minor": 2
}
