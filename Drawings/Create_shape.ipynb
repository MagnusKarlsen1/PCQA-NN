{
 "cells": [
  {
   "cell_type": "code",
   "execution_count": 1,
   "metadata": {},
   "outputs": [],
   "source": [
    "import importlib\n",
    "import pandas as pd\n",
    "import sys\n",
    "import numpy as np\n",
    "import pythoncom\n",
    "from win32com.client import VARIANT\n",
    "import pickle\n",
    "import solidworks_functions as sf\n",
    "import os\n",
    "from tqdm import tqdm\n",
    "from IPython.display import clear_output\n",
    "importlib.reload(sf)\n",
    "\n",
    "sys.path.append('../Code/Gradient NN/src')\n",
    "import geometric_functions as gf"
   ]
  },
  {
   "cell_type": "markdown",
   "metadata": {},
   "source": [
    "## Test"
   ]
  },
  {
   "cell_type": "code",
   "execution_count": 2,
   "metadata": {},
   "outputs": [
    {
     "name": "stdout",
     "output_type": "stream",
     "text": [
      "✅ Trying to open part: c:\\Users\\magnu\\OneDrive\\Dokumenter\\GitHub\\R-D\\Drawings\\Ball\\Ball.SLDPRT\n",
      "💾 Saving to: c:\\Users\\magnu\\OneDrive\\Dokumenter\\GitHub\\R-D\\Drawings\\STL\\test.stl\n",
      "Geometry created and saved to ./STL/test.stl\n"
     ]
    }
   ],
   "source": [
    "# Set new values in the parameter file\n",
    "params = {\n",
    "    \"radius\": 10\n",
    "}\n",
    "params_box = {\"width\": 100, \n",
    "              \"height\": 100, \n",
    "              \"length\": 100}\n",
    "output_path = \"./STL/test.stl\"\n",
    "\n",
    "model = sf.Create_geometry(\"ball\", output_path, params)\n",
    "\n"
   ]
  },
  {
   "cell_type": "code",
   "execution_count": 3,
   "metadata": {},
   "outputs": [
    {
     "name": "stdout",
     "output_type": "stream",
     "text": [
      "Surface Area: 1256.637061435916 mm^2\n"
     ]
    }
   ],
   "source": [
    "area = sf.get_surface_area(model, \"mm2\")"
   ]
  },
  {
   "cell_type": "code",
   "execution_count": 3,
   "metadata": {},
   "outputs": [
    {
     "data": {
      "text/plain": [
       "<module 'meshlab_functions' from 'c:\\\\Users\\\\magnu\\\\OneDrive\\\\Dokumenter\\\\GitHub\\\\R-D\\\\Drawings\\\\meshlab_functions.py'>"
      ]
     },
     "execution_count": 3,
     "metadata": {},
     "output_type": "execute_result"
    }
   ],
   "source": [
    "import meshlab_functions as mf\n",
    "importlib.reload(mf)"
   ]
  },
  {
   "cell_type": "code",
   "execution_count": 4,
   "metadata": {},
   "outputs": [
    {
     "ename": "NameError",
     "evalue": "name 'output_path' is not defined",
     "output_type": "error",
     "traceback": [
      "\u001b[1;31m---------------------------------------------------------------------------\u001b[0m",
      "\u001b[1;31mNameError\u001b[0m                                 Traceback (most recent call last)",
      "Cell \u001b[1;32mIn[4], line 2\u001b[0m\n\u001b[0;32m      1\u001b[0m output_path_xyz \u001b[38;5;241m=\u001b[39m \u001b[38;5;124m\"\u001b[39m\u001b[38;5;124m./STL/test.xyz\u001b[39m\u001b[38;5;124m\"\u001b[39m\n\u001b[1;32m----> 2\u001b[0m mf\u001b[38;5;241m.\u001b[39msample_stl_by_point_distance(\u001b[43moutput_path\u001b[49m, output_path_xyz, \u001b[38;5;241m1\u001b[39m)\n",
      "\u001b[1;31mNameError\u001b[0m: name 'output_path' is not defined"
     ]
    }
   ],
   "source": [
    "output_path_xyz = \"./STL/test.xyz\"\n",
    "mf.sample_stl_by_point_distance(output_path, output_path_xyz, 1)\n"
   ]
  },
  {
   "cell_type": "code",
   "execution_count": 5,
   "metadata": {},
   "outputs": [],
   "source": [
    "from scipy.spatial import KDTree"
   ]
  },
  {
   "cell_type": "code",
   "execution_count": 6,
   "metadata": {},
   "outputs": [
    {
     "name": "stdout",
     "output_type": "stream",
     "text": [
      "Saved neighborhood to neighborhood.txt\n"
     ]
    }
   ],
   "source": [
    "output_path_xyz = \"./STL/test.xyz\"\n",
    "pointcloud = np.loadtxt(output_path_xyz)\n",
    "mf.save_neighborhood_to_txt(pointcloud[:,:3])"
   ]
  },
  {
   "cell_type": "code",
   "execution_count": 36,
   "metadata": {},
   "outputs": [
    {
     "name": "stdout",
     "output_type": "stream",
     "text": [
      "Saved neighborhood to test.txt\n"
     ]
    }
   ],
   "source": [
    "kdtree2 = KDTree(pointcloud)\n",
    "neighborhood, _, _  = gf.find_neighbors(kdtree2, 10, pointcloud,20000)\n",
    "\n",
    "mf.save_neighborhood_to_txt(neighborhood, \"test.txt\")"
   ]
  },
  {
   "cell_type": "code",
   "execution_count": 37,
   "metadata": {},
   "outputs": [
    {
     "name": "stdout",
     "output_type": "stream",
     "text": [
      "[0.045583732426166534, 0.904679536819458, 0.004213784355670214, 0.900465726852417, 0.0953204408288002, 0.9129748344421387, 2]\n"
     ]
    }
   ],
   "source": [
    "# Calculate curvature\n",
    "features_jax = gf.compute_geometric_properties(neighborhood)\n",
    "features = np.array(features_jax)  # Convert to regular NumPy array\n",
    "features = features.tolist()  \n",
    "features.append(2)\n",
    "\n",
    "print(features)"
   ]
  },
  {
   "cell_type": "code",
   "execution_count": 7,
   "metadata": {},
   "outputs": [
    {
     "data": {
      "text/plain": [
       "4.103014432909066"
      ]
     },
     "execution_count": 7,
     "metadata": {},
     "output_type": "execute_result"
    }
   ],
   "source": [
    "gf.calculate_point_density(pointcloud=pointcloud, surface_area=area)"
   ]
  },
  {
   "cell_type": "code",
   "execution_count": 13,
   "metadata": {},
   "outputs": [
    {
     "name": "stdout",
     "output_type": "stream",
     "text": [
      "Saved neighborhood to PC_holes.txt\n"
     ]
    }
   ],
   "source": [
    "pc_with_holes = mf.create_mesh_holes(pointcloud, 10, 20)\n",
    "mf.save_neighborhood_to_txt(pc_with_holes, \"PC_holes.txt\")"
   ]
  },
  {
   "cell_type": "code",
   "execution_count": null,
   "metadata": {},
   "outputs": [
    {
     "name": "stdout",
     "output_type": "stream",
     "text": [
      "Saved neighborhood to noisePC.txt\n"
     ]
    }
   ],
   "source": [
    "Noise_PC = mf.create_noise(pc_with_holes[:,:3], 0.2, 0.1)\n",
    "\n",
    "mf.save_neighborhood_to_txt(Noise_PC, \"noisePC.txt\")"
   ]
  },
  {
   "cell_type": "code",
   "execution_count": 1,
   "metadata": {},
   "outputs": [],
   "source": [
    "def find_neighbors(kdtree, index, points, searchK):\n",
    "    _, indices = kdtree.query([points[index]], k=searchK)\n",
    "    neighborhood = points[indices[0]]\n",
    "    aligned_neighborhood = standardize_patch(neighborhood)\n",
    "    \n",
    "    return aligned_neighborhood, neighborhood, indices[0]"
   ]
  },
  {
   "cell_type": "code",
   "execution_count": null,
   "metadata": {},
   "outputs": [],
   "source": []
  },
  {
   "cell_type": "code",
   "execution_count": null,
   "metadata": {},
   "outputs": [
    {
     "name": "stderr",
     "output_type": "stream",
     "text": [
      "Generating geometries: 100%|██████████| 2/2 [00:19<00:00,  9.70s/it]\n"
     ]
    }
   ],
   "source": [
    "output_path = \"./STL/test.stl\"\n",
    "output_path_xyz = \"./STL/test.xyz\"\n",
    "\n",
    "\n",
    "\n",
    "for i in tqdm(range(10, 50, 1), desc=\"Generating geometries\"):\n",
    "    params[\"radius\"] = i\n",
    "    sf.Create_geometry(\"ball\", output_path, params)\n",
    "    mf.sample_stl_by_point_distance(output_path, output_path_xyz, 1)\n",
    "    point_cloud = pd.read_csv(output_path_xyz)\n",
    "    clear_output(wait=True)\n",
    "    \n"
   ]
  }
 ],
 "metadata": {
  "kernelspec": {
   "display_name": "rd",
   "language": "python",
   "name": "python3"
  },
  "language_info": {
   "codemirror_mode": {
    "name": "ipython",
    "version": 3
   },
   "file_extension": ".py",
   "mimetype": "text/x-python",
   "name": "python",
   "nbconvert_exporter": "python",
   "pygments_lexer": "ipython3",
   "version": "3.12.9"
  }
 },
 "nbformat": 4,
 "nbformat_minor": 2
}
